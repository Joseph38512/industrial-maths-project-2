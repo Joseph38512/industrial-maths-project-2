{
 "cells": [
  {
   "cell_type": "code",
   "execution_count": 165,
   "id": "b15e1907",
   "metadata": {},
   "outputs": [],
   "source": [
    "%matplotlib inline\n",
    "import matplotlib.pyplot as plt\n",
    "plt.rcParams[\"figure.figsize\"] = (11, 5)  #set default figure size\n",
    "from random import uniform, seed\n",
    "from math import sqrt\n",
    "import numpy as np\n",
    "from Cell2D import Cell2D, draw_array\n",
    "from matplotlib.colors import LinearSegmentedColormap\n",
    "from scipy import signal\n",
    "import seaborn as sns\n",
    "from numpy import random\n",
    "palette = sns.color_palette()\n",
    "colors = 'white', 'red', 'blue', 'orange'\n",
    "cmap = LinearSegmentedColormap.from_list('cmap', colors)"
   ]
  },
  {
   "cell_type": "code",
   "execution_count": 191,
   "id": "2f5ca9fa",
   "metadata": {},
   "outputs": [],
   "source": [
    "seed(10)\n",
    "class grid_houses(Cell2D):\n",
    "    \"\"\"Represents a grid of Schelling agents.\"\"\"\n",
    "    \n",
    "    def __init__(self, n, prob_empty,kernel):\n",
    "        \"\"\"Initializes the attributes.\n",
    "        \n",
    "        n: number of rows\n",
    "        p: happiness threshold on the fraction of similar neighbors\n",
    "        \"\"\"\n",
    "        super().__init__(n)\n",
    "        self.prob_emp = prob_empty    # probability of empty cells occurring\n",
    "        self.prob_house = (1 - self.prob_emp)\n",
    "        self.kernel = kernel\n",
    "        # 0 is empty, 1 is red, 2 is blue\n",
    "        choices = np.array([0, 1], dtype = np.int8)\n",
    "        probs = [self.prob_emp, self.prob_house]\n",
    "        # use the numpy routine choice to select the different cells with probability\n",
    "\n",
    "        self.values = np.random.rand(n, n) # uniformly distribute the values\n",
    "        self.array = np.random.choice(choices, (n, n), probs)\n",
    "\n",
    "\n",
    "    def average_neighbors(self):\n",
    "        out = signal.convolve2d(self.values, self.kernel, boundary='fill', mode='same')/kernel.sum()\n",
    "        return(out)\n",
    "\n",
    "    def draw_values(self):\n",
    "        return draw_array(self.values)\n",
    "\n",
    "    def update_values(self, grid_agents):\n",
    "        self.array = self.average_neighbors() + grid_agents.affluences\n",
    "\n",
    "class grid_agents(Cell2D):\n",
    "    \"\"\"Represents a grid of Schelling agents.\"\"\"\n",
    "\n",
    "    def __init__(self, n, prob_empty,grid_houses):\n",
    "        \"\"\"Initializes the attributes.\n",
    "        \n",
    "        n: number of rows\n",
    "        p: happiness threshold on the fraction of similar neighbors\n",
    "        \"\"\"\n",
    "        super().__init__(n)\n",
    "        self.affluences = np.random.rand(n,n)\n",
    "        self.prob_emp = prob_empty    # probability of empty cells occurring\n",
    "        self.prob_rich = (1 - self.prob_emp)/3\n",
    "        self.prob_middle= (1 - self.prob_emp)/3\n",
    "        self.prob_poor = (1 - self.prob_emp)/3\n",
    "        self.size = n\n",
    "        # 0 is empty, 1 is red, 2 is blue\n",
    "        choices = np.array([0, 1,2,3], dtype = np.int8)\n",
    "        \n",
    "        probs = [self.prob_emp, self.prob_rich,self.prob_middle,self.prob_poor]\n",
    "        # use the numpy routine choice to select the different cells with probability\n",
    "        self.array = np.random.choice(choices, (n, n), probs)\n",
    "        self.array = np.multiply(self.array,grid_houses.array)\n",
    "\n",
    "    def draw(self):\n",
    "        \"\"\"Draws the cells.\"\"\"\n",
    "        return draw_array(self.array, cmap=cmap, vmax=3)\n",
    "    def draw_affluences(self):\n",
    "        return draw_array(self.affluences)\n",
    "\n",
    "    def swap_people(self):\n",
    "        i1 = random.randint(0,self.size)\n",
    "        j1 = random.randint(0,self.size)\n",
    "        i2 = random.randint(0,self.size)\n",
    "        j2 = random.randint(0,self.size)\n",
    "        a1 = self.array[i1][j1]\n",
    "        b1 = self.affluences[i1][j1]\n",
    "        self.array[i1][j1] = self.array[i2][j2]\n",
    "        self.affluences[i1][j1] = self.affluences[i2][j2]\n",
    "        self.array[i2][j2] = a1\n",
    "        self.affluences[i2][j2] = b1\n",
    "\n"
   ]
  },
  {
   "cell_type": "code",
   "execution_count": 187,
   "outputs": [],
   "source": [
    "# kernel used for counting a cell's neighbours\n",
    "kernel = np.array([[1,1,1, 1, 1],\n",
    "                   [1,1,1, 1, 1],\n",
    "                   [1,1, 0, 1,1],\n",
    "                   [1,1,1, 1, 1],\n",
    "                   [1,1,1, 1, 1]], dtype=np.int8)"
   ],
   "metadata": {
    "collapsed": false
   }
  },
  {
   "cell_type": "code",
   "execution_count": 188,
   "outputs": [],
   "source": [
    "grid_houses1 = grid_houses(10,0.1, kernel)\n",
    "\n",
    "grid_agents1 = grid_agents(10, 0.1, grid_houses1)"
   ],
   "metadata": {
    "collapsed": false
   }
  },
  {
   "cell_type": "code",
   "execution_count": 189,
   "outputs": [
    {
     "data": {
      "text/plain": "<matplotlib.image.AxesImage at 0x232c19e5150>"
     },
     "execution_count": 189,
     "metadata": {},
     "output_type": "execute_result"
    },
    {
     "data": {
      "text/plain": "<Figure size 792x360 with 1 Axes>",
      "image/png": "[encoded data removed]"
     },
     "metadata": {},
     "output_type": "display_data"
    }
   ],
   "source": [
    "grid_houses1.draw_values()"
   ],
   "metadata": {
    "collapsed": false
   }
  },
  {
   "cell_type": "code",
   "execution_count": 192,
   "outputs": [],
   "source": [
    "for i in range(10):\n",
    "    grid_agents1.swap_people()\n",
    "    grid_houses.update_values(grid_houses1,grid_agents1)"
   ],
   "metadata": {
    "collapsed": false
   }
  },
  {
   "cell_type": "code",
   "execution_count": 193,
   "id": "c655499a",
   "metadata": {},
   "outputs": [
    {
     "data": {
      "text/plain": "<matplotlib.image.AxesImage at 0x232c19f5e40>"
     },
     "execution_count": 193,
     "metadata": {},
     "output_type": "execute_result"
    },
    {
     "data": {
      "text/plain": "<Figure size 792x360 with 1 Axes>",
      "image/png": "[encoded data removed]"
     },
     "metadata": {},
     "output_type": "display_data"
    }
   ],
   "source": [
    "grid_houses1.draw_values()\n",
    "grid_agents1.draw_affluences()"
   ]
  },
  {
   "cell_type": "code",
   "execution_count": null,
   "id": "048e4ab0",
   "metadata": {},
   "outputs": [],
   "source": []
  },
  {
   "cell_type": "code",
   "execution_count": null,
   "id": "4739da79",
   "metadata": {},
   "outputs": [],
   "source": [
    "grid_houses.draw_values()\n",
    "grid_agents.draw_affluences()"
   ]
  }
 ],
 "metadata": {
  "kernelspec": {
   "display_name": "Python 3 (ipykernel)",
   "language": "python",
   "name": "python3"
  },
  "language_info": {
   "codemirror_mode": {
    "name": "ipython",
    "version": 3
   },
   "file_extension": ".py",
   "mimetype": "text/x-python",
   "name": "python",
   "nbconvert_exporter": "python",
   "pygments_lexer": "ipython3",
   "version": "3.10.2"
  }
 },
 "nbformat": 4,
 "nbformat_minor": 5
}
