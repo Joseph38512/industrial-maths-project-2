{
 "cells": [
  {
   "cell_type": "code",
   "execution_count": 1,
   "id": "b15e1907",
   "metadata": {},
   "outputs": [],
   "source": [
    "%matplotlib inline\n",
    "import matplotlib.pyplot as plt\n",
    "plt.rcParams[\"figure.figsize\"] = (11, 5)  #set default figure size\n",
    "from random import uniform, seed\n",
    "from math import sqrt\n",
    "import numpy as np\n",
    "from Cell2D import Cell2D, draw_array\n",
    "from matplotlib.colors import LinearSegmentedColormap\n",
    "from scipy import signal\n",
    "import seaborn as sns\n",
    "from matplotlib import cm\n",
    "from numpy import random\n",
    "palette = sns.color_palette()\n",
    "colors = 'white', 'red', 'blue', 'orange'\n",
    "cmap = LinearSegmentedColormap.from_list('cmap', colors)\n",
    "import warnings\n",
    "warnings.filterwarnings(\"ignore\")"
   ]
  },
  {
   "cell_type": "code",
   "execution_count": 2,
   "id": "bc14054a",
   "metadata": {},
   "outputs": [],
   "source": [
    "# Defining a cmap that we can use where zeros (empty houses) will stand out - setting them to black\n",
    "cmap_show_empty = cm.Greens.copy()\n",
    "cmap_show_empty.set_bad(color='black')"
   ]
  },
  {
   "cell_type": "code",
   "execution_count": 3,
   "id": "5d0ea427",
   "metadata": {},
   "outputs": [],
   "source": [
    "seed(10)"
   ]
  },
  {
   "cell_type": "code",
   "execution_count": 23,
   "id": "2f5ca9fa",
   "metadata": {},
   "outputs": [],
   "source": [
    "# Defining a class for the houses\n",
    "class grid_houses(Cell2D):\n",
    "    \"\"\"Represents a grid of Schelling agents.\"\"\"\n",
    "    \n",
    "    def __init__(self, n, prob_empty,kernel,seed):\n",
    "        \"\"\"Initializes the attributes.\n",
    "        \n",
    "        n: is the dimension of our square numpy array (n x n)\n",
    "\n",
    "        \"\"\"\n",
    "        super().__init__(n)\n",
    "        self.prob_empty = prob_empty    # probability of empty cells occurring\n",
    "        self.kernel = kernel\n",
    "        self.size = n\n",
    "\n",
    "        choices = np.array([0,1])\n",
    "        probs1 = [1/3, 1/3, 1/3]\n",
    "        choices1 = np.array([0.1,0.5,1], dtype = np.int8)\n",
    "        self.values = np.random.rand(n,n)\n",
    "        np.random.seed(seed)\n",
    "        self.array = np.random.choice(2, (n, n), p = [prob_empty, 1-prob_empty]) # randomly choosing which houses are empty, with probability prob_empty\n",
    "\n",
    "        self.padding = np.ones_like(self.array)\n",
    "        self.padding[0,:] = np.zeros_like(self.padding[0,:])\n",
    "        self.padding[1,:] = np.zeros_like(self.padding[1,:])\n",
    "        self.padding[-1,:] = np.zeros_like(self.padding[-1,:])\n",
    "        self.padding[-2,:] = np.zeros_like(self.padding[-2,:])\n",
    "        self.padding[:,0] = np.zeros_like(self.padding[:,0])\n",
    "        self.padding[:,1] = np.zeros_like(self.padding[:,1])\n",
    "        self.padding[:,-1] = np.zeros_like(self.padding[:,-1])\n",
    "        self.padding[:,-2] = np.zeros_like(self.padding[:,-2])\n",
    "\n",
    "        self.array = np.multiply(self.padding, self.array) # setting the house indicator to zero for the padding\n",
    "        self.values= np.multiply(self.values, self.array) # sets the house values to zero if there is no house at that spot\n",
    "\n",
    "    def average_neighbors(self):\n",
    "        '''\n",
    "        calculates the of the values of neighbors' house values, where the radius is defined by the kernel matrix. Note - boundary = fill automatically 'pads' the matrix with zeros on the boundary, which leads to lower averages there, so lower house prices near the boundary. We should look into a wrap boundary or possibly filling with a different value, eg average house price.\n",
    "        :return: array of the averages\n",
    "        '''\n",
    "        total = signal.convolve2d(self.values, self.kernel, boundary='wrap', mode='same')\n",
    "        # adding the number of total grid points\n",
    "        number = signal.convolve2d(self.array, self.kernel, boundary='wrap', mode='same')\n",
    "\n",
    "        # finding the average\n",
    "        average = np.zeros_like(self.array, dtype = float)\n",
    "        average[2:-2,2:-2] += np.divide(total[2:-2,2:-2],number[2:-2,2:-2])\n",
    "\n",
    "\n",
    "        # resetting the values to zero for squares that don't have a house\n",
    "        output = np.multiply(self.array,average)\n",
    "        output = np.multiply(output, self.array) # setting the house indicator to zero for the padding\n",
    "        return(output)\n",
    "\n",
    "    def draw_values(self):\n",
    "        '''\n",
    "        Just defined a function to draw the house values so we can draw both a map of houses and a map of house values\n",
    "        '''\n",
    "        # mask some 'bad' data, in your case you would have: data == 0\n",
    "        values = np.ma.masked_where(self.values == 0, self.values)\n",
    "        return draw_array(values[2:-2,2:-2], cmap = cmap_show_empty)\n",
    "\n",
    "    def update_values(self, grid_agents, lam):\n",
    "        '''\n",
    "        Coding for the function we use to update house prices, at a matrix level. We can use\n",
    "        :param grid_agents:\n",
    "        :param lam:\n",
    "        :return:\n",
    "        '''\n",
    "        self.values = lam*self.average_neighbors() + grid_agents.affluences\n",
    "\n",
    "    def draw_neighbors(self):\n",
    "        return draw_array(self.average_neighbors())\n"
   ]
  },
  {
   "cell_type": "code",
   "execution_count": 24,
   "id": "9710353f",
   "metadata": {},
   "outputs": [],
   "source": [
    "# Defining a class for the agents\n",
    "class grid_agents(Cell2D):\n",
    "    \"\"\"Represents a grid of Schelling agents.\"\"\"\n",
    "\n",
    "    def __init__(self, n, prob_empty,grid_houses):\n",
    "        \"\"\"Initializes the attributes.\n",
    "        \"\"\"\n",
    "        super().__init__(n)\n",
    "        self.prob_emp = prob_empty    # probability of empty cells occurring\n",
    "        self.size = n\n",
    "        choices = np.array([0.1,.5,1])\n",
    "        probs = [1/3, 1/3, 1/3]\n",
    "        self.affluences = np.random.rand(n,n)\n",
    "        self.affluences = np.multiply(self.affluences,grid_houses.array)\n",
    "\n",
    "\n",
    "    def draw(self):\n",
    "        \"\"\"Draws the cells.\"\"\"\n",
    "        return draw_array(self.array, cmap=cmap, vmax=3)\n",
    "\n",
    "    def draw_affluences(self):\n",
    "        '''\n",
    "        Draws the grid of affluences.\n",
    "        '''\n",
    "        # mask some 'bad' data, in your case you would have: data == 0\n",
    "        affluences = np.ma.masked_where(self.affluences == 0, self.affluences)\n",
    "        return draw_array(affluences, cmap = cmap_show_empty)\n",
    "\n",
    "    def swap_people(self, grid_houses):\n",
    "        '''\n",
    "        Picks two random grid elements, if they aren't zero and the delta function is greater than 0, swaps them\n",
    "        :param grid_houses: we need this as an input, since we need to get house values for the two agents, for the delta function.\n",
    "        :return:\n",
    "        '''\n",
    "        i1 = random.randint(2,self.size-2)\n",
    "        j1 = random.randint(2,self.size-2)\n",
    "        i2 = random.randint(2,self.size -2)\n",
    "        j2 = random.randint(2,self.size-2)\n",
    "\n",
    "        if j1 != j2 or i1 != i2:\n",
    "            if grid_houses.array[i1][j1] != 0 and grid_houses.array[i2][j2] != 0:\n",
    "                t1 = (grid_houses.values[i1][j1]- self.affluences[i1][j1])**2 + (grid_houses.values[i2][j2]- self.affluences[i2][j2])**2\n",
    "                t2 = (grid_houses.values[i1][j1]- self.affluences[i2][j2])**2 + (grid_houses.values[i2][j2]- self.affluences[i1][j1])**2\n",
    "                if t1 > t2:\n",
    "                    self.affluences[i2,j2], self.affluences[i1,j1] = self.affluences[i1,j1],self.affluences[i2,j2]\n",
    "\n",
    "    def swap_exists(self, grid_houses):\n",
    "        '''\n",
    "        Picks two random grid elements, if they aren't zero and the delta function is greater than 0, swaps them\n",
    "        :param grid_houses: we need this as an input, since we need to get house values for the two agents, for the delta function.\n",
    "        :return:\n",
    "        '''\n",
    "        print(self.affluences)\n",
    "        print(grid_houses.values)\n",
    "        x1 = range(self.array.shape[1])\n",
    "        x2 = range(self.array.shape[0])\n",
    "        y1 =range(self.array.shape[1])\n",
    "        y2 =range(self.array.shape[0])\n",
    "        x1 = list(x1)\n",
    "        x2 = list(x2)\n",
    "        y1 = list(y1)\n",
    "        y2 = list(y2)\n",
    "        random.shuffle(x1)\n",
    "        random.shuffle(x2)\n",
    "        random.shuffle(y1)\n",
    "        random.shuffle(y2)\n",
    "\n",
    "        for i1 in x1:\n",
    "            for j1 in x2:\n",
    "                for i2 in y1:\n",
    "                    for j2 in y2:\n",
    "                        if j1 != j2 or i1 != i2:\n",
    "                            if grid_houses.array[i1][j1] != 0 and grid_houses.array[i2][j2] != 0:\n",
    "                                t1 = (grid_houses.values[i1][j1]- self.affluences[i1][j1])**2 + (grid_houses.values[i2][j2]- self.affluences[i2][j2])**2\n",
    "                                t2 = (grid_houses.values[i1][j1]- self.affluences[i2][j2])**2 + (grid_houses.values[i2][j2]- self.affluences[i1][j1])**2\n",
    "                                # print(\"t1 =\",t1)\n",
    "                                # print(\"t2 =\",t2)\n",
    "                                if t1 > t2:\n",
    "                                    return True\n",
    "        return False"
   ]
  },
  {
   "cell_type": "code",
   "execution_count": 6,
   "id": "c8d7e6f2",
   "metadata": {},
   "outputs": [],
   "source": [
    "# kernel used for counting a cell's neighbours\n",
    "kernel = np.array([[1,1,1, 1, 1],\n",
    "                   [1,1,1, 1, 1],\n",
    "                   [1,1, 1, 1,1],\n",
    "                   [1,1,1, 1, 1],\n",
    "                   [1,1,1, 1, 1]], dtype=np.int8)"
   ]
  },
  {
   "cell_type": "markdown",
   "id": "ccc3ce82",
   "metadata": {},
   "source": [
    "## Running the code (100,000 times)"
   ]
  },
  {
   "cell_type": "markdown",
   "metadata": {
    "collapsed": false
   },
   "source": [
    "# Calculating Inequality"
   ]
  },
  {
   "cell_type": "code",
   "execution_count": 7,
   "metadata": {
    "collapsed": false
   },
   "outputs": [],
   "source": [
    "def inequality(A):\n",
    "    \"\"\"\n",
    "    Function to find inequality given the aflluence matrix A\n",
    "    \"\"\"\n",
    "    poor = 0\n",
    "    middle = 0\n",
    "    rich = 0\n",
    "\n",
    "    for x in range(np.shape(A)[0]):\n",
    "        for y in range(np.shape(A)[1]):\n",
    "            if float(A[x,y]) == 0.1:\n",
    "                poor += 1\n",
    "            elif float(A[x,y]) == 0.5:\n",
    "                middle += 1\n",
    "            elif float(A[x,y]) == 1.0:\n",
    "                rich += 1\n",
    "    sum = poor+middle+rich\n",
    "    print(f'{np.log(3)}+{poor/sum}*{np.log(poor/sum)}')\n",
    "    I = np.log(3) + (poor/sum) * np.log(poor/sum) + (middle/sum) * np.log(middle/sum) + (rich/sum) * np.log(rich/sum)\n",
    "    return(I)"
   ]
  },
  {
   "cell_type": "code",
   "execution_count": 11,
   "metadata": {
    "collapsed": false
   },
   "outputs": [],
   "source": [
    "def theil_inequality(A):\n",
    "    B = A.copy()[2:-2,2:-2]\n",
    "    avg = np.average(B)\n",
    "    print('average = ', avg)\n",
    "    L= B/avg\n",
    "    T = np.nan_to_num(L* np.log( L ) )\n",
    "    return T.mean()"
   ]
  },
  {
   "cell_type": "code",
   "execution_count": 12,
   "metadata": {
    "collapsed": false
   },
   "outputs": [
    {
     "name": "stdout",
     "output_type": "stream",
     "text": [
      "1.0986122886681098\n"
     ]
    },
    {
     "ename": "TypeError",
     "evalue": "grid_houses.__init__() missing 1 required positional argument: 'seed'",
     "output_type": "error",
     "traceback": [
      "\u001B[1;31m---------------------------------------------------------------------------\u001B[0m",
      "\u001B[1;31mTypeError\u001B[0m                                 Traceback (most recent call last)",
      "Input \u001B[1;32mIn [12]\u001B[0m, in \u001B[0;36m<module>\u001B[1;34m\u001B[0m\n\u001B[0;32m      2\u001B[0m \u001B[38;5;28mprint\u001B[39m(np\u001B[38;5;241m.\u001B[39mlog(\u001B[38;5;241m3\u001B[39m))\n\u001B[0;32m      4\u001B[0m \u001B[38;5;28;01mfor\u001B[39;00m x \u001B[38;5;129;01min\u001B[39;00m \u001B[38;5;28mrange\u001B[39m(\u001B[38;5;241m0\u001B[39m,\u001B[38;5;241m10\u001B[39m):\n\u001B[1;32m----> 5\u001B[0m     grid_houses1 \u001B[38;5;241m=\u001B[39m \u001B[43mgrid_houses\u001B[49m\u001B[43m(\u001B[49m\u001B[38;5;241;43m19\u001B[39;49m\u001B[43m,\u001B[49m\u001B[38;5;241;43m.1\u001B[39;49m\u001B[43m,\u001B[49m\u001B[43m \u001B[49m\u001B[43mkernel\u001B[49m\u001B[43m)\u001B[49m\n\u001B[0;32m      6\u001B[0m     grid_agents1 \u001B[38;5;241m=\u001B[39m grid_agents(\u001B[38;5;241m19\u001B[39m, \u001B[38;5;241m0.1\u001B[39m, grid_houses1)\n\u001B[0;32m      7\u001B[0m     inequality_values\u001B[38;5;241m.\u001B[39mappend(theil_inequality(grid_agents1\u001B[38;5;241m.\u001B[39maffluences))\n",
      "\u001B[1;31mTypeError\u001B[0m: grid_houses.__init__() missing 1 required positional argument: 'seed'"
     ]
    }
   ],
   "source": [
    "inequality_values = []\n",
    "print(np.log(3))\n",
    "\n",
    "for x in range(0,10):\n",
    "    grid_houses1 = grid_houses(19,.1, kernel)\n",
    "    grid_agents1 = grid_agents(19, 0.1, grid_houses1)\n",
    "    inequality_values.append(theil_inequality(grid_agents1.affluences))\n",
    "    print('Theil: ', theil_inequality(grid_agents1.affluences))"
   ]
  },
  {
   "cell_type": "markdown",
   "metadata": {
    "collapsed": false
   },
   "source": [
    "# Making a graph of (inflation)"
   ]
  },
  {
   "cell_type": "markdown",
   "metadata": {
    "collapsed": false
   },
   "source": [
    "# Getting convergence rates for different $\\lambda$"
   ]
  },
  {
   "cell_type": "code",
   "execution_count": 13,
   "metadata": {
    "collapsed": false
   },
   "outputs": [],
   "source": [
    "def get_convergence(lam, gridsize, p_empty, seed):\n",
    "    grid_houses1 = grid_houses(gridsize + 4,p_empty, kernel, seed)\n",
    "    grid_agents1 = grid_agents(gridsize + 4, p_empty, grid_houses1)\n",
    "    i = 0\n",
    "    j = 0\n",
    "    while i < int(gridsize**(2)/3):\n",
    "        grid_houses1.update_values(grid_agents1, lam)\n",
    "        g1 = grid_agents1.affluences.copy()\n",
    "        grid_agents1.swap_people(grid_houses1)\n",
    "        g2 = grid_agents1.affluences\n",
    "        if np.array_equal(g1,g2):\n",
    "            i += 1\n",
    "        else:\n",
    "            i = 0\n",
    "        j += 1\n",
    "    return j, np.average(grid_houses1.values)"
   ]
  },
  {
   "cell_type": "code",
   "execution_count": null,
   "metadata": {
    "collapsed": false
   },
   "outputs": [],
   "source": [
    "# graphing 'convergence' for different values of lambda\n",
    "lambdas = []\n",
    "convergence = []\n",
    "inflation = []\n",
    "\n",
    "for t in range(1,50):\n",
    "    lam = t/50\n",
    "    conv, inf = get_convergence(lam, 20, 0.2, 0)\n",
    "    lambdas.append(lam)\n",
    "    convergence.append(conv)\n",
    "    inflation.append(inf)"
   ]
  },
  {
   "cell_type": "code",
   "execution_count": null,
   "metadata": {
    "collapsed": false
   },
   "outputs": [],
   "source": [
    "plt.plot(lambdas, inflation)\n",
    "plt.title('Average House Value for different values of lambda',fontsize=20)\n",
    "plt.xlabel('Lambda',fontsize=20)\n",
    "plt.ylabel('Average House Value',fontsize=20)\n",
    "plt.savefig('lambda_inflation_2.pdf',fontsize=20)"
   ]
  },
  {
   "cell_type": "code",
   "execution_count": null,
   "metadata": {
    "collapsed": false
   },
   "outputs": [],
   "source": [
    "plt.plot(lambdas, convergence)\n",
    "plt.title('Convergence rate for different values of lambda',fontsize=20)\n",
    "plt.xlabel('Lambda',fontsize=20)\n",
    "plt.ylabel('Iterations until convergence',fontsize=20)\n",
    "plt.savefig('lambda_convergence_2.pdf')"
   ]
  },
  {
   "cell_type": "code",
   "execution_count": null,
   "metadata": {
    "collapsed": false
   },
   "outputs": [],
   "source": [
    "# graphing 'inflation' for different values of lambda\n",
    "lambdas = []\n",
    "convergence = []\n",
    "\n",
    "for t in range(1,50):\n",
    "    print(t)\n",
    "    lam = t/50\n",
    "    conv = get_convergence(lam, 20, 0.2)\n",
    "    lambdas.append(lam)\n",
    "    convergence.append(conv)"
   ]
  },
  {
   "cell_type": "markdown",
   "metadata": {
    "collapsed": false
   },
   "source": [
    "# Getting a plot for the report"
   ]
  },
  {
   "cell_type": "code",
   "execution_count": 37,
   "metadata": {
    "collapsed": false
   },
   "outputs": [],
   "source": [
    "def get_plots(lam, gridsize, p_empty, file_name):\n",
    "    i = 0\n",
    "    j = 0\n",
    "    maxi = 0\n",
    "    grid_houses1 = grid_houses(gridsize + 4,p_empty, kernel, seed =0)\n",
    "    grid_agents1 = grid_agents(gridsize + 4, p_empty, grid_houses1)\n",
    "    plt.subplot(1,2,1)\n",
    "    grid_houses1.draw_values()\n",
    "    plt.colorbar()\n",
    "    plt.title(f'Initial')\n",
    "    while i < gridsize**2/3:\n",
    "        grid_houses1.update_values(grid_agents1, lam)\n",
    "        g1 = grid_agents1.affluences.copy()\n",
    "        grid_agents1.swap_people(grid_houses1)\n",
    "        g2 = grid_agents1.affluences\n",
    "        if np.array_equal(g1,g2):\n",
    "            i += 1\n",
    "        else:\n",
    "            if i >= maxi:\n",
    "                maxi = i\n",
    "                print(\"maxi = \",maxi)\n",
    "            i = 0\n",
    "        j += 1\n",
    "        if j % 25000 == 0:\n",
    "            print(j)\n",
    "    plt.subplot(1,2,2)\n",
    "    H = get_eigenvalues(grid_houses1)\n",
    "    print(f'Segregation ',H )\n",
    "    print(f'Average House Value: ',np.average(grid_houses1.values) )\n",
    "    grid_houses1.draw_values()\n",
    "    plt.title(f'Converged')\n",
    "    plt.colorbar()\n",
    "    plt.savefig(f'{file_name}.pdf')\n",
    "    #1"
   ]
  },
  {
   "cell_type": "code",
   "execution_count": 45,
   "metadata": {
    "collapsed": false
   },
   "outputs": [
    {
     "name": "stdout",
     "output_type": "stream",
     "text": [
      "maxi =  6\n",
      "maxi =  58\n",
      "maxi =  65\n",
      "maxi =  71\n",
      "maxi =  115\n",
      "maxi =  136\n",
      "maxi =  167\n",
      "maxi =  200\n",
      "maxi =  214\n",
      "25000\n",
      "50000\n",
      "75000\n",
      "100000\n",
      "125000\n",
      "150000\n",
      "175000\n",
      "maxi =  302\n",
      "maxi =  336\n",
      "200000\n",
      "maxi =  359\n",
      "225000\n",
      "250000\n",
      "maxi =  406\n",
      "maxi =  417\n",
      "275000\n",
      "maxi =  467\n",
      "300000\n",
      "325000\n",
      "maxi =  494\n",
      "350000\n",
      "375000\n",
      "400000\n",
      "maxi =  552\n",
      "425000\n",
      "maxi =  829\n",
      "450000\n",
      "475000\n",
      "500000\n",
      "525000\n",
      "550000\n",
      "575000\n",
      "600000\n"
     ]
    },
    {
     "ename": "KeyboardInterrupt",
     "evalue": "",
     "output_type": "error",
     "traceback": [
      "\u001B[0;31m---------------------------------------------------------------------------\u001B[0m",
      "\u001B[0;31mKeyboardInterrupt\u001B[0m                         Traceback (most recent call last)",
      "\u001B[0;32m/var/folders/1z/8gdbhm9d34n3b0rvjpl0zthc0000gn/T/ipykernel_39084/1272173001.py\u001B[0m in \u001B[0;36m<module>\u001B[0;34m\u001B[0m\n\u001B[0;32m----> 1\u001B[0;31m \u001B[0mget_plots\u001B[0m\u001B[0;34m(\u001B[0m\u001B[0;36m0.5\u001B[0m\u001B[0;34m,\u001B[0m \u001B[0;36m50\u001B[0m\u001B[0;34m,\u001B[0m \u001B[0;36m0.2\u001B[0m\u001B[0;34m,\u001B[0m \u001B[0;34m'new_plot'\u001B[0m\u001B[0;34m)\u001B[0m\u001B[0;34m\u001B[0m\u001B[0;34m\u001B[0m\u001B[0m\n\u001B[0m",
      "\u001B[0;32m/var/folders/1z/8gdbhm9d34n3b0rvjpl0zthc0000gn/T/ipykernel_39084/1583144965.py\u001B[0m in \u001B[0;36mget_plots\u001B[0;34m(lam, gridsize, p_empty, file_name)\u001B[0m\n\u001B[1;32m     10\u001B[0m     \u001B[0mplt\u001B[0m\u001B[0;34m.\u001B[0m\u001B[0mtitle\u001B[0m\u001B[0;34m(\u001B[0m\u001B[0;34mf'Initial'\u001B[0m\u001B[0;34m)\u001B[0m\u001B[0;34m\u001B[0m\u001B[0;34m\u001B[0m\u001B[0m\n\u001B[1;32m     11\u001B[0m     \u001B[0;32mwhile\u001B[0m \u001B[0mi\u001B[0m \u001B[0;34m<\u001B[0m \u001B[0mgridsize\u001B[0m\u001B[0;34m**\u001B[0m\u001B[0;36m2\u001B[0m\u001B[0;34m/\u001B[0m\u001B[0;36m3\u001B[0m\u001B[0;34m:\u001B[0m\u001B[0;34m\u001B[0m\u001B[0;34m\u001B[0m\u001B[0m\n\u001B[0;32m---> 12\u001B[0;31m         \u001B[0mgrid_houses1\u001B[0m\u001B[0;34m.\u001B[0m\u001B[0mupdate_values\u001B[0m\u001B[0;34m(\u001B[0m\u001B[0mgrid_agents1\u001B[0m\u001B[0;34m,\u001B[0m \u001B[0mlam\u001B[0m\u001B[0;34m)\u001B[0m\u001B[0;34m\u001B[0m\u001B[0;34m\u001B[0m\u001B[0m\n\u001B[0m\u001B[1;32m     13\u001B[0m         \u001B[0mg1\u001B[0m \u001B[0;34m=\u001B[0m \u001B[0mgrid_agents1\u001B[0m\u001B[0;34m.\u001B[0m\u001B[0maffluences\u001B[0m\u001B[0;34m.\u001B[0m\u001B[0mcopy\u001B[0m\u001B[0;34m(\u001B[0m\u001B[0;34m)\u001B[0m\u001B[0;34m\u001B[0m\u001B[0;34m\u001B[0m\u001B[0m\n\u001B[1;32m     14\u001B[0m         \u001B[0mgrid_agents1\u001B[0m\u001B[0;34m.\u001B[0m\u001B[0mswap_people\u001B[0m\u001B[0;34m(\u001B[0m\u001B[0mgrid_houses1\u001B[0m\u001B[0;34m)\u001B[0m\u001B[0;34m\u001B[0m\u001B[0;34m\u001B[0m\u001B[0m\n",
      "\u001B[0;32m/var/folders/1z/8gdbhm9d34n3b0rvjpl0zthc0000gn/T/ipykernel_39084/2636943878.py\u001B[0m in \u001B[0;36mupdate_values\u001B[0;34m(self, grid_agents, lam)\u001B[0m\n\u001B[1;32m     66\u001B[0m         \u001B[0;34m:\u001B[0m\u001B[0;32mreturn\u001B[0m\u001B[0;34m:\u001B[0m\u001B[0;34m\u001B[0m\u001B[0;34m\u001B[0m\u001B[0m\n\u001B[1;32m     67\u001B[0m         '''\n\u001B[0;32m---> 68\u001B[0;31m         \u001B[0mself\u001B[0m\u001B[0;34m.\u001B[0m\u001B[0mvalues\u001B[0m \u001B[0;34m=\u001B[0m \u001B[0mlam\u001B[0m\u001B[0;34m*\u001B[0m\u001B[0mself\u001B[0m\u001B[0;34m.\u001B[0m\u001B[0maverage_neighbors\u001B[0m\u001B[0;34m(\u001B[0m\u001B[0;34m)\u001B[0m \u001B[0;34m+\u001B[0m \u001B[0mgrid_agents\u001B[0m\u001B[0;34m.\u001B[0m\u001B[0maffluences\u001B[0m\u001B[0;34m\u001B[0m\u001B[0;34m\u001B[0m\u001B[0m\n\u001B[0m\u001B[1;32m     69\u001B[0m \u001B[0;34m\u001B[0m\u001B[0m\n\u001B[1;32m     70\u001B[0m     \u001B[0;32mdef\u001B[0m \u001B[0mdraw_neighbors\u001B[0m\u001B[0;34m(\u001B[0m\u001B[0mself\u001B[0m\u001B[0;34m)\u001B[0m\u001B[0;34m:\u001B[0m\u001B[0;34m\u001B[0m\u001B[0;34m\u001B[0m\u001B[0m\n",
      "\u001B[0;32m/var/folders/1z/8gdbhm9d34n3b0rvjpl0zthc0000gn/T/ipykernel_39084/2636943878.py\u001B[0m in \u001B[0;36maverage_neighbors\u001B[0;34m(self)\u001B[0m\n\u001B[1;32m     37\u001B[0m         \u001B[0;34m:\u001B[0m\u001B[0;32mreturn\u001B[0m\u001B[0;34m:\u001B[0m \u001B[0marray\u001B[0m \u001B[0mof\u001B[0m \u001B[0mthe\u001B[0m \u001B[0maverages\u001B[0m\u001B[0;34m\u001B[0m\u001B[0;34m\u001B[0m\u001B[0m\n\u001B[1;32m     38\u001B[0m         '''\n\u001B[0;32m---> 39\u001B[0;31m         \u001B[0mtotal\u001B[0m \u001B[0;34m=\u001B[0m \u001B[0msignal\u001B[0m\u001B[0;34m.\u001B[0m\u001B[0mconvolve2d\u001B[0m\u001B[0;34m(\u001B[0m\u001B[0mself\u001B[0m\u001B[0;34m.\u001B[0m\u001B[0mvalues\u001B[0m\u001B[0;34m,\u001B[0m \u001B[0mself\u001B[0m\u001B[0;34m.\u001B[0m\u001B[0mkernel\u001B[0m\u001B[0;34m,\u001B[0m \u001B[0mboundary\u001B[0m\u001B[0;34m=\u001B[0m\u001B[0;34m'wrap'\u001B[0m\u001B[0;34m,\u001B[0m \u001B[0mmode\u001B[0m\u001B[0;34m=\u001B[0m\u001B[0;34m'same'\u001B[0m\u001B[0;34m)\u001B[0m\u001B[0;34m\u001B[0m\u001B[0;34m\u001B[0m\u001B[0m\n\u001B[0m\u001B[1;32m     40\u001B[0m         \u001B[0;31m# adding the number of total grid points\u001B[0m\u001B[0;34m\u001B[0m\u001B[0;34m\u001B[0m\u001B[0m\n\u001B[1;32m     41\u001B[0m         \u001B[0mnumber\u001B[0m \u001B[0;34m=\u001B[0m \u001B[0msignal\u001B[0m\u001B[0;34m.\u001B[0m\u001B[0mconvolve2d\u001B[0m\u001B[0;34m(\u001B[0m\u001B[0mself\u001B[0m\u001B[0;34m.\u001B[0m\u001B[0marray\u001B[0m\u001B[0;34m,\u001B[0m \u001B[0mself\u001B[0m\u001B[0;34m.\u001B[0m\u001B[0mkernel\u001B[0m\u001B[0;34m,\u001B[0m \u001B[0mboundary\u001B[0m\u001B[0;34m=\u001B[0m\u001B[0;34m'wrap'\u001B[0m\u001B[0;34m,\u001B[0m \u001B[0mmode\u001B[0m\u001B[0;34m=\u001B[0m\u001B[0;34m'same'\u001B[0m\u001B[0;34m)\u001B[0m\u001B[0;34m\u001B[0m\u001B[0;34m\u001B[0m\u001B[0m\n",
      "\u001B[0;32m~/opt/anaconda3/lib/python3.9/site-packages/scipy/signal/_signaltools.py\u001B[0m in \u001B[0;36mconvolve2d\u001B[0;34m(in1, in2, mode, boundary, fillvalue)\u001B[0m\n\u001B[1;32m   1715\u001B[0m     \u001B[0mval\u001B[0m \u001B[0;34m=\u001B[0m \u001B[0m_valfrommode\u001B[0m\u001B[0;34m(\u001B[0m\u001B[0mmode\u001B[0m\u001B[0;34m)\u001B[0m\u001B[0;34m\u001B[0m\u001B[0;34m\u001B[0m\u001B[0m\n\u001B[1;32m   1716\u001B[0m     \u001B[0mbval\u001B[0m \u001B[0;34m=\u001B[0m \u001B[0m_bvalfromboundary\u001B[0m\u001B[0;34m(\u001B[0m\u001B[0mboundary\u001B[0m\u001B[0;34m)\u001B[0m\u001B[0;34m\u001B[0m\u001B[0;34m\u001B[0m\u001B[0m\n\u001B[0;32m-> 1717\u001B[0;31m     \u001B[0mout\u001B[0m \u001B[0;34m=\u001B[0m \u001B[0m_sigtools\u001B[0m\u001B[0;34m.\u001B[0m\u001B[0m_convolve2d\u001B[0m\u001B[0;34m(\u001B[0m\u001B[0min1\u001B[0m\u001B[0;34m,\u001B[0m \u001B[0min2\u001B[0m\u001B[0;34m,\u001B[0m \u001B[0;36m1\u001B[0m\u001B[0;34m,\u001B[0m \u001B[0mval\u001B[0m\u001B[0;34m,\u001B[0m \u001B[0mbval\u001B[0m\u001B[0;34m,\u001B[0m \u001B[0mfillvalue\u001B[0m\u001B[0;34m)\u001B[0m\u001B[0;34m\u001B[0m\u001B[0;34m\u001B[0m\u001B[0m\n\u001B[0m\u001B[1;32m   1718\u001B[0m     \u001B[0;32mreturn\u001B[0m \u001B[0mout\u001B[0m\u001B[0;34m\u001B[0m\u001B[0;34m\u001B[0m\u001B[0m\n\u001B[1;32m   1719\u001B[0m \u001B[0;34m\u001B[0m\u001B[0m\n",
      "\u001B[0;31mKeyboardInterrupt\u001B[0m: "
     ]
    },
    {
     "data": {
      "image/png": "[encoded data removed]",
      "text/plain": [
       "<Figure size 1100x500 with 2 Axes>"
      ]
     },
     "metadata": {},
     "output_type": "display_data"
    }
   ],
   "source": [
    "get_plots(0.5, 50, 0.2, 'new_plot')"
   ]
  },
  {
   "cell_type": "code",
   "execution_count": 14,
   "metadata": {
    "collapsed": false
   },
   "outputs": [],
   "source": [
    "# Defining a class for the agents\n",
    "class grid_agents_gamma(Cell2D):\n",
    "    \"\"\"Represents a grid of Schelling agents.\"\"\"\n",
    "\n",
    "    def __init__(self, n, prob_empty,grid_houses, shape, scale):\n",
    "        \"\"\"Initializes the attributes.\n",
    "        \"\"\"\n",
    "        super().__init__(n)\n",
    "        self.prob_emp = prob_empty    # probability of empty cells occurring\n",
    "        self.size = n\n",
    "        choices = np.array([0.1,.5,1])\n",
    "        probs = [1/3, 1/3, 1/3]\n",
    "        self.affluences = np.random.gamma(shape, scale, size = (n,n))\n",
    "        self.affluences = np.multiply(self.affluences,grid_houses.array)\n",
    "\n",
    "\n",
    "    def draw(self):\n",
    "        \"\"\"Draws the cells.\"\"\"\n",
    "        return draw_array(self.array, cmap=cmap, vmax=3)\n",
    "\n",
    "    def draw_affluences(self):\n",
    "        '''\n",
    "        Draws the grid of affluences.\n",
    "        '''\n",
    "        # mask some 'bad' data, in your case you would have: data == 0\n",
    "        affluences = np.ma.masked_where(self.affluences == 0, self.affluences)\n",
    "        return draw_array(affluences, cmap = cmap_show_empty)\n",
    "\n",
    "    def swap_people(self, grid_houses):\n",
    "        '''\n",
    "        Picks two random grid elements, if they aren't zero and the delta function is greater than 0, swaps them\n",
    "        :param grid_houses: we need this as an input, since we need to get house values for the two agents, for the delta function.\n",
    "        :return:\n",
    "        '''\n",
    "        i1 = random.randint(2,self.size-2)\n",
    "        j1 = random.randint(2,self.size-2)\n",
    "        i2 = random.randint(2,self.size -2)\n",
    "        j2 = random.randint(2,self.size-2)\n",
    "\n",
    "        if j1 != j2 or i1 != i2:\n",
    "            if grid_houses.array[i1][j1] != 0 and grid_houses.array[i2][j2] != 0:\n",
    "                t1 = (grid_houses.values[i1][j1]- self.affluences[i1][j1])**2 + (grid_houses.values[i2][j2]- self.affluences[i2][j2])**2\n",
    "                t2 = (grid_houses.values[i1][j1]- self.affluences[i2][j2])**2 + (grid_houses.values[i2][j2]- self.affluences[i1][j1])**2\n",
    "                if t1 > t2:\n",
    "                    self.affluences[i2,j2], self.affluences[i1,j1] = self.affluences[i1,j1],self.affluences[i2,j2]\n",
    "\n",
    "    def swap_exists(self, grid_houses):\n",
    "        '''\n",
    "        Picks two random grid elements, if they aren't zero and the delta function is greater than 0, swaps them\n",
    "        :param grid_houses: we need this as an input, since we need to get house values for the two agents, for the delta function.\n",
    "        :return:\n",
    "        '''\n",
    "        print(self.affluences)\n",
    "        print(grid_houses.values)\n",
    "        x1 = range(self.array.shape[1])\n",
    "        x2 = range(self.array.shape[0])\n",
    "        y1 =range(self.array.shape[1])\n",
    "        y2 =range(self.array.shape[0])\n",
    "        x1 = list(x1)\n",
    "        x2 = list(x2)\n",
    "        y1 = list(y1)\n",
    "        y2 = list(y2)\n",
    "        random.shuffle(x1)\n",
    "        random.shuffle(x2)\n",
    "        random.shuffle(y1)\n",
    "        random.shuffle(y2)\n",
    "\n",
    "        for i1 in x1:\n",
    "            for j1 in x2:\n",
    "                for i2 in y1:\n",
    "                    for j2 in y2:\n",
    "                        if j1 != j2 or i1 != i2:\n",
    "                            if grid_houses.array[i1][j1] != 0 and grid_houses.array[i2][j2] != 0:\n",
    "                                t1 = (grid_houses.values[i1][j1]- self.affluences[i1][j1])**2 + (grid_houses.values[i2][j2]- self.affluences[i2][j2])**2\n",
    "                                t2 = (grid_houses.values[i1][j1]- self.affluences[i2][j2])**2 + (grid_houses.values[i2][j2]- self.affluences[i1][j1])**2\n",
    "                                # print(\"t1 =\",t1)\n",
    "                                # print(\"t2 =\",t2)\n",
    "                                if t1 > t2:\n",
    "                                    return True\n",
    "        return False"
   ]
  },
  {
   "cell_type": "code",
   "execution_count": 15,
   "metadata": {
    "collapsed": false
   },
   "outputs": [],
   "source": [
    "# getting convergence for gamma distributed affluence\n",
    "def get_gamma_convergence(lam, gridsize, p_empty,gamma_shape,gamma_scale, seed):\n",
    "    '''Returns the number of iterations required to converge, the average house value, and the theil index in that order'''\n",
    "    grid_houses1 = grid_houses(gridsize + 4,p_empty, kernel, seed)\n",
    "    grid_agents1 = grid_agents_gamma(gridsize + 4, p_empty, grid_houses1, gamma_shape, gamma_scale)\n",
    "    T = theil_inequality(grid_agents1.affluences)\n",
    "    i = 0\n",
    "    j = 0\n",
    "    while i < int(gridsize**(2)):\n",
    "        grid_houses1.update_values(grid_agents1, lam)\n",
    "        g1 = grid_agents1.affluences.copy()\n",
    "        grid_agents1.swap_people(grid_houses1)\n",
    "        g2 = grid_agents1.affluences\n",
    "        if np.array_equal(g1,g2):\n",
    "            i += 1\n",
    "        else:\n",
    "            i = 0\n",
    "        j += 1\n",
    "    return j, np.average(grid_houses1.values), T"
   ]
  },
  {
   "cell_type": "code",
   "execution_count": 16,
   "metadata": {
    "collapsed": false
   },
   "outputs": [],
   "source": [
    "def number_of_it_against_theil(gridsize,steps, seed= None):\n",
    "     \n",
    "    #creates the graph for number of iterations against theil index\n",
    "    teil_values = []\n",
    "    iterations = []\n",
    "    for x in range (steps):\n",
    "            gamma_shape = 10**(-x/50)\n",
    "            gamma_scale = 1/(2*gamma_shape)\n",
    "            values = get_gamma_convergence(0.5, gridsize, 0.2,gamma_shape,gamma_scale, seed)\n",
    "            iterations.append(values[0])\n",
    "            teil_values.append(values[2])\n",
    "            \n",
    "    plt.scatter(teil_values,iterations)\n",
    "    plt.title(f'Theil Index vs iterations to convergence')\n",
    "    plt.xlabel(f'Theil Index')\n",
    "    plt.ylabel(f'Iterations to convergence')\n",
    "    plt.savefig('thiel_index_graph.pdf')"
   ]
  },
  {
   "cell_type": "code",
   "execution_count": 17,
   "id": "58ee48b9",
   "metadata": {},
   "outputs": [
    {
     "name": "stdout",
     "output_type": "stream",
     "text": [
      "average =  0.3910543885174378\n"
     ]
    },
    {
     "ename": "KeyboardInterrupt",
     "evalue": "",
     "output_type": "error",
     "traceback": [
      "\u001B[1;31m---------------------------------------------------------------------------\u001B[0m",
      "\u001B[1;31mKeyboardInterrupt\u001B[0m                         Traceback (most recent call last)",
      "Input \u001B[1;32mIn [17]\u001B[0m, in \u001B[0;36m<module>\u001B[1;34m\u001B[0m\n\u001B[1;32m----> 1\u001B[0m \u001B[43mnumber_of_it_against_theil\u001B[49m\u001B[43m(\u001B[49m\u001B[38;5;241;43m20\u001B[39;49m\u001B[43m,\u001B[49m\u001B[38;5;241;43m20\u001B[39;49m\u001B[43m,\u001B[49m\u001B[38;5;241;43m0\u001B[39;49m\u001B[43m)\u001B[49m\n",
      "Input \u001B[1;32mIn [16]\u001B[0m, in \u001B[0;36mnumber_of_it_against_theil\u001B[1;34m(gridsize, steps, seed)\u001B[0m\n\u001B[0;32m      7\u001B[0m gamma_shape \u001B[38;5;241m=\u001B[39m \u001B[38;5;241m10\u001B[39m\u001B[38;5;241m*\u001B[39m\u001B[38;5;241m*\u001B[39m(\u001B[38;5;241m-\u001B[39mx\u001B[38;5;241m/\u001B[39m\u001B[38;5;241m50\u001B[39m)\n\u001B[0;32m      8\u001B[0m gamma_scale \u001B[38;5;241m=\u001B[39m \u001B[38;5;241m1\u001B[39m\u001B[38;5;241m/\u001B[39m(\u001B[38;5;241m2\u001B[39m\u001B[38;5;241m*\u001B[39mgamma_shape)\n\u001B[1;32m----> 9\u001B[0m values \u001B[38;5;241m=\u001B[39m \u001B[43mget_gamma_convergence\u001B[49m\u001B[43m(\u001B[49m\u001B[38;5;241;43m0.5\u001B[39;49m\u001B[43m,\u001B[49m\u001B[43m \u001B[49m\u001B[43mgridsize\u001B[49m\u001B[43m,\u001B[49m\u001B[43m \u001B[49m\u001B[38;5;241;43m0.2\u001B[39;49m\u001B[43m,\u001B[49m\u001B[43mgamma_shape\u001B[49m\u001B[43m,\u001B[49m\u001B[43mgamma_scale\u001B[49m\u001B[43m,\u001B[49m\u001B[43m \u001B[49m\u001B[43mseed\u001B[49m\u001B[43m)\u001B[49m\n\u001B[0;32m     10\u001B[0m iterations\u001B[38;5;241m.\u001B[39mappend(values[\u001B[38;5;241m0\u001B[39m])\n\u001B[0;32m     11\u001B[0m teil_values\u001B[38;5;241m.\u001B[39mappend(values[\u001B[38;5;241m2\u001B[39m])\n",
      "Input \u001B[1;32mIn [15]\u001B[0m, in \u001B[0;36mget_gamma_convergence\u001B[1;34m(lam, gridsize, p_empty, gamma_shape, gamma_scale, seed)\u001B[0m\n\u001B[0;32m      9\u001B[0m \u001B[38;5;28;01mwhile\u001B[39;00m i \u001B[38;5;241m<\u001B[39m \u001B[38;5;28mint\u001B[39m(gridsize\u001B[38;5;241m*\u001B[39m\u001B[38;5;241m*\u001B[39m(\u001B[38;5;241m2\u001B[39m)):\n\u001B[0;32m     10\u001B[0m     grid_houses1\u001B[38;5;241m.\u001B[39mupdate_values(grid_agents1, lam)\n\u001B[1;32m---> 11\u001B[0m     g1 \u001B[38;5;241m=\u001B[39m \u001B[43mgrid_agents1\u001B[49m\u001B[38;5;241;43m.\u001B[39;49m\u001B[43maffluences\u001B[49m\u001B[38;5;241;43m.\u001B[39;49m\u001B[43mcopy\u001B[49m\u001B[43m(\u001B[49m\u001B[43m)\u001B[49m\n\u001B[0;32m     12\u001B[0m     grid_agents1\u001B[38;5;241m.\u001B[39mswap_people(grid_houses1)\n\u001B[0;32m     13\u001B[0m     g2 \u001B[38;5;241m=\u001B[39m grid_agents1\u001B[38;5;241m.\u001B[39maffluences\n",
      "\u001B[1;31mKeyboardInterrupt\u001B[0m: "
     ]
    }
   ],
   "source": [
    "number_of_it_against_theil(20,20,0)"
   ]
  },
  {
   "cell_type": "code",
   "execution_count": 18,
   "metadata": {
    "collapsed": false
   },
   "outputs": [
    {
     "ename": "NameError",
     "evalue": "name 'teil_values' is not defined",
     "output_type": "error",
     "traceback": [
      "\u001B[1;31m---------------------------------------------------------------------------\u001B[0m",
      "\u001B[1;31mNameError\u001B[0m                                 Traceback (most recent call last)",
      "Input \u001B[1;32mIn [18]\u001B[0m, in \u001B[0;36m<module>\u001B[1;34m\u001B[0m\n\u001B[1;32m----> 1\u001B[0m plt\u001B[38;5;241m.\u001B[39mscatter(\u001B[43mteil_values\u001B[49m,iterations)\n\u001B[0;32m      2\u001B[0m plt\u001B[38;5;241m.\u001B[39mtitle(\u001B[38;5;124mf\u001B[39m\u001B[38;5;124m'\u001B[39m\u001B[38;5;124mTheil Index vs iterations to convergence\u001B[39m\u001B[38;5;124m'\u001B[39m)\n\u001B[0;32m      3\u001B[0m plt\u001B[38;5;241m.\u001B[39mxlabel(\u001B[38;5;124mf\u001B[39m\u001B[38;5;124m'\u001B[39m\u001B[38;5;124mTheil Index\u001B[39m\u001B[38;5;124m'\u001B[39m)\n",
      "\u001B[1;31mNameError\u001B[0m: name 'teil_values' is not defined"
     ]
    }
   ],
   "source": [
    "plt.scatter(teil_values,iterations)\n",
    "plt.title(f'Theil Index vs iterations to convergence')\n",
    "plt.xlabel(f'Theil Index')\n",
    "plt.ylabel(f'Iterations to convergence')\n",
    "plt.savefig('thiel_index_graph_1.pdf')"
   ]
  },
  {
   "cell_type": "markdown",
   "source": [
    "## Getting the segregation index\n"
   ],
   "metadata": {
    "collapsed": false
   }
  },
  {
   "cell_type": "code",
   "execution_count": 34,
   "outputs": [],
   "source": [
    "# getting the eigenvalues\n",
    "def get_eigenvalues(houses):\n",
    "    real_values = houses.values[2:-2, 2:-2]\n",
    "    w, v = np.linalg.eig(real_values)\n",
    "    w.sort()\n",
    "    w = w[1:]\n",
    "    values, counts = np.unique(w, return_counts=True)\n",
    "    p = []\n",
    "    for i in counts:\n",
    "        p.append(i/sum(counts))\n",
    "    p = np.array(p)\n",
    "    H = np.log(3*(houses.size-4)/5 - sum(np.multiply(p, np.log(p))))\n",
    "    return H"
   ],
   "metadata": {
    "collapsed": false
   }
  },
  {
   "cell_type": "code",
   "execution_count": 35,
   "outputs": [],
   "source": [
    "gridsize = 20\n",
    "p_empty = 0.2\n",
    "grid_houses1 = grid_houses(gridsize + 4,p_empty, kernel, seed = None)"
   ],
   "metadata": {
    "collapsed": false
   }
  },
  {
   "cell_type": "code",
   "execution_count": 36,
   "outputs": [
    {
     "name": "stdout",
     "output_type": "stream",
     "text": [
      "2.7043392559992725\n"
     ]
    }
   ],
   "source": [
    "print(get_eigenvalues(grid_houses1))"
   ],
   "metadata": {
    "collapsed": false
   }
  },
  {
   "cell_type": "code",
   "execution_count": 40,
   "outputs": [
    {
     "name": "stdout",
     "output_type": "stream",
     "text": [
      "maxi =  40\n",
      "maxi =  62\n",
      "maxi =  64\n",
      "maxi =  74\n",
      "maxi =  98\n",
      "maxi =  111\n",
      "maxi =  111\n",
      "maxi =  112\n",
      "Average House Value:  0.5474977414241571\n"
     ]
    },
    {
     "data": {
      "text/plain": "<Figure size 792x360 with 4 Axes>",
      "image/png": "[encoded data removed]"
     },
     "metadata": {
      "needs_background": "light"
     },
     "output_type": "display_data"
    }
   ],
   "source": [
    "get_plots(0.5, 20, 0.2, 'new_plot')"
   ],
   "metadata": {
    "collapsed": false
   }
  },
  {
   "cell_type": "code",
   "execution_count": 41,
   "outputs": [
    {
     "name": "stdout",
     "output_type": "stream",
     "text": [
      "2.7043392559992725\n"
     ]
    }
   ],
   "source": [
    "print(get_eigenvalues(grid_houses1))"
   ],
   "metadata": {
    "collapsed": false
   }
  },
  {
   "cell_type": "code",
   "execution_count": null,
   "outputs": [],
   "source": [],
   "metadata": {
    "collapsed": false
   }
  }
 ],
 "metadata": {
  "kernelspec": {
   "display_name": "Python 3.9.13 ('base')",
   "language": "python",
   "name": "python3"
  },
  "language_info": {
   "codemirror_mode": {
    "name": "ipython",
    "version": 3
   },
   "file_extension": ".py",
   "mimetype": "text/x-python",
   "name": "python",
   "nbconvert_exporter": "python",
   "pygments_lexer": "ipython3",
   "version": "3.9.13"
  },
  "vscode": {
   "interpreter": {
    "hash": "263f43d4fc116f0e83ae0dbd5a33e4be457aee84a24e85cc45877ca1cd056e79"
   }
  }
 },
 "nbformat": 4,
 "nbformat_minor": 5
}
