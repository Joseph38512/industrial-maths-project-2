{
 "cells": [
  {
   "cell_type": "code",
   "execution_count": 103,
   "id": "b15e1907",
   "metadata": {},
   "outputs": [],
   "source": [
    "%matplotlib inline\n",
    "import matplotlib.pyplot as plt\n",
    "plt.rcParams[\"figure.figsize\"] = (11, 5)  #set default figure size\n",
    "from random import uniform, seed\n",
    "from math import sqrt\n",
    "import numpy as np\n",
    "from Cell2D import Cell2D, draw_array\n",
    "from matplotlib.colors import LinearSegmentedColormap\n",
    "from scipy import signal\n",
    "import seaborn as sns\n",
    "from numpy import random\n",
    "palette = sns.color_palette()\n",
    "colors = 'white', 'red', 'blue', 'orange'\n",
    "cmap = LinearSegmentedColormap.from_list('cmap', colors)"
   ]
  },
  {
   "cell_type": "code",
   "execution_count": 104,
   "id": "2f5ca9fa",
   "metadata": {},
   "outputs": [],
   "source": [
    "seed(10)\n",
    "class grid_houses(Cell2D):\n",
    "    \"\"\"Represents a grid of Schelling agents.\"\"\"\n",
    "    \n",
    "    def __init__(self, n, prob_empty,kernel):\n",
    "        \"\"\"Initializes the attributes.\n",
    "        \n",
    "        n: number of rows\n",
    "        p: happiness threshold on the fraction of similar neighbors\n",
    "        \"\"\"\n",
    "        super().__init__(n)\n",
    "        self.prob_emp = prob_empty    # probability of empty cells occurring\n",
    "        self.prob_house = (1 - self.prob_emp)\n",
    "        self.kernel = kernel\n",
    "        # 0 is empty, 1 is red, 2 is blue\n",
    "        choices = np.array([0, 1], dtype = np.int8)\n",
    "        probs = [self.prob_emp, self.prob_house]\n",
    "        # use the numpy routine choice to select the different cells with probability\n",
    "\n",
    "        self.values = np.random.rand(n, n) # uniformly distribute the values\n",
    "        self.array = np.random.choice(choices, (n, n), probs)\n",
    "\n",
    "\n",
    "    def average_neighbors(self):\n",
    "        out = signal.convolve2d(self.values, self.kernel, boundary='fill', mode='same')/kernel.sum()\n",
    "        return(out)\n",
    "\n",
    "    def draw_values(self):\n",
    "        return draw_array(self.values)\n",
    "\n",
    "class grid_agents(Cell2D):\n",
    "    \"\"\"Represents a grid of Schelling agents.\"\"\"\n",
    "\n",
    "    def __init__(self, n, prob_empty,grid_houses):\n",
    "        \"\"\"Initializes the attributes.\n",
    "        \n",
    "        n: number of rows\n",
    "        p: happiness threshold on the fraction of similar neighbors\n",
    "        \"\"\"\n",
    "        super().__init__(n)\n",
    "        self.affluences = np.random.rand(n,n)\n",
    "        self.prob_emp = prob_empty    # probability of empty cells occurring\n",
    "        self.prob_rich = (1 - self.prob_emp)/3\n",
    "        self.prob_middle= (1 - self.prob_emp)/3\n",
    "        self.prob_poor = (1 - self.prob_emp)/3\n",
    "        self.size = n\n",
    "        # 0 is empty, 1 is red, 2 is blue\n",
    "        choices = np.array([0, 1,2,3], dtype = np.int8)\n",
    "        \n",
    "        probs = [self.prob_emp, self.prob_rich,self.prob_middle,self.prob_poor]\n",
    "        # use the numpy routine choice to select the different cells with probability\n",
    "        self.array = np.random.choice(choices, (n, n), probs)\n",
    "        self.array = np.multiply(self.array,grid_houses.array)\n",
    "\n",
    "    def draw(self):\n",
    "        \"\"\"Draws the cells.\"\"\"\n",
    "        return draw_array(self.array, cmap=cmap, vmax=3)\n",
    "    def draw_affluences(self):\n",
    "        return draw_array(self.affluences)\n",
    "\n",
    "    def swap_people(self):\n",
    "        i1 = random.randint(0,self.size)\n",
    "        j1 = random.randint(0,self.size)\n",
    "        i2 = random.randint(0,self.size)\n",
    "        j2 = random.randint(0,self.size)\n",
    "        a1 = self.array[i1][j1]\n",
    "        b1 = self.affluences[i1][j1]\n",
    "        self.array[i1][j1] = self.array[i2][j2]\n",
    "        self.affluences[i1][j1] = self.affluences[i2][j2]\n",
    "        self.array[i2][j2] = a1\n",
    "        self.affluences[i2][j2] = b1\n",
    "\n"
   ]
  },
  {
   "cell_type": "code",
   "execution_count": 105,
   "outputs": [],
   "source": [
    "# kernel used for counting a cell's neighbours\n",
    "kernel = np.array([[1,1,1, 1, 1],\n",
    "                   [1,1,1, 1, 1],\n",
    "                   [1,1, 0, 1,1],\n",
    "                   [1,1,1, 1, 1],\n",
    "                   [1,1,1, 1, 1]], dtype=np.int8)"
   ],
   "metadata": {
    "collapsed": false
   }
  },
  {
   "cell_type": "code",
   "execution_count": 114,
   "outputs": [
    {
     "name": "stdout",
     "output_type": "stream",
     "text": [
      "<__main__.grid_houses object at 0x00000232BDF30280>\n",
      "<__main__.grid_agents object at 0x00000232BDF305E0>\n"
     ]
    }
   ],
   "source": [
    "grid_houses1 = grid_houses(20,0.1, kernel)\n",
    "print(grid_houses1)\n",
    "grid_agents1 = grid_agents(20, 0.1, grid_houses1)\n",
    "print(grid_agents1)"
   ],
   "metadata": {
    "collapsed": false
   }
  },
  {
   "cell_type": "code",
   "execution_count": 115,
   "id": "c655499a",
   "metadata": {},
   "outputs": [
    {
     "data": {
      "text/plain": "<matplotlib.image.AxesImage at 0x232bece5960>"
     },
     "execution_count": 115,
     "metadata": {},
     "output_type": "execute_result"
    },
    {
     "data": {
      "text/plain": "<Figure size 792x360 with 1 Axes>",
      "image/png": "[encoded data removed]"
     },
     "metadata": {},
     "output_type": "display_data"
    }
   ],
   "source": [
    "grid_houses1.draw_values()\n",
    "grid_agents1.draw_affluences()"
   ]
  },
  {
   "cell_type": "code",
   "execution_count": 116,
   "outputs": [
    {
     "name": "stdout",
     "output_type": "stream",
     "text": [
      "<__main__.grid_agents object at 0x00000232BDF305E0>\n"
     ]
    }
   ],
   "source": [
    "print(grid_agents1)"
   ],
   "metadata": {
    "collapsed": false
   }
  },
  {
   "cell_type": "code",
   "execution_count": 117,
   "id": "048e4ab0",
   "metadata": {},
   "outputs": [
    {
     "ename": "AttributeError",
     "evalue": "'NoneType' object has no attribute 'affluences'",
     "output_type": "error",
     "traceback": [
      "\u001B[1;31m---------------------------------------------------------------------------\u001B[0m",
      "\u001B[1;31mAttributeError\u001B[0m                            Traceback (most recent call last)",
      "Input \u001B[1;32mIn [117]\u001B[0m, in \u001B[0;36m<module>\u001B[1;34m\u001B[0m\n\u001B[0;32m      1\u001B[0m \u001B[38;5;28;01mfor\u001B[39;00m i \u001B[38;5;129;01min\u001B[39;00m \u001B[38;5;28mrange\u001B[39m(\u001B[38;5;241m500\u001B[39m):\n\u001B[1;32m----> 2\u001B[0m     grid_houses1\u001B[38;5;241m.\u001B[39mvalues \u001B[38;5;241m+\u001B[39m\u001B[38;5;241m=\u001B[39m \u001B[43mgrid_agents1\u001B[49m\u001B[38;5;241;43m.\u001B[39;49m\u001B[43maffluences\u001B[49m \u001B[38;5;241m+\u001B[39m grid_houses1\u001B[38;5;241m.\u001B[39maverage_neighbors()\n\u001B[0;32m      3\u001B[0m     grid_agents1 \u001B[38;5;241m=\u001B[39m grid_agents1\u001B[38;5;241m.\u001B[39mswap_people()\n",
      "\u001B[1;31mAttributeError\u001B[0m: 'NoneType' object has no attribute 'affluences'"
     ]
    }
   ],
   "source": [
    "for i in range(500):\n",
    "\n",
    "    grid_agents1 = grid_agents1.swap_people()\n"
   ]
  },
  {
   "cell_type": "code",
   "execution_count": null,
   "id": "4739da79",
   "metadata": {},
   "outputs": [],
   "source": [
    "grid_houses.draw_values()\n",
    "grid_agents.draw_affluences()"
   ]
  }
 ],
 "metadata": {
  "kernelspec": {
   "display_name": "Python 3 (ipykernel)",
   "language": "python",
   "name": "python3"
  },
  "language_info": {
   "codemirror_mode": {
    "name": "ipython",
    "version": 3
   },
   "file_extension": ".py",
   "mimetype": "text/x-python",
   "name": "python",
   "nbconvert_exporter": "python",
   "pygments_lexer": "ipython3",
   "version": "3.10.2"
  }
 },
 "nbformat": 4,
 "nbformat_minor": 5
}
