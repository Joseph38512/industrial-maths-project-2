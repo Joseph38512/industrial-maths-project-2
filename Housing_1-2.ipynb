{
 "cells": [
  {
   "cell_type": "code",
   "execution_count": 1,
   "id": "b15e1907",
   "metadata": {},
   "outputs": [],
   "source": [
    "%matplotlib inline\n",
    "import matplotlib.pyplot as plt\n",
    "plt.rcParams[\"figure.figsize\"] = (11, 5)  #set default figure size\n",
    "from random import uniform, seed\n",
    "from math import sqrt\n",
    "import numpy as np\n",
    "from Cell2D import Cell2D, draw_array\n",
    "from matplotlib.colors import LinearSegmentedColormap\n",
    "from scipy import signal\n",
    "import seaborn as sns\n",
    "from matplotlib import cm\n",
    "from numpy import random\n",
    "palette = sns.color_palette()\n",
    "colors = 'white', 'red', 'blue', 'orange'\n",
    "cmap = LinearSegmentedColormap.from_list('cmap', colors)\n",
    "import warnings\n",
    "warnings.filterwarnings(\"ignore\")"
   ]
  },
  {
   "cell_type": "code",
   "execution_count": 123,
   "id": "bc14054a",
   "metadata": {},
   "outputs": [],
   "source": [
    "# Defining a cmap that we can use where zeros (empty houses) will stand out - setting them to black\n",
    "cmap_show_empty = cm.Greens.copy()\n",
    "cmap_show_empty.set_bad(color='red')\n",
    "cmap.set_under('black')\n",
    "#cmap_show_empty.set_bad(color='red', alpha = 1)"
   ]
  },
  {
   "cell_type": "code",
   "execution_count": 125,
   "id": "5d0ea427",
   "metadata": {},
   "outputs": [],
   "source": [
    "seed(10)"
   ]
  },
  {
   "cell_type": "code",
   "execution_count": 198,
   "id": "2f5ca9fa",
   "metadata": {},
   "outputs": [],
   "source": [
    "# Defining a class for the houses\n",
    "class grid_houses(Cell2D):\n",
    "    \"\"\"Represents a grid of Schelling agents.\"\"\"\n",
    "    \n",
    "    def __init__(self, n, prob_empty,kernel,seed):\n",
    "        \"\"\"Initializes the attributes.\n",
    "        \n",
    "        n: is the dimension of our square numpy array (n x n)\n",
    "\n",
    "        \"\"\"\n",
    "        super().__init__(n)\n",
    "        self.prob_empty = prob_empty    # probability of empty cells occurring\n",
    "        self.kernel = kernel\n",
    "        self.size = n\n",
    "\n",
    "        choices = np.array([0,1])\n",
    "        probs1 = [1/3, 1/3, 1/3]\n",
    "        choices1 = np.array([0.1,0.5,1], dtype = np.int8)\n",
    "        self.values = np.random.rand(n,n)\n",
    "        np.random.seed(seed)\n",
    "        self.array = np.random.choice(2, (n, n), p = [prob_empty, 1-prob_empty]) # randomly choosing which houses are empty, with probability prob_empty\n",
    "        self.padding = np.ones_like(self.array)\n",
    "        self.padding[0,:] = np.zeros_like(self.padding[0,:])\n",
    "        self.padding[1,:] = np.zeros_like(self.padding[1,:])\n",
    "        self.padding[-1,:] = np.zeros_like(self.padding[-1,:])\n",
    "        self.padding[-2,:] = np.zeros_like(self.padding[-2,:])\n",
    "        self.padding[:,0] = np.zeros_like(self.padding[:,0])\n",
    "        self.padding[:,1] = np.zeros_like(self.padding[:,1])\n",
    "        self.padding[:,-1] = np.zeros_like(self.padding[:,-1])\n",
    "        self.padding[:,-2] = np.zeros_like(self.padding[:,-2])\n",
    "\n",
    "        self.array = np.multiply(self.padding, self.array) # setting the house indicator to zero for the padding\n",
    "        self.values= np.multiply(self.values, self.array) # sets the house values to zero if there is no house at that spot\n",
    "\n",
    "    def average_neighbors(self):\n",
    "        '''\n",
    "        calculates the of the values of neighbors' house values, where the radius is defined by the kernel matrix. Note - boundary = fill automatically 'pads' the matrix with zeros on the boundary, which leads to lower averages there, so lower house prices near the boundary. We should look into a wrap boundary or possibly filling with a different value, eg average house price.\n",
    "        :return: array of the averages\n",
    "        '''\n",
    "        total = signal.convolve2d(self.values, self.kernel, boundary='wrap', mode='same')\n",
    "        # adding the number of total grid points\n",
    "        number = signal.convolve2d(self.array, self.kernel, boundary='wrap', mode='same')\n",
    "\n",
    "        # finding the average\n",
    "        average = np.zeros_like(self.array, dtype = float)\n",
    "        average[2:-2,2:-2] += np.divide(total[2:-2,2:-2],number[2:-2,2:-2])\n",
    "\n",
    "\n",
    "        # resetting the values to zero for squares that don't have a house\n",
    "        output = np.multiply(self.array,average)\n",
    "        output = np.multiply(output, self.array) # setting the house indicator to zero for the padding\n",
    "        return(output)\n",
    "\n",
    "    def draw_values(self):\n",
    "        '''\n",
    "        Just defined a function to draw the house values so we can draw both a map of houses and a map of house values\n",
    "        '''\n",
    "        # mask some 'bad' data, in your case you would have: data == 0\n",
    "        values = np.ma.masked_where(self.values == 0, self.values)\n",
    "        return draw_array(values[2:-2,2:-2], cmap = cmap_show_empty)\n",
    "\n",
    "    def update_values(self, grid_agents, lam):\n",
    "        '''\n",
    "        Coding for the function we use to update house prices, at a matrix level. We can use\n",
    "        :param grid_agents:\n",
    "        :param lam:\n",
    "        :return:\n",
    "        '''\n",
    "        self.values = lam*self.average_neighbors() + grid_agents.affluences\n",
    "\n",
    "    def draw_neighbors(self):\n",
    "        return draw_array(self.average_neighbors())\n"
   ]
  },
  {
   "cell_type": "code",
   "execution_count": 199,
   "id": "9710353f",
   "metadata": {},
   "outputs": [],
   "source": [
    "# Defining a class for the agents\n",
    "class grid_agents(Cell2D):\n",
    "    \"\"\"Represents a grid of Schelling agents.\"\"\"\n",
    "\n",
    "    def __init__(self, n, prob_empty,grid_houses):\n",
    "        \"\"\"Initializes the attributes.\n",
    "        \"\"\"\n",
    "        super().__init__(n)\n",
    "        self.prob_emp = prob_empty    # probability of empty cells occurring\n",
    "        self.size = n\n",
    "        choices = np.array([0.1,.5,1])\n",
    "        probs = [1/3, 1/3, 1/3]\n",
    "        self.affluences = np.random.rand(n,n)\n",
    "        self.affluences = np.multiply(self.affluences,grid_houses.array)\n",
    "\n",
    "\n",
    "    def draw(self):\n",
    "        \"\"\"Draws the cells.\"\"\"\n",
    "        return draw_array(self.array, cmap=cmap, vmax=3)\n",
    "\n",
    "    def draw_affluences(self):\n",
    "        '''\n",
    "        Draws the grid of affluences.\n",
    "        '''\n",
    "        # mask some 'bad' data, in your case you would have: data == 0\n",
    "        affluences = np.ma.masked_where(self.affluences == 0, self.affluences)\n",
    "        return draw_array(affluences, cmap = cmap_show_empty)\n",
    "\n",
    "    def swap_people(self, grid_houses):\n",
    "        '''\n",
    "        Picks two random grid elements, if they aren't zero and the delta function is greater than 0, swaps them\n",
    "        :param grid_houses: we need this as an input, since we need to get house values for the two agents, for the delta function.\n",
    "        :return:\n",
    "        '''\n",
    "        i1 = random.randint(2,self.size-2)\n",
    "        j1 = random.randint(2,self.size-2)\n",
    "        i2 = random.randint(2,self.size -2)\n",
    "        j2 = random.randint(2,self.size-2)\n",
    "\n",
    "        if j1 != j2 or i1 != i2:\n",
    "            if grid_houses.array[i1][j1] != 0 and grid_houses.array[i2][j2] != 0:\n",
    "                t1 = (grid_houses.values[i1][j1]- self.affluences[i1][j1])**2 + (grid_houses.values[i2][j2]- self.affluences[i2][j2])**2\n",
    "                t2 = (grid_houses.values[i1][j1]- self.affluences[i2][j2])**2 + (grid_houses.values[i2][j2]- self.affluences[i1][j1])**2\n",
    "                if t1 > t2:\n",
    "                    self.affluences[i2,j2], self.affluences[i1,j1] = self.affluences[i1,j1],self.affluences[i2,j2]\n",
    "\n",
    "    def swap_exists(self, grid_houses):\n",
    "        '''\n",
    "        Picks two random grid elements, if they aren't zero and the delta function is greater than 0, swaps them\n",
    "        :param grid_houses: we need this as an input, since we need to get house values for the two agents, for the delta function.\n",
    "        :return:\n",
    "        '''\n",
    "        print(self.affluences)\n",
    "        print(grid_houses.values)\n",
    "        x1 = range(self.array.shape[1])\n",
    "        x2 = range(self.array.shape[0])\n",
    "        y1 =range(self.array.shape[1])\n",
    "        y2 =range(self.array.shape[0])\n",
    "        x1 = list(x1)\n",
    "        x2 = list(x2)\n",
    "        y1 = list(y1)\n",
    "        y2 = list(y2)\n",
    "        random.shuffle(x1)\n",
    "        random.shuffle(x2)\n",
    "        random.shuffle(y1)\n",
    "        random.shuffle(y2)\n",
    "\n",
    "        for i1 in x1:\n",
    "            for j1 in x2:\n",
    "                for i2 in y1:\n",
    "                    for j2 in y2:\n",
    "                        if j1 != j2 or i1 != i2:\n",
    "                            if grid_houses.array[i1][j1] != 0 and grid_houses.array[i2][j2] != 0:\n",
    "                                t1 = (grid_houses.values[i1][j1]- self.affluences[i1][j1])**2 + (grid_houses.values[i2][j2]- self.affluences[i2][j2])**2\n",
    "                                t2 = (grid_houses.values[i1][j1]- self.affluences[i2][j2])**2 + (grid_houses.values[i2][j2]- self.affluences[i1][j1])**2\n",
    "                                # print(\"t1 =\",t1)\n",
    "                                # print(\"t2 =\",t2)\n",
    "                                if t1 > t2:\n",
    "                                    return True\n",
    "        return False"
   ]
  },
  {
   "cell_type": "code",
   "execution_count": 200,
   "id": "c8d7e6f2",
   "metadata": {},
   "outputs": [],
   "source": [
    "# kernel used for counting a cell's neighbours\n",
    "kernel = np.array([[1,1,1, 1, 1],\n",
    "                   [1,1,1, 1, 1],\n",
    "                   [1,1, 1, 1,1],\n",
    "                   [1,1,1, 1, 1],\n",
    "                   [1,1,1, 1, 1]], dtype=np.int8)"
   ]
  },
  {
   "cell_type": "markdown",
   "id": "ccc3ce82",
   "metadata": {},
   "source": [
    "## Running the code (100,000 times)"
   ]
  },
  {
   "cell_type": "markdown",
   "metadata": {
    "collapsed": false
   },
   "source": [
    "# Calculating Inequality"
   ]
  },
  {
   "cell_type": "code",
   "execution_count": 201,
   "metadata": {
    "collapsed": false
   },
   "outputs": [],
   "source": [
    "def inequality(A):\n",
    "    \"\"\"\n",
    "    Function to find inequality given the aflluence matrix A\n",
    "    \"\"\"\n",
    "    poor = 0\n",
    "    middle = 0\n",
    "    rich = 0\n",
    "\n",
    "    for x in range(np.shape(A)[0]):\n",
    "        for y in range(np.shape(A)[1]):\n",
    "            if float(A[x,y]) == 0.1:\n",
    "                poor += 1\n",
    "            elif float(A[x,y]) == 0.5:\n",
    "                middle += 1\n",
    "            elif float(A[x,y]) == 1.0:\n",
    "                rich += 1\n",
    "    sum = poor+middle+rich\n",
    "    print(f'{np.log(3)}+{poor/sum}*{np.log(poor/sum)}')\n",
    "    I = np.log(3) + (poor/sum) * np.log(poor/sum) + (middle/sum) * np.log(middle/sum) + (rich/sum) * np.log(rich/sum)\n",
    "    return(I)"
   ]
  },
  {
   "cell_type": "code",
   "execution_count": 202,
   "metadata": {
    "collapsed": false
   },
   "outputs": [],
   "source": [
    "def theil_inequality(A):\n",
    "    B = A.copy()[2:-2,2:-2]\n",
    "    avg = np.average(B)\n",
    "    print('average = ', avg)\n",
    "    L= B/avg\n",
    "    T = np.nan_to_num(L* np.log( L ) )\n",
    "    return T.mean()"
   ]
  },
  {
   "cell_type": "code",
   "execution_count": 203,
   "metadata": {
    "collapsed": false
   },
   "outputs": [
    {
     "name": "stdout",
     "output_type": "stream",
     "text": [
      "1.0986122886681098\n"
     ]
    },
    {
     "ename": "TypeError",
     "evalue": "grid_houses.__init__() missing 1 required positional argument: 'seed'",
     "output_type": "error",
     "traceback": [
      "\u001B[1;31m---------------------------------------------------------------------------\u001B[0m",
      "\u001B[1;31mTypeError\u001B[0m                                 Traceback (most recent call last)",
      "Input \u001B[1;32mIn [203]\u001B[0m, in \u001B[0;36m<module>\u001B[1;34m\u001B[0m\n\u001B[0;32m      2\u001B[0m \u001B[38;5;28mprint\u001B[39m(np\u001B[38;5;241m.\u001B[39mlog(\u001B[38;5;241m3\u001B[39m))\n\u001B[0;32m      4\u001B[0m \u001B[38;5;28;01mfor\u001B[39;00m x \u001B[38;5;129;01min\u001B[39;00m \u001B[38;5;28mrange\u001B[39m(\u001B[38;5;241m0\u001B[39m,\u001B[38;5;241m10\u001B[39m):\n\u001B[1;32m----> 5\u001B[0m     grid_houses1 \u001B[38;5;241m=\u001B[39m \u001B[43mgrid_houses\u001B[49m\u001B[43m(\u001B[49m\u001B[38;5;241;43m19\u001B[39;49m\u001B[43m,\u001B[49m\u001B[38;5;241;43m.1\u001B[39;49m\u001B[43m,\u001B[49m\u001B[43m \u001B[49m\u001B[43mkernel\u001B[49m\u001B[43m)\u001B[49m\n\u001B[0;32m      6\u001B[0m     grid_agents1 \u001B[38;5;241m=\u001B[39m grid_agents(\u001B[38;5;241m19\u001B[39m, \u001B[38;5;241m0.1\u001B[39m, grid_houses1)\n\u001B[0;32m      7\u001B[0m     inequality_values\u001B[38;5;241m.\u001B[39mappend(theil_inequality(grid_agents1\u001B[38;5;241m.\u001B[39maffluences))\n",
      "\u001B[1;31mTypeError\u001B[0m: grid_houses.__init__() missing 1 required positional argument: 'seed'"
     ]
    }
   ],
   "source": [
    "inequality_values = []\n",
    "print(np.log(3))\n",
    "\n",
    "for x in range(0,10):\n",
    "    grid_houses1 = grid_houses(19,.1, kernel)\n",
    "    grid_agents1 = grid_agents(19, 0.1, grid_houses1)\n",
    "    inequality_values.append(theil_inequality(grid_agents1.affluences))\n",
    "    print('Theil: ', theil_inequality(grid_agents1.affluences))"
   ]
  },
  {
   "cell_type": "markdown",
   "metadata": {
    "collapsed": false
   },
   "source": [
    "# Making a graph of (inflation)"
   ]
  },
  {
   "cell_type": "markdown",
   "metadata": {
    "collapsed": false
   },
   "source": [
    "# Getting convergence rates for different $\\lambda$"
   ]
  },
  {
   "cell_type": "code",
   "execution_count": 204,
   "metadata": {
    "collapsed": false
   },
   "outputs": [],
   "source": [
    "def get_convergence(lam, gridsize, p_empty, seed):\n",
    "    grid_houses1 = grid_houses(gridsize + 4,p_empty, kernel, seed)\n",
    "    grid_agents1 = grid_agents(gridsize + 4, p_empty, grid_houses1)\n",
    "    i = 0\n",
    "    j = 0\n",
    "    while i < int(gridsize**(2)/300):\n",
    "        grid_houses1.update_values(grid_agents1, lam)\n",
    "        g1 = grid_agents1.affluences.copy()\n",
    "        grid_agents1.swap_people(grid_houses1)\n",
    "        g2 = grid_agents1.affluences\n",
    "        if np.array_equal(g1,g2):\n",
    "            i += 1\n",
    "        else:\n",
    "            i = 0\n",
    "        j += 1\n",
    "    H = get_eigenvalues(grid_houses1)\n",
    "    return j, np.average(grid_houses1.values), H"
   ]
  },
  {
   "cell_type": "code",
   "execution_count": 205,
   "metadata": {
    "collapsed": false
   },
   "outputs": [
    {
     "name": "stdout",
     "output_type": "stream",
     "text": [
      "[-1.4329873 +0.j         -1.22329517-0.93931141j -1.22329517+0.93931141j\n",
      " -1.1076409 +0.j         -0.27435851+0.j         -0.18274792-0.47120691j\n",
      " -0.18274792+0.47120691j -0.05818095-0.87114738j -0.05818095+0.87114738j\n",
      " -0.01152486-0.10764707j -0.01152486+0.10764707j  0.11079398+0.j\n",
      "  0.38833625-0.87545216j  0.38833625+0.87545216j  0.41867608+0.j\n",
      "  0.90644913-0.4106694j   0.90644913+0.4106694j   1.41638765-0.8489729j\n",
      "  1.41638765+0.8489729j ]\n"
     ]
    },
    {
     "ename": "ValueError",
     "evalue": "too many values to unpack (expected 2)",
     "output_type": "error",
     "traceback": [
      "\u001B[1;31m---------------------------------------------------------------------------\u001B[0m",
      "\u001B[1;31mValueError\u001B[0m                                Traceback (most recent call last)",
      "Input \u001B[1;32mIn [205]\u001B[0m, in \u001B[0;36m<module>\u001B[1;34m\u001B[0m\n\u001B[0;32m      6\u001B[0m \u001B[38;5;28;01mfor\u001B[39;00m t \u001B[38;5;129;01min\u001B[39;00m \u001B[38;5;28mrange\u001B[39m(\u001B[38;5;241m1\u001B[39m,\u001B[38;5;241m50\u001B[39m):\n\u001B[0;32m      7\u001B[0m     lam \u001B[38;5;241m=\u001B[39m t\u001B[38;5;241m/\u001B[39m\u001B[38;5;241m50\u001B[39m\n\u001B[1;32m----> 8\u001B[0m     conv, inf \u001B[38;5;241m=\u001B[39m get_convergence(lam, \u001B[38;5;241m20\u001B[39m, \u001B[38;5;241m0.2\u001B[39m, \u001B[38;5;241m0\u001B[39m)\n\u001B[0;32m      9\u001B[0m     lambdas\u001B[38;5;241m.\u001B[39mappend(lam)\n\u001B[0;32m     10\u001B[0m     convergence\u001B[38;5;241m.\u001B[39mappend(conv)\n",
      "\u001B[1;31mValueError\u001B[0m: too many values to unpack (expected 2)"
     ]
    }
   ],
   "source": [
    "# graphing 'convergence' for different values of lambda\n",
    "lambdas = []\n",
    "convergence = []\n",
    "inflation = []\n",
    "\n",
    "for t in range(1,50):\n",
    "    lam = t/50\n",
    "    conv, inf = get_convergence(lam, 20, 0.2, 0)\n",
    "    lambdas.append(lam)\n",
    "    convergence.append(conv)\n",
    "    inflation.append(inf)"
   ]
  },
  {
   "cell_type": "code",
   "execution_count": 206,
   "metadata": {
    "collapsed": false
   },
   "outputs": [
    {
     "data": {
      "text/plain": "<Figure size 792x360 with 1 Axes>",
      "image/png": "[encoded data removed]"
     },
     "metadata": {
      "needs_background": "light"
     },
     "output_type": "display_data"
    }
   ],
   "source": [
    "plt.plot(lambdas, inflation)\n",
    "plt.title('Average House Value for different values of lambda',fontsize=20)\n",
    "plt.xlabel('Lambda',fontsize=20)\n",
    "plt.ylabel('Average House Value',fontsize=20)\n",
    "plt.savefig('lambda_inflation_2.pdf',fontsize=20)"
   ]
  },
  {
   "cell_type": "code",
   "execution_count": 207,
   "metadata": {
    "collapsed": false
   },
   "outputs": [
    {
     "data": {
      "text/plain": "<Figure size 792x360 with 1 Axes>",
      "image/png": "[encoded data removed]"
     },
     "metadata": {
      "needs_background": "light"
     },
     "output_type": "display_data"
    }
   ],
   "source": [
    "plt.plot(lambdas, convergence)\n",
    "plt.title('Convergence rate for different values of lambda',fontsize=20)\n",
    "plt.xlabel('Lambda',fontsize=20)\n",
    "plt.ylabel('Iterations until convergence',fontsize=20)\n",
    "plt.savefig('lambda_convergence_2.pdf')"
   ]
  },
  {
   "cell_type": "code",
   "execution_count": null,
   "metadata": {
    "collapsed": false
   },
   "outputs": [],
   "source": [
    "# graphing 'inflation' for different values of lambda\n",
    "lambdas = []\n",
    "convergence = []\n",
    "\n",
    "for t in range(1,50):\n",
    "    print(t)\n",
    "    lam = t/50\n",
    "    conv = get_convergence(lam, 20, 0.2)\n",
    "    lambdas.append(lam)\n",
    "    convergence.append(conv)"
   ]
  },
  {
   "cell_type": "markdown",
   "metadata": {
    "collapsed": false
   },
   "source": [
    "# Getting a plot for the report"
   ]
  },
  {
   "cell_type": "code",
   "execution_count": 160,
   "metadata": {
    "collapsed": false
   },
   "outputs": [],
   "source": [
    "def get_plots(lam, gridsize, p_empty, file_name):\n",
    "    i = 0\n",
    "    j = 0\n",
    "    maxi = 0\n",
    "    grid_houses1 = grid_houses(gridsize + 4,p_empty, kernel, seed =None)\n",
    "    grid_agents1 = grid_agents(gridsize + 4, p_empty, grid_houses1)\n",
    "    plt.subplot(1,2,1)\n",
    "    grid_houses1.draw_values()\n",
    "    plt.colorbar()\n",
    "    plt.title(f'Initial')\n",
    "    while i < gridsize**2/300:\n",
    "        grid_houses1.update_values(grid_agents1, lam)\n",
    "        g1 = grid_agents1.affluences.copy()\n",
    "        grid_agents1.swap_people(grid_houses1)\n",
    "        g2 = grid_agents1.affluences\n",
    "        if np.array_equal(g1,g2):\n",
    "            i += 1\n",
    "        else:\n",
    "            if i >= maxi:\n",
    "                maxi = i\n",
    "                print(\"maxi = \",maxi)\n",
    "            i = 0\n",
    "        j += 1\n",
    "        if j % 25000 == 0:\n",
    "            print(j)\n",
    "    plt.subplot(1,2,2)\n",
    "    H = get_eigenvalues(grid_houses1)\n",
    "    print(f'Segregation ',H )\n",
    "    print(f'Average House Value: ',np.average(grid_houses1.values) )\n",
    "    grid_houses1.draw_values()\n",
    "    plt.title(f'Converged')\n",
    "    plt.colorbar()\n",
    "    plt.savefig(f'{file_name}.pdf')\n",
    "    #1"
   ]
  },
  {
   "cell_type": "code",
   "execution_count": null,
   "metadata": {
    "collapsed": false
   },
   "outputs": [
    {
     "name": "stdout",
     "output_type": "stream",
     "text": [
      "maxi =  0\n",
      "maxi =  60\n",
      "maxi =  65\n"
     ]
    },
    {
     "ename": "KeyboardInterrupt",
     "evalue": "",
     "output_type": "error",
     "traceback": [
      "\u001B[1;31m---------------------------------------------------------------------------\u001B[0m",
      "\u001B[1;31mKeyboardInterrupt\u001B[0m                         Traceback (most recent call last)",
      "Input \u001B[1;32mIn [26]\u001B[0m, in \u001B[0;36m<module>\u001B[1;34m\u001B[0m\n\u001B[1;32m----> 1\u001B[0m \u001B[43mget_plots\u001B[49m\u001B[43m(\u001B[49m\u001B[38;5;241;43m0.5\u001B[39;49m\u001B[43m,\u001B[49m\u001B[43m \u001B[49m\u001B[38;5;241;43m50\u001B[39;49m\u001B[43m,\u001B[49m\u001B[43m \u001B[49m\u001B[38;5;241;43m0.2\u001B[39;49m\u001B[43m,\u001B[49m\u001B[43m \u001B[49m\u001B[38;5;124;43m'\u001B[39;49m\u001B[38;5;124;43mnew_plot\u001B[39;49m\u001B[38;5;124;43m'\u001B[39;49m\u001B[43m)\u001B[49m\n",
      "Input \u001B[1;32mIn [25]\u001B[0m, in \u001B[0;36mget_plots\u001B[1;34m(lam, gridsize, p_empty, file_name)\u001B[0m\n\u001B[0;32m     10\u001B[0m plt\u001B[38;5;241m.\u001B[39mtitle(\u001B[38;5;124mf\u001B[39m\u001B[38;5;124m'\u001B[39m\u001B[38;5;124mInitial\u001B[39m\u001B[38;5;124m'\u001B[39m)\n\u001B[0;32m     11\u001B[0m \u001B[38;5;28;01mwhile\u001B[39;00m i \u001B[38;5;241m<\u001B[39m gridsize\u001B[38;5;241m*\u001B[39m\u001B[38;5;241m*\u001B[39m\u001B[38;5;241m2\u001B[39m\u001B[38;5;241m/\u001B[39m\u001B[38;5;241m3\u001B[39m:\n\u001B[1;32m---> 12\u001B[0m     \u001B[43mgrid_houses1\u001B[49m\u001B[38;5;241;43m.\u001B[39;49m\u001B[43mupdate_values\u001B[49m\u001B[43m(\u001B[49m\u001B[43mgrid_agents1\u001B[49m\u001B[43m,\u001B[49m\u001B[43m \u001B[49m\u001B[43mlam\u001B[49m\u001B[43m)\u001B[49m\n\u001B[0;32m     13\u001B[0m     g1 \u001B[38;5;241m=\u001B[39m grid_agents1\u001B[38;5;241m.\u001B[39maffluences\u001B[38;5;241m.\u001B[39mcopy()\n\u001B[0;32m     14\u001B[0m     grid_agents1\u001B[38;5;241m.\u001B[39mswap_people(grid_houses1)\n",
      "Input \u001B[1;32mIn [4]\u001B[0m, in \u001B[0;36mgrid_houses.update_values\u001B[1;34m(self, grid_agents, lam)\u001B[0m\n\u001B[0;32m     63\u001B[0m \u001B[38;5;28;01mdef\u001B[39;00m \u001B[38;5;21mupdate_values\u001B[39m(\u001B[38;5;28mself\u001B[39m, grid_agents, lam):\n\u001B[0;32m     64\u001B[0m     \u001B[38;5;124;03m'''\u001B[39;00m\n\u001B[0;32m     65\u001B[0m \u001B[38;5;124;03m    Coding for the function we use to update house prices, at a matrix level. We can use\u001B[39;00m\n\u001B[0;32m     66\u001B[0m \u001B[38;5;124;03m    :param grid_agents:\u001B[39;00m\n\u001B[0;32m     67\u001B[0m \u001B[38;5;124;03m    :param lam:\u001B[39;00m\n\u001B[0;32m     68\u001B[0m \u001B[38;5;124;03m    :return:\u001B[39;00m\n\u001B[0;32m     69\u001B[0m \u001B[38;5;124;03m    '''\u001B[39;00m\n\u001B[1;32m---> 70\u001B[0m     \u001B[38;5;28mself\u001B[39m\u001B[38;5;241m.\u001B[39mvalues \u001B[38;5;241m=\u001B[39m lam\u001B[38;5;241m*\u001B[39m\u001B[38;5;28;43mself\u001B[39;49m\u001B[38;5;241;43m.\u001B[39;49m\u001B[43maverage_neighbors\u001B[49m\u001B[43m(\u001B[49m\u001B[43m)\u001B[49m \u001B[38;5;241m+\u001B[39m grid_agents\u001B[38;5;241m.\u001B[39maffluences\n",
      "Input \u001B[1;32mIn [4]\u001B[0m, in \u001B[0;36mgrid_houses.average_neighbors\u001B[1;34m(self)\u001B[0m\n\u001B[0;32m     45\u001B[0m \u001B[38;5;66;03m# finding the average\u001B[39;00m\n\u001B[0;32m     46\u001B[0m average \u001B[38;5;241m=\u001B[39m np\u001B[38;5;241m.\u001B[39mzeros_like(\u001B[38;5;28mself\u001B[39m\u001B[38;5;241m.\u001B[39marray, dtype \u001B[38;5;241m=\u001B[39m \u001B[38;5;28mfloat\u001B[39m)\n\u001B[1;32m---> 47\u001B[0m average[\u001B[38;5;241m2\u001B[39m:\u001B[38;5;241m-\u001B[39m\u001B[38;5;241m2\u001B[39m,\u001B[38;5;241m2\u001B[39m:\u001B[38;5;241m-\u001B[39m\u001B[38;5;241m2\u001B[39m] \u001B[38;5;241m+\u001B[39m\u001B[38;5;241m=\u001B[39m \u001B[43mnp\u001B[49m\u001B[38;5;241;43m.\u001B[39;49m\u001B[43mdivide\u001B[49m\u001B[43m(\u001B[49m\u001B[43mtotal\u001B[49m\u001B[43m[\u001B[49m\u001B[38;5;241;43m2\u001B[39;49m\u001B[43m:\u001B[49m\u001B[38;5;241;43m-\u001B[39;49m\u001B[38;5;241;43m2\u001B[39;49m\u001B[43m,\u001B[49m\u001B[38;5;241;43m2\u001B[39;49m\u001B[43m:\u001B[49m\u001B[38;5;241;43m-\u001B[39;49m\u001B[38;5;241;43m2\u001B[39;49m\u001B[43m]\u001B[49m\u001B[43m,\u001B[49m\u001B[43mnumber\u001B[49m\u001B[43m[\u001B[49m\u001B[38;5;241;43m2\u001B[39;49m\u001B[43m:\u001B[49m\u001B[38;5;241;43m-\u001B[39;49m\u001B[38;5;241;43m2\u001B[39;49m\u001B[43m,\u001B[49m\u001B[38;5;241;43m2\u001B[39;49m\u001B[43m:\u001B[49m\u001B[38;5;241;43m-\u001B[39;49m\u001B[38;5;241;43m2\u001B[39;49m\u001B[43m]\u001B[49m\u001B[43m)\u001B[49m\n\u001B[0;32m     50\u001B[0m \u001B[38;5;66;03m# resetting the values to zero for squares that don't have a house\u001B[39;00m\n\u001B[0;32m     51\u001B[0m output \u001B[38;5;241m=\u001B[39m np\u001B[38;5;241m.\u001B[39mmultiply(\u001B[38;5;28mself\u001B[39m\u001B[38;5;241m.\u001B[39marray,average)\n",
      "\u001B[1;31mKeyboardInterrupt\u001B[0m: "
     ]
    },
    {
     "name": "stdout",
     "output_type": "stream",
     "text": [
      "Error in callback <function flush_figures at 0x0000015B3BF2C9D0> (for post_execute):\n"
     ]
    }
   ],
   "source": [
    "get_plots(0.5, 50, 0.2, 'new_plot')"
   ]
  },
  {
   "cell_type": "code",
   "execution_count": 208,
   "metadata": {
    "collapsed": false
   },
   "outputs": [],
   "source": [
    "# Defining a class for the agents\n",
    "class grid_agents_gamma(Cell2D):\n",
    "    \"\"\"Represents a grid of Schelling agents.\"\"\"\n",
    "\n",
    "    def __init__(self, n, prob_empty,grid_houses, shape, scale):\n",
    "        \"\"\"Initializes the attributes.\n",
    "        \"\"\"\n",
    "        super().__init__(n)\n",
    "        self.prob_emp = prob_empty    # probability of empty cells occurring\n",
    "        self.size = n\n",
    "        choices = np.array([0.1,.5,1])\n",
    "        probs = [1/3, 1/3, 1/3]\n",
    "        self.affluences = np.random.gamma(shape, scale, size = (n,n))\n",
    "        self.affluences = np.multiply(self.affluences,grid_houses.array)\n",
    "\n",
    "\n",
    "    def draw(self):\n",
    "        \"\"\"Draws the cells.\"\"\"\n",
    "        return draw_array(self.array, cmap=cmap, vmax=3)\n",
    "\n",
    "    def draw_affluences(self):\n",
    "        '''\n",
    "        Draws the grid of affluences.\n",
    "        '''\n",
    "        # mask some 'bad' data, in your case you would have: data == 0\n",
    "        affluences = np.ma.masked_where(self.affluences == 0, self.affluences)\n",
    "        return draw_array(affluences, cmap = cmap_show_empty)\n",
    "\n",
    "    def swap_people(self, grid_houses):\n",
    "        '''\n",
    "        Picks two random grid elements, if they aren't zero and the delta function is greater than 0, swaps them\n",
    "        :param grid_houses: we need this as an input, since we need to get house values for the two agents, for the delta function.\n",
    "        :return:\n",
    "        '''\n",
    "        i1 = random.randint(2,self.size-2)\n",
    "        j1 = random.randint(2,self.size-2)\n",
    "        i2 = random.randint(2,self.size -2)\n",
    "        j2 = random.randint(2,self.size-2)\n",
    "\n",
    "        if j1 != j2 or i1 != i2:\n",
    "            if grid_houses.array[i1][j1] != 0 and grid_houses.array[i2][j2] != 0:\n",
    "                t1 = (grid_houses.values[i1][j1]- self.affluences[i1][j1])**2 + (grid_houses.values[i2][j2]- self.affluences[i2][j2])**2\n",
    "                t2 = (grid_houses.values[i1][j1]- self.affluences[i2][j2])**2 + (grid_houses.values[i2][j2]- self.affluences[i1][j1])**2\n",
    "                if t1 > t2:\n",
    "                    self.affluences[i2,j2], self.affluences[i1,j1] = self.affluences[i1,j1],self.affluences[i2,j2]\n",
    "\n",
    "    def swap_exists(self, grid_houses):\n",
    "        '''\n",
    "        Picks two random grid elements, if they aren't zero and the delta function is greater than 0, swaps them\n",
    "        :param grid_houses: we need this as an input, since we need to get house values for the two agents, for the delta function.\n",
    "        :return:\n",
    "        '''\n",
    "        print(self.affluences)\n",
    "        print(grid_houses.values)\n",
    "        x1 = range(self.array.shape[1])\n",
    "        x2 = range(self.array.shape[0])\n",
    "        y1 =range(self.array.shape[1])\n",
    "        y2 =range(self.array.shape[0])\n",
    "        x1 = list(x1)\n",
    "        x2 = list(x2)\n",
    "        y1 = list(y1)\n",
    "        y2 = list(y2)\n",
    "        random.shuffle(x1)\n",
    "        random.shuffle(x2)\n",
    "        random.shuffle(y1)\n",
    "        random.shuffle(y2)\n",
    "\n",
    "        for i1 in x1:\n",
    "            for j1 in x2:\n",
    "                for i2 in y1:\n",
    "                    for j2 in y2:\n",
    "                        if j1 != j2 or i1 != i2:\n",
    "                            if grid_houses.array[i1][j1] != 0 and grid_houses.array[i2][j2] != 0:\n",
    "                                t1 = (grid_houses.values[i1][j1]- self.affluences[i1][j1])**2 + (grid_houses.values[i2][j2]- self.affluences[i2][j2])**2\n",
    "                                t2 = (grid_houses.values[i1][j1]- self.affluences[i2][j2])**2 + (grid_houses.values[i2][j2]- self.affluences[i1][j1])**2\n",
    "                                # print(\"t1 =\",t1)\n",
    "                                # print(\"t2 =\",t2)\n",
    "                                if t1 > t2:\n",
    "                                    return True\n",
    "        return False"
   ]
  },
  {
   "cell_type": "code",
   "execution_count": 209,
   "metadata": {
    "collapsed": false
   },
   "outputs": [],
   "source": [
    "# getting convergence for gamma distributed affluence\n",
    "def get_gamma_convergence(lam, gridsize, p_empty,gamma_shape,gamma_scale, seed):\n",
    "    '''Returns the number of iterations required to converge, the average house value, and the theil index in that order'''\n",
    "    grid_houses1 = grid_houses(gridsize + 4,p_empty, kernel, seed)\n",
    "    grid_agents1 = grid_agents_gamma(gridsize + 4, p_empty, grid_houses1, gamma_shape, gamma_scale)\n",
    "    T = theil_inequality(grid_agents1.affluences)\n",
    "    i = 0\n",
    "    j = 0\n",
    "    while i < int(gridsize**(2)):\n",
    "        grid_houses1.update_values(grid_agents1, lam)\n",
    "        g1 = grid_agents1.affluences.copy()\n",
    "        grid_agents1.swap_people(grid_houses1)\n",
    "        g2 = grid_agents1.affluences\n",
    "        if np.array_equal(g1,g2):\n",
    "            i += 1\n",
    "        else:\n",
    "            i = 0\n",
    "        j += 1\n",
    "    H = get_eigenvalues(grid_houses1)\n",
    "    return j, np.average(grid_houses1.values), T, H"
   ]
  },
  {
   "cell_type": "code",
   "execution_count": 210,
   "metadata": {
    "collapsed": false
   },
   "outputs": [],
   "source": [
    "def number_of_it_against_theil(gridsize,steps, seed= None):\n",
    "     \n",
    "    #creates the graph for number of iterations against theil index\n",
    "    teil_values = []\n",
    "    iterations = []\n",
    "    for x in range (steps):\n",
    "            gamma_shape = 10**(-x/50)\n",
    "            gamma_scale = 1/(2*gamma_shape)\n",
    "            values = get_gamma_convergence(0.5, gridsize, 0.2,gamma_shape,gamma_scale, seed)\n",
    "            iterations.append(values[0])\n",
    "            teil_values.append(values[2])\n",
    "            \n",
    "    plt.scatter(teil_values,iterations)\n",
    "    plt.title(f'Theil Index vs iterations to convergence')\n",
    "    plt.xlabel(f'Theil Index')\n",
    "    plt.ylabel(f'Iterations to convergence')\n",
    "    plt.savefig('thiel_index_graph.pdf')"
   ]
  },
  {
   "cell_type": "code",
   "execution_count": 37,
   "id": "58ee48b9",
   "metadata": {},
   "outputs": [
    {
     "name": "stdout",
     "output_type": "stream",
     "text": [
      "average =  0.3910543885174378\n",
      "[-2.52772898+0.j         -0.56933285-0.09585647j -0.56933285+0.09585647j\n",
      " -0.49356968-0.76570398j -0.49356968+0.76570398j -0.44702704-1.18111966j\n",
      " -0.44702704+1.18111966j -0.02349879-0.48200836j -0.02349879+0.48200836j\n",
      "  0.01510224-0.26551999j  0.01510224+0.26551999j  0.12333023+0.j\n",
      "  0.35674125-0.1963866j   0.35674125+0.1963866j   0.8803237 +0.j\n",
      "  1.2209828 -1.29224724j  1.2209828 +1.29224724j  3.09696058-0.55245935j\n",
      "  3.09696058+0.55245935j]\n",
      "average =  0.40731181957813517\n",
      "[-2.20197804+0.j         -1.44657504-0.51768475j -1.44657504+0.51768475j\n",
      " -1.24968665+0.j         -1.00654673+0.j         -0.35852857-0.62516229j\n",
      " -0.35852857+0.62516229j -0.09446842-0.26453977j -0.09446842+0.26453977j\n",
      "  0.34514436+0.j          0.45968243-1.20632562j  0.45968243+1.20632562j\n",
      "  0.79233092+0.j          0.80880706-0.57551837j  0.80880706+0.57551837j\n",
      "  1.21778504-0.49950371j  1.21778504+0.49950371j  4.77728657+0.j\n",
      "  6.31313925+0.j        ]\n",
      "average =  0.4138073675556707\n"
     ]
    },
    {
     "ename": "KeyboardInterrupt",
     "evalue": "",
     "output_type": "error",
     "traceback": [
      "\u001B[1;31m---------------------------------------------------------------------------\u001B[0m",
      "\u001B[1;31mKeyboardInterrupt\u001B[0m                         Traceback (most recent call last)",
      "Input \u001B[1;32mIn [37]\u001B[0m, in \u001B[0;36m<module>\u001B[1;34m\u001B[0m\n\u001B[1;32m----> 1\u001B[0m \u001B[43mnumber_of_it_against_theil\u001B[49m\u001B[43m(\u001B[49m\u001B[38;5;241;43m20\u001B[39;49m\u001B[43m,\u001B[49m\u001B[38;5;241;43m20\u001B[39;49m\u001B[43m,\u001B[49m\u001B[38;5;241;43m0\u001B[39;49m\u001B[43m)\u001B[49m\n",
      "Input \u001B[1;32mIn [36]\u001B[0m, in \u001B[0;36mnumber_of_it_against_theil\u001B[1;34m(gridsize, steps, seed)\u001B[0m\n\u001B[0;32m      7\u001B[0m gamma_shape \u001B[38;5;241m=\u001B[39m \u001B[38;5;241m10\u001B[39m\u001B[38;5;241m*\u001B[39m\u001B[38;5;241m*\u001B[39m(\u001B[38;5;241m-\u001B[39mx\u001B[38;5;241m/\u001B[39m\u001B[38;5;241m50\u001B[39m)\n\u001B[0;32m      8\u001B[0m gamma_scale \u001B[38;5;241m=\u001B[39m \u001B[38;5;241m1\u001B[39m\u001B[38;5;241m/\u001B[39m(\u001B[38;5;241m2\u001B[39m\u001B[38;5;241m*\u001B[39mgamma_shape)\n\u001B[1;32m----> 9\u001B[0m values \u001B[38;5;241m=\u001B[39m \u001B[43mget_gamma_convergence\u001B[49m\u001B[43m(\u001B[49m\u001B[38;5;241;43m0.5\u001B[39;49m\u001B[43m,\u001B[49m\u001B[43m \u001B[49m\u001B[43mgridsize\u001B[49m\u001B[43m,\u001B[49m\u001B[43m \u001B[49m\u001B[38;5;241;43m0.2\u001B[39;49m\u001B[43m,\u001B[49m\u001B[43mgamma_shape\u001B[49m\u001B[43m,\u001B[49m\u001B[43mgamma_scale\u001B[49m\u001B[43m,\u001B[49m\u001B[43m \u001B[49m\u001B[43mseed\u001B[49m\u001B[43m)\u001B[49m\n\u001B[0;32m     10\u001B[0m iterations\u001B[38;5;241m.\u001B[39mappend(values[\u001B[38;5;241m0\u001B[39m])\n\u001B[0;32m     11\u001B[0m teil_values\u001B[38;5;241m.\u001B[39mappend(values[\u001B[38;5;241m2\u001B[39m])\n",
      "Input \u001B[1;32mIn [35]\u001B[0m, in \u001B[0;36mget_gamma_convergence\u001B[1;34m(lam, gridsize, p_empty, gamma_shape, gamma_scale, seed)\u001B[0m\n\u001B[0;32m      8\u001B[0m j \u001B[38;5;241m=\u001B[39m \u001B[38;5;241m0\u001B[39m\n\u001B[0;32m      9\u001B[0m \u001B[38;5;28;01mwhile\u001B[39;00m i \u001B[38;5;241m<\u001B[39m \u001B[38;5;28mint\u001B[39m(gridsize\u001B[38;5;241m*\u001B[39m\u001B[38;5;241m*\u001B[39m(\u001B[38;5;241m2\u001B[39m)):\n\u001B[1;32m---> 10\u001B[0m     \u001B[43mgrid_houses1\u001B[49m\u001B[38;5;241;43m.\u001B[39;49m\u001B[43mupdate_values\u001B[49m\u001B[43m(\u001B[49m\u001B[43mgrid_agents1\u001B[49m\u001B[43m,\u001B[49m\u001B[43m \u001B[49m\u001B[43mlam\u001B[49m\u001B[43m)\u001B[49m\n\u001B[0;32m     11\u001B[0m     g1 \u001B[38;5;241m=\u001B[39m grid_agents1\u001B[38;5;241m.\u001B[39maffluences\u001B[38;5;241m.\u001B[39mcopy()\n\u001B[0;32m     12\u001B[0m     grid_agents1\u001B[38;5;241m.\u001B[39mswap_people(grid_houses1)\n",
      "\u001B[1;31mKeyboardInterrupt\u001B[0m: "
     ]
    }
   ],
   "source": [
    "number_of_it_against_theil(20,20,0)"
   ]
  },
  {
   "cell_type": "code",
   "execution_count": null,
   "metadata": {
    "collapsed": false
   },
   "outputs": [],
   "source": [
    "plt.scatter(teil_values,iterations)\n",
    "plt.title(f'Theil Index vs iterations to convergence')\n",
    "plt.xlabel(f'Theil Index')\n",
    "plt.ylabel(f'Iterations to convergence')\n",
    "plt.savefig('thiel_index_graph_1.pdf')"
   ]
  },
  {
   "cell_type": "markdown",
   "source": [
    "## Getting the segregation index\n"
   ],
   "metadata": {
    "collapsed": false
   }
  },
  {
   "cell_type": "code",
   "execution_count": 22,
   "outputs": [],
   "source": [
    "# getting the eigenvalues\n",
    "def get_eigenvalues(houses):\n",
    "    real_values = houses.values[2:-2, 2:-2]\n",
    "    w, v = np.linalg.eig(real_values)\n",
    "    w.sort()\n",
    "    w = w[:-1]\n",
    "    print(w)\n",
    "    values, counts = np.unique(w, return_counts=True)\n",
    "    p = []\n",
    "    for i in counts:\n",
    "        p.append(i/sum(counts))\n",
    "    p = np.array(p)\n",
    "    H = np.log(3*(houses.size-4)/5 - sum(np.multiply(p, np.log(p))))\n",
    "    return H"
   ],
   "metadata": {
    "collapsed": false
   }
  },
  {
   "cell_type": "code",
   "execution_count": 27,
   "outputs": [],
   "source": [
    "gridsize = 20\n",
    "p_empty = 0.2\n",
    "grid_houses1 = grid_houses(gridsize + 4,p_empty, kernel, seed = None)"
   ],
   "metadata": {
    "collapsed": false
   }
  },
  {
   "cell_type": "code",
   "execution_count": 28,
   "outputs": [
    {
     "name": "stdout",
     "output_type": "stream",
     "text": [
      "[-1.43566904-0.50416871j -1.43566904+0.50416871j -0.94144431-0.28659795j\n",
      " -0.94144431+0.28659795j -0.68678135-0.3441569j  -0.68678135+0.3441569j\n",
      " -0.51981706-0.74523715j -0.51981706+0.74523715j -0.32319266+0.j\n",
      " -0.01942524+0.j          0.30756642-0.6752654j   0.30756642+0.6752654j\n",
      "  0.32841918-0.1798692j   0.32841918+0.1798692j   0.86893997-0.84138729j\n",
      "  0.86893997+0.84138729j  0.91907017-0.91814938j  0.91907017+0.91814938j\n",
      "  1.08672798+0.j        ]\n",
      "2.7043392559992725\n"
     ]
    }
   ],
   "source": [
    "print(get_eigenvalues(grid_houses1))"
   ],
   "metadata": {
    "collapsed": false
   }
  },
  {
   "cell_type": "code",
   "execution_count": 25,
   "outputs": [
    {
     "ename": "NameError",
     "evalue": "name 'get_plots' is not defined",
     "output_type": "error",
     "traceback": [
      "\u001B[1;31m---------------------------------------------------------------------------\u001B[0m",
      "\u001B[1;31mNameError\u001B[0m                                 Traceback (most recent call last)",
      "Input \u001B[1;32mIn [25]\u001B[0m, in \u001B[0;36m<module>\u001B[1;34m\u001B[0m\n\u001B[1;32m----> 1\u001B[0m \u001B[43mget_plots\u001B[49m(\u001B[38;5;241m0.5\u001B[39m, \u001B[38;5;241m25\u001B[39m, \u001B[38;5;241m0.2\u001B[39m, \u001B[38;5;124m'\u001B[39m\u001B[38;5;124mnew_plot\u001B[39m\u001B[38;5;124m'\u001B[39m)\n",
      "\u001B[1;31mNameError\u001B[0m: name 'get_plots' is not defined"
     ]
    }
   ],
   "source": [
    "get_plots(0.5, 25, 0.2, 'new_plot')"
   ],
   "metadata": {
    "collapsed": false
   }
  },
  {
   "cell_type": "code",
   "execution_count": 26,
   "outputs": [
    {
     "name": "stdout",
     "output_type": "stream",
     "text": [
      "[-1.16229745-0.48554075j -1.16229745+0.48554075j -0.89814523+0.j\n",
      " -0.74355393-0.65913951j -0.74355393+0.65913951j -0.43561668-1.31346108j\n",
      " -0.43561668+1.31346108j -0.43286118-0.02027175j -0.43286118+0.02027175j\n",
      "  0.33104744+0.j          0.36216032-0.39305803j  0.36216032+0.39305803j\n",
      "  0.60251291-1.31823364j  0.60251291+1.31823364j  0.78751134-0.52574462j\n",
      "  0.78751134+0.52574462j  0.79369214+0.j          1.2457329 -0.20912251j\n",
      "  1.2457329 +0.20912251j]\n",
      "2.7043392559992725\n"
     ]
    }
   ],
   "source": [
    "print(get_eigenvalues(grid_houses1))"
   ],
   "metadata": {
    "collapsed": false
   }
  },
  {
   "cell_type": "code",
   "execution_count": 14,
   "outputs": [],
   "source": [
    "# Making a graph of segregation indexes compared to lambda:\n",
    "gridsize = 20\n",
    "p_empty = 0.2\n",
    "lams = []\n",
    "segs = []\n",
    "for s in range(1,21):\n",
    "    lam = s/20\n",
    "    _,_, seq = get_convergence(lam, gridsize, p_empty, seed = 0)\n",
    "    lams.append(lam)\n",
    "    segs.append(seq)"
   ],
   "metadata": {
    "collapsed": false
   }
  },
  {
   "cell_type": "code",
   "execution_count": 15,
   "outputs": [
    {
     "data": {
      "text/plain": "[<matplotlib.lines.Line2D at 0x2a63ea0dfc0>]"
     },
     "execution_count": 15,
     "metadata": {},
     "output_type": "execute_result"
    },
    {
     "data": {
      "text/plain": "<Figure size 792x360 with 1 Axes>",
      "image/png": "[encoded data removed]"
     },
     "metadata": {
      "needs_background": "light"
     },
     "output_type": "display_data"
    }
   ],
   "source": [
    "plt.plot(lams,segs)"
   ],
   "metadata": {
    "collapsed": false
   }
  },
  {
   "cell_type": "code",
   "execution_count": 96,
   "outputs": [],
   "source": [
    "shape =  1.563529**(-1)\n",
    "scale =  1/(2*shape)"
   ],
   "metadata": {
    "collapsed": false
   }
  },
  {
   "cell_type": "markdown",
   "source": [
    "## Working on mean satisfaction"
   ],
   "metadata": {
    "collapsed": false
   }
  },
  {
   "cell_type": "code",
   "execution_count": 217,
   "outputs": [],
   "source": [
    "def mean_satisfaction(agents, houses):\n",
    "    return np.sqrt(((houses.average_neighbors() - agents.affluences)**2).sum())"
   ],
   "metadata": {
    "collapsed": false
   }
  },
  {
   "cell_type": "code",
   "execution_count": 221,
   "outputs": [],
   "source": [
    "# plotting mean satisfaction against iterations\n",
    "def get_mean_sat(lam, gridsize, p_empty, seed):\n",
    "    mean_sats = []\n",
    "    its = []\n",
    "    i = 0\n",
    "    j = 0\n",
    "    grid_houses1 = grid_houses(gridsize + 4,p_empty, kernel, seed)\n",
    "    grid_agents1 = grid_agents_gamma(gridsize + 4, p_empty, grid_houses1, shape, scale)\n",
    "\n",
    "    while i < int(gridsize**(2)/3):\n",
    "        grid_houses1.update_values(grid_agents1, lam)\n",
    "        g1 = grid_agents1.affluences.copy()\n",
    "        grid_agents1.swap_people(grid_houses1)\n",
    "        g2 = grid_agents1.affluences\n",
    "        if np.array_equal(g1,g2):\n",
    "            i += 1\n",
    "        else:\n",
    "            i = 0\n",
    "        j += 1\n",
    "        its.append(j)\n",
    "        m= mean_satisfaction(grid_agents1, grid_houses1)\n",
    "        mean_sats.append(m)\n",
    "    return j, np.average(grid_houses1.values), its, mean_sats"
   ],
   "metadata": {
    "collapsed": false
   }
  },
  {
   "cell_type": "code",
   "execution_count": 222,
   "outputs": [],
   "source": [
    "_,_, its, sats = get_mean_sat(0.5, 25, 0.2, 2)"
   ],
   "metadata": {
    "collapsed": false
   }
  },
  {
   "cell_type": "code",
   "execution_count": 110,
   "outputs": [
    {
     "name": "stdout",
     "output_type": "stream",
     "text": [
      "7.988514913110092 7.985662917413975 7.985495291871802 7.985493880146229 7.985493878163528\n"
     ]
    }
   ],
   "source": [
    "print(sats[10], sats[20], sats[30], sats[40], sats[50])"
   ],
   "metadata": {
    "collapsed": false
   }
  },
  {
   "cell_type": "code",
   "execution_count": 227,
   "outputs": [
    {
     "name": "stdout",
     "output_type": "stream",
     "text": [
      "18.55470914665801\n"
     ]
    }
   ],
   "source": [
    "print(sats[3])"
   ],
   "metadata": {
    "collapsed": false
   }
  },
  {
   "cell_type": "code",
   "execution_count": 229,
   "outputs": [
    {
     "data": {
      "text/plain": "<Figure size 792x360 with 1 Axes>",
      "image/png": "[encoded data removed]"
     },
     "metadata": {
      "needs_background": "light"
     },
     "output_type": "display_data"
    }
   ],
   "source": [
    "plt.plot(its[8:],sats[8:])\n",
    "plt.title('Economic Tension vs Iterations', fontsize = 25)\n",
    "plt.xlabel('Iterations', fontsize = 25)\n",
    "plt.ylabel('Economic Tension', fontsize = 25)\n",
    "plt.yticks(fontsize=20)\n",
    "plt.xticks(fontsize=20)\n",
    "plt.savefig('its_ten.pdf',bbox_inches='tight')"
   ],
   "metadata": {
    "collapsed": false
   }
  },
  {
   "cell_type": "markdown",
   "source": [
    "## Adding high value zones"
   ],
   "metadata": {
    "collapsed": false
   }
  },
  {
   "cell_type": "code",
   "execution_count": 132,
   "outputs": [],
   "source": [
    "eps = np.spacing(0.0)"
   ],
   "metadata": {
    "collapsed": false
   }
  },
  {
   "cell_type": "code",
   "execution_count": 230,
   "outputs": [],
   "source": [
    "class grid_houses(Cell2D):\n",
    "    \"\"\"Represents a grid of Schelling agents.\"\"\"\n",
    "\n",
    "    def __init__(self, n, prob_empty, prob_hv,kernel,seed):\n",
    "        \"\"\"Initializes the attributes.\n",
    "\n",
    "        n: is the dimension of our square numpy array (n x n)\n",
    "\n",
    "        \"\"\"\n",
    "        super().__init__(n)\n",
    "        self.prob_empty = prob_empty    # probability of empty cells occurring\n",
    "        self.kernel = kernel\n",
    "        self.size = n\n",
    "\n",
    "        choices = np.array([0,1])\n",
    "        probs1 = [1/3, 1/3, 1/3]\n",
    "        choices1 = np.array([0.1,0.5,1], dtype = np.int8)\n",
    "        self.values = np.random.rand(n,n)\n",
    "        np.random.seed(seed)\n",
    "        self.array = np.random.choice(2, (n, n), p = [prob_empty, 1-prob_empty]) # randomly choosing which houses are empty, with probability prob_empty\n",
    "        self.padding = np.ones_like(self.array)\n",
    "        self.padding[0,:] = np.zeros_like(self.padding[0,:])\n",
    "        self.padding[1,:] = np.zeros_like(self.padding[1,:])\n",
    "        self.padding[-1,:] = np.zeros_like(self.padding[-1,:])\n",
    "        self.padding[-2,:] = np.zeros_like(self.padding[-2,:])\n",
    "        self.padding[:,0] = np.zeros_like(self.padding[:,0])\n",
    "        self.padding[:,1] = np.zeros_like(self.padding[:,1])\n",
    "        self.padding[:,-1] = np.zeros_like(self.padding[:,-1])\n",
    "        self.padding[:,-2] = np.zeros_like(self.padding[:,-2])\n",
    "\n",
    "        #self.high_value = np.random.choice(2, (n, n), p = [1-prob_hv, prob_hv])\n",
    "        self.high_value = np.zeros((n,n))\n",
    "        self.high_value[8:15,5:12] = 1\n",
    "        self.high_value[30:34,12:24] = 1\n",
    "        self.array = np.multiply(self.padding, self.array) # setting the house indicator to zero for the padding\n",
    "        self.values= np.multiply(self.values, self.array) # sets the house values to zero if there is no house at that spot\n",
    "        self.values = self.values - self.values*self.high_value + self.high_value\n",
    "\n",
    "    def average_neighbors(self):\n",
    "        '''\n",
    "        calculates the of the values of neighbors' house values, where the radius is defined by the kernel matrix. Note - boundary = fill automatically 'pads' the matrix with zeros on the boundary, which leads to lower averages there, so lower house prices near the boundary. We should look into a wrap boundary or possibly filling with a different value, eg average house price.\n",
    "        :return: array of the averages\n",
    "        '''\n",
    "        total = signal.convolve2d(self.values, self.kernel, boundary='wrap', mode='same')\n",
    "        # adding the number of total grid points\n",
    "        number = signal.convolve2d(self.array, self.kernel, boundary='wrap', mode='same')\n",
    "\n",
    "        # finding the average\n",
    "        average = np.zeros_like(self.array, dtype = float)\n",
    "        average[2:-2,2:-2] += np.divide(total[2:-2,2:-2],number[2:-2,2:-2])\n",
    "\n",
    "        # resetting the values to zero for squares that don't have a house\n",
    "        output = np.multiply(self.array,average)\n",
    "        output = np.multiply(output, self.array) # setting the house indicator to zero for the padding\n",
    "\n",
    "        return(output)\n",
    "\n",
    "    def draw_values(self):\n",
    "        '''\n",
    "        Just defined a function to draw the house values so we can draw both a map of houses and a map of house values\n",
    "        '''\n",
    "        # mask some 'bad' data, in your case you would have: data == 0\n",
    "        values = np.ma.masked_where(self.values == 1, self.values)\n",
    "        return draw_array(values[2:-2,2:-2], cmap = cmap_show_empty, vmin = eps)\n",
    "\n",
    "    def update_values(self, grid_agents, lam):\n",
    "        '''\n",
    "        Coding for the function we use to update house prices, at a matrix level. We can use\n",
    "        :param grid_agents:\n",
    "        :param lam:\n",
    "        :return:\n",
    "        '''\n",
    "        A = lam*self.average_neighbors() + grid_agents.affluences\n",
    "\n",
    "        #making sure set high value to 1\n",
    "        self.values = A - A*self.high_value + self.high_value\n",
    "\n",
    "    def draw_neighbors(self):\n",
    "        return draw_array(self.average_neighbors())\n"
   ],
   "metadata": {
    "collapsed": false
   }
  },
  {
   "cell_type": "code",
   "execution_count": 231,
   "outputs": [],
   "source": [
    "def get_plots(lam, gridsize, p_empty, p_hv,file_name):\n",
    "    i = 0\n",
    "    j = 0\n",
    "    maxi = 0\n",
    "    grid_houses1 = grid_houses(gridsize + 4,p_empty, p_hv, kernel, seed =None)\n",
    "    grid_agents1 = grid_agents(gridsize + 4, p_empty, grid_houses1)\n",
    "    plt.subplot(1,2,1)\n",
    "    grid_houses1.draw_values()\n",
    "    plt.colorbar()\n",
    "    plt.title(f'Initial', fontsize = 25)\n",
    "    while i < gridsize**2/3:\n",
    "        grid_houses1.update_values(grid_agents1, lam)\n",
    "        g1 = grid_agents1.affluences.copy()\n",
    "        grid_agents1.swap_people(grid_houses1)\n",
    "        g2 = grid_agents1.affluences\n",
    "        if np.array_equal(g1,g2):\n",
    "            i += 1\n",
    "        else:\n",
    "            if i >= maxi:\n",
    "                maxi = i\n",
    "                print(\"maxi = \",maxi)\n",
    "            i = 0\n",
    "        j += 1\n",
    "        if j % 25000 == 0:\n",
    "            print(j)\n",
    "    plt.subplot(1,2,2)\n",
    "    H = get_eigenvalues(grid_houses1)\n",
    "    print(f'Segregation ',H )\n",
    "    print(f'Average House Value: ',np.average(grid_houses1.values) )\n",
    "    grid_houses1.draw_values()\n",
    "    plt.title(f'Converged', fontsize = 25)\n",
    "    plt.colorbar()\n",
    "    plt.savefig(f'{file_name}.pdf')\n",
    "    #1"
   ],
   "metadata": {
    "collapsed": false
   }
  },
  {
   "cell_type": "code",
   "execution_count": 231,
   "outputs": [],
   "source": [],
   "metadata": {
    "collapsed": false
   }
  },
  {
   "cell_type": "code",
   "execution_count": 174,
   "outputs": [
    {
     "name": "stdout",
     "output_type": "stream",
     "text": [
      "maxi =  27\n",
      "maxi =  73\n",
      "maxi =  74\n",
      "maxi =  100\n",
      "maxi =  117\n",
      "maxi =  120\n",
      "maxi =  131\n",
      "maxi =  132\n",
      "25000\n",
      "maxi =  140\n",
      "50000\n",
      "maxi =  156\n",
      "maxi =  169\n",
      "75000\n",
      "maxi =  197\n",
      "maxi =  257\n",
      "100000\n",
      "125000\n",
      "maxi =  280\n",
      "maxi =  306\n",
      "maxi =  331\n",
      "150000\n",
      "maxi =  345\n",
      "maxi =  360\n",
      "175000\n",
      "[-4.38184553+0.j         -3.252323  -1.90982457j -3.252323  +1.90982457j\n",
      " -2.56813583+0.j         -2.02219483+0.j         -1.84779499+0.j\n",
      " -1.77337966-0.79129114j -1.77337966+0.79129114j -1.25486864-1.57919713j\n",
      " -1.25486864+1.57919713j -1.18196153+0.j         -0.71321794-2.75747534j\n",
      " -0.71321794+2.75747534j -0.61808643-1.14427034j -0.61808643+1.14427034j\n",
      " -0.49314378-2.21611384j -0.49314378+2.21611384j -0.4446905 -0.29000306j\n",
      " -0.4446905 +0.29000306j  0.05579707-0.53294747j  0.05579707+0.53294747j\n",
      "  0.12673951+0.j          0.5654523 -1.46577945j  0.5654523 +1.46577945j\n",
      "  0.6960006 +0.j          0.80303472-0.68641196j  0.80303472+0.68641196j\n",
      "  0.96822499+0.j          1.04321032-1.38507696j  1.04321032+1.38507696j\n",
      "  1.37523875-1.04265177j  1.37523875+1.04265177j  1.61840528-1.94011567j\n",
      "  1.61840528+1.94011567j  1.97688865-0.55514355j  1.97688865+0.55514355j\n",
      "  2.75415786+0.j          4.33089431+0.j          9.02077631+0.j        ]\n",
      "Segregation  3.3201160831723042\n",
      "Average House Value:  0.659905621411987\n"
     ]
    },
    {
     "data": {
      "text/plain": "<Figure size 792x360 with 4 Axes>",
      "image/png": "[encoded data removed]"
     },
     "metadata": {
      "needs_background": "light"
     },
     "output_type": "display_data"
    }
   ],
   "source": [
    "get_plots(0.5, 40, 0.2, 0.1,'high_value')"
   ],
   "metadata": {
    "collapsed": false
   }
  },
  {
   "cell_type": "code",
   "execution_count": null,
   "outputs": [],
   "source": [
    "    grid_houses1 = grid_houses(gridsize + 4,p_empty, p_hv, kernel, seed =None)\n",
    "    grid_agents1 = grid_agents(gridsize + 4, p_empty, grid_houses1)"
   ],
   "metadata": {
    "collapsed": false
   }
  },
  {
   "cell_type": "code",
   "execution_count": 232,
   "outputs": [],
   "source": [
    "def get_mean_sat(lam, gridsize, p_empty, p_hv, seed):\n",
    "    mean_sats = []\n",
    "    its = []\n",
    "    i = 0\n",
    "    j = 0\n",
    "    grid_houses1 = grid_houses(gridsize + 4,p_empty, p_hv, kernel, seed)\n",
    "    grid_agents1 = grid_agents_gamma(gridsize + 4, p_empty, grid_houses1, shape, scale)\n",
    "    its.append(j)\n",
    "    m= mean_satisfaction(grid_agents1, grid_houses1)\n",
    "    mean_sats.append(m)\n",
    "\n",
    "    while i < int(gridsize**(2)/3):\n",
    "        grid_houses1.update_values(grid_agents1, lam)\n",
    "        g1 = grid_agents1.affluences.copy()\n",
    "        grid_agents1.swap_people(grid_houses1)\n",
    "        g2 = grid_agents1.affluences\n",
    "        if np.array_equal(g1,g2):\n",
    "            i += 1\n",
    "        else:\n",
    "            i = 0\n",
    "        j += 1\n",
    "        its.append(j)\n",
    "        m= mean_satisfaction(grid_agents1, grid_houses1)\n",
    "        mean_sats.append(m)\n",
    "    return j, np.average(grid_houses1.values), its, mean_sats"
   ],
   "metadata": {
    "collapsed": false
   }
  },
  {
   "cell_type": "code",
   "execution_count": 233,
   "outputs": [],
   "source": [
    "_,_, its, sats = get_mean_sat(0.5, 25, 0.2,0, 2)"
   ],
   "metadata": {
    "collapsed": false
   }
  },
  {
   "cell_type": "code",
   "execution_count": 234,
   "outputs": [
    {
     "data": {
      "text/plain": "<Figure size 792x360 with 1 Axes>",
      "image/png": "[encoded data removed]"
     },
     "metadata": {
      "needs_background": "light"
     },
     "output_type": "display_data"
    }
   ],
   "source": [
    "plt.plot(its[8:],sats[8:])\n",
    "plt.title('Economic Tension vs Iterations', fontsize = 25)\n",
    "plt.xlabel('Iterations', fontsize = 25)\n",
    "plt.ylabel('Economic Tension', fontsize = 25)\n",
    "plt.yticks(fontsize=20)\n",
    "plt.xticks(fontsize=20)\n",
    "plt.savefig('its_diss_am.pdf',bbox_inches='tight')"
   ],
   "metadata": {
    "collapsed": false
   }
  },
  {
   "cell_type": "code",
   "execution_count": null,
   "outputs": [],
   "source": [],
   "metadata": {
    "collapsed": false,
    "pycharm": {
     "is_executing": true
    }
   }
  },
  {
   "cell_type": "code",
   "execution_count": 234,
   "outputs": [],
   "source": [],
   "metadata": {
    "collapsed": false
   }
  }
 ],
 "metadata": {
  "kernelspec": {
   "display_name": "Python 3.9.13 ('base')",
   "language": "python",
   "name": "python3"
  },
  "language_info": {
   "codemirror_mode": {
    "name": "ipython",
    "version": 3
   },
   "file_extension": ".py",
   "mimetype": "text/x-python",
   "name": "python",
   "nbconvert_exporter": "python",
   "pygments_lexer": "ipython3",
   "version": "3.9.13"
  },
  "vscode": {
   "interpreter": {
    "hash": "263f43d4fc116f0e83ae0dbd5a33e4be457aee84a24e85cc45877ca1cd056e79"
   }
  }
 },
 "nbformat": 4,
 "nbformat_minor": 5
}
