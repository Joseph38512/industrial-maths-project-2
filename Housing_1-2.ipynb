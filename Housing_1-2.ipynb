{
 "cells": [
  {
   "cell_type": "code",
   "execution_count": 1,
   "id": "b15e1907",
   "metadata": {},
   "outputs": [],
   "source": [
    "%matplotlib inline\n",
    "import matplotlib.pyplot as plt\n",
    "plt.rcParams[\"figure.figsize\"] = (11, 5)  #set default figure size\n",
    "from random import uniform, seed\n",
    "from math import sqrt\n",
    "import numpy as np\n",
    "from Cell2D import Cell2D, draw_array\n",
    "from matplotlib.colors import LinearSegmentedColormap\n",
    "from scipy import signal\n",
    "import seaborn as sns\n",
    "from matplotlib import cm\n",
    "from numpy import random\n",
    "palette = sns.color_palette()\n",
    "colors = 'white', 'red', 'blue', 'orange'\n",
    "cmap = LinearSegmentedColormap.from_list('cmap', colors)"
   ]
  },
  {
   "cell_type": "code",
   "execution_count": 2,
   "id": "bc14054a",
   "metadata": {},
   "outputs": [],
   "source": [
    "# Defining a cmap that we can use where zeros (empty houses) will stand out - setting them to black\n",
    "cmap_show_empty = cm.YlOrRd.copy()\n",
    "cmap_show_empty.set_bad(color='black')"
   ]
  },
  {
   "cell_type": "code",
   "execution_count": 3,
   "id": "5d0ea427",
   "metadata": {},
   "outputs": [],
   "source": [
    "seed(10)"
   ]
  },
  {
   "cell_type": "code",
   "execution_count": 4,
   "id": "2f5ca9fa",
   "metadata": {},
   "outputs": [],
   "source": [
    "# Defining a class for the houses\n",
    "class grid_houses(Cell2D):\n",
    "    \"\"\"Represents a grid of Schelling agents.\"\"\"\n",
    "    \n",
    "    def __init__(self, n, prob_empty,kernel):\n",
    "        \"\"\"Initializes the attributes.\n",
    "        \n",
    "        n: is the dimension of our square numpy array (n x n)\n",
    "\n",
    "        \"\"\"\n",
    "        super().__init__(n)\n",
    "        self.prob_empty = prob_empty    # probability of empty cells occurring\n",
    "        self.kernel = kernel\n",
    "\n",
    "        self.values = np.random.rand(n, n) # uniformly distribute the house values between 0 and 1\n",
    "        choices = np.array([0, 1], dtype = np.int8)\n",
    "        self.array = np.random.choice(2, (n, n), p = [self.prob_empty, 1 - self.prob_empty]) # randomly choosing which houses are empty, with probability prob_empty\n",
    "\n",
    "        self.padding = np.ones_like(self.array)\n",
    "        self.padding[0,:] = np.zeros_like(self.padding[0,:])\n",
    "        self.padding[1,:] = np.zeros_like(self.padding[1,:])\n",
    "        self.padding[-1,:] = np.zeros_like(self.padding[-1,:])\n",
    "        self.padding[-2,:] = np.zeros_like(self.padding[-2,:])\n",
    "        self.padding[:,0] = np.zeros_like(self.padding[:,0])\n",
    "        self.padding[:,1] = np.zeros_like(self.padding[:,1])\n",
    "        self.padding[:,-1] = np.zeros_like(self.padding[:,-1])\n",
    "        self.padding[:,-2] = np.zeros_like(self.padding[:,-2])\n",
    "\n",
    "        self.array = np.multiply(self.padding, self.array) # setting the house indicator to zero for the padding\n",
    "        self.values= np.multiply(self.values, self.array) # sets the house values to zero if there is no house at that spot\n",
    "\n",
    "    def average_neighbors(self):\n",
    "        '''\n",
    "        calculates the of the values of neighbors' house values, where the radius is defined by the kernel matrix. Note - boundary = fill automatically 'pads' the matrix with zeros on the boundary, which leads to lower averages there, so lower house prices near the boundary. We should look into a wrap boundary or possibly filling with a different value, eg average house price.\n",
    "        :return: array of the averages\n",
    "        '''\n",
    "        total = signal.convolve2d(self.values[2:-2,2:-2], self.kernel, boundary='wrap', mode='same')\n",
    "        # adding the number of total grid points\n",
    "        number = signal.convolve2d(self.array[2:-2,2:-2], self.kernel, boundary='wrap', mode='same')\n",
    "\n",
    "        # finding the average\n",
    "        average = np.zeros_like(self.array, dtype = float)\n",
    "        average[2:-2,2:-2] += np.divide(total,number)\n",
    "\n",
    "        # resetting the values to zero for squares that don't have a house\n",
    "        output = np.multiply(self.array,average)\n",
    "        output = np.multiply(output, self.array) # setting the house indicator to zero for the padding\n",
    "        return(output)\n",
    "\n",
    "    def draw_values(self):\n",
    "        '''\n",
    "        Just defined a function to draw the house values so we can draw both a map of houses and a map of house values\n",
    "        '''\n",
    "        # mask some 'bad' data, in your case you would have: data == 0\n",
    "        values = np.ma.masked_where(self.values == 0, self.values)\n",
    "        return draw_array(values, cmap = cmap_show_empty)\n",
    "\n",
    "    def update_values(self, grid_agents, lam):\n",
    "        '''\n",
    "        Coding for the function we use to update house prices, at a matrix level. We can use\n",
    "        :param grid_agents:\n",
    "        :param lam:\n",
    "        :return:\n",
    "        '''\n",
    "        self.values = lam*self.average_neighbors() + grid_agents.affluences\n",
    "\n",
    "    def draw_neighbors(self):\n",
    "        return draw_array(self.average_neighbors())\n"
   ]
  },
  {
   "cell_type": "code",
   "execution_count": 5,
   "id": "9710353f",
   "metadata": {},
   "outputs": [],
   "source": [
    "# Defining a class for the agents\n",
    "class grid_agents(Cell2D):\n",
    "    \"\"\"Represents a grid of Schelling agents.\"\"\"\n",
    "\n",
    "    def __init__(self, n, prob_empty,grid_houses):\n",
    "        \"\"\"Initializes the attributes.\n",
    "        \"\"\"\n",
    "        super().__init__(n)\n",
    "        #self.affluences = np.random.rand(n,n)\n",
    "        self.prob_emp = prob_empty    # probability of empty cells occurring\n",
    "        # self.prob_rich = (1 - self.prob_emp)/3\n",
    "        # self.prob_middle= (1 - self.prob_emp)/3\n",
    "        # self.prob_poor = (1 - self.prob_emp)/3\n",
    "        self.size = n\n",
    "        # limiting this to just two, the zeros here give us empty houses, but I'm not sure this is really necessary since we just swap people's houses anyway.\n",
    "        # use the numpy routine choice to select the different cells with probability\n",
    "        #self.array = np.random.choice(choices, (n, n), p = probs)\n",
    "        # self.array = np.multiply(self.array,grid_houses.array)\n",
    "        choices = np.array([0.1,.5,1])\n",
    "        probs = [1/3, 1/3, 1/3]\n",
    "        self.affluences = np.random.choice(choices, (n, n), p = probs)\n",
    "        self.affluences = np.multiply(self.affluences,grid_houses.array)\n",
    "\n",
    "    def draw(self):\n",
    "        \"\"\"Draws the cells.\"\"\"\n",
    "        return draw_array(self.array, cmap=cmap, vmax=3)\n",
    "\n",
    "    def draw_affluences(self):\n",
    "        '''\n",
    "        Draws the grid of affluences.\n",
    "        '''\n",
    "        # mask some 'bad' data, in your case you would have: data == 0\n",
    "        affluences = np.ma.masked_where(self.affluences == 0, self.affluences)\n",
    "        return draw_array(affluences, cmap = cmap_show_empty)\n",
    "\n",
    "    # def swap_people(self, grid_houses):\n",
    "    #     '''\n",
    "    #     Picks two random grid elements, if they aren't zero and the delta function is greater than 0, swaps them\n",
    "    #     :param grid_houses: we need this as an input, since we need to get house values for the two agents, for the delta function.\n",
    "    #     :return:\n",
    "    #     '''\n",
    "    #     i1 = random.randint(2,self.size-2)\n",
    "    #     j1 = random.randint(2,self.size-2)\n",
    "    #     i2 = random.randint(2,self.size -2)\n",
    "    #     j2 = random.randint(2,self.size-2)\n",
    "    #     #print(i1,j1,i2,j2)\n",
    "    #     if j1 != j2 or i1 != i2:\n",
    "    #         if grid_houses.array[i1][j1] != 0 and grid_houses.array[i2][j2] != 0:\n",
    "    #             t1 = (grid_houses.values[i1][j1]- self.affluences[i1][j1])**2 + (grid_houses.values[i2][j2]- self.affluences[i2][j2])**2\n",
    "    #             t2 = (grid_houses.values[i1][j1]- self.affluences[i2][j2])**2 + (grid_houses.values[i2][j2]- self.affluences[i1][j1])**2\n",
    "    #             if t1 > t2:\n",
    "    #                 # print(\"t1 = \",t1)\n",
    "    #                 # print(\"t2 = \",t2)\n",
    "    #                 # print(\"swapped agents\")\n",
    "    #                 # print(f\"i1: {i1}, j1: {j1} \\n i2: {i2}, j2: {j2}\")\n",
    "    #                 # print(\"First \",self.affluences[i1][j1])\n",
    "    #                 # print(\"Second \",self.affluences[i2][j2])\n",
    "    #                 self.affluences[i2,j2], self.affluences[i1,j1] = self.affluences[i1,j1],self.affluences[i2,j2]\n",
    "\n",
    "    def swap_people(self, grid_houses):\n",
    "        '''\n",
    "        Picks two random grid elements, if they aren't zero and the delta function is greater than 0, swaps them\n",
    "        :param grid_houses: we need this as an input, since we need to get house values for the two agents, for the delta function.\n",
    "        :return:\n",
    "        '''\n",
    "        print(self.affluences)\n",
    "        print(grid_houses.values)\n",
    "        x1 = range(self.array.shape[1])\n",
    "        x2 = range(self.array.shape[0])\n",
    "        y1 =range(self.array.shape[1])\n",
    "        y2 =range(self.array.shape[0])\n",
    "        x1 = list(x1)\n",
    "        x2 = list(x2)\n",
    "        y1 = list(y1)\n",
    "        y2 = list(y2)\n",
    "        random.shuffle(x1)\n",
    "        random.shuffle(x2)\n",
    "        random.shuffle(y1)\n",
    "        random.shuffle(y2)\n",
    "\n",
    "        for i1 in x1:\n",
    "            for j1 in x2:\n",
    "                for i2 in y1:\n",
    "                    for j2 in y2:\n",
    "                        if j1 != j2 or i1 != i2:\n",
    "                            if grid_houses.array[i1][j1] != 0 and grid_houses.array[i2][j2] != 0:\n",
    "                                # print(\"House 1: \",grid_houses.values[i1][j1])\n",
    "                                # print(\"House 2: \",grid_houses.values[i2][j2])\n",
    "                                t1 = (grid_houses.values[i1][j1]- self.affluences[i1][j1])**2 + (grid_houses.values[i2][j2]- self.affluences[i2][j2])**2\n",
    "                                t2 = (grid_houses.values[i1][j1]- self.affluences[i2][j2])**2 + (grid_houses.values[i2][j2]- self.affluences[i1][j1])**2\n",
    "                                # print(\"t1 =\",t1)\n",
    "                                # print(\"t2 =\",t2)\n",
    "                                if t1 > t2:\n",
    "                                    self.affluences[i2,j2], self.affluences[i1,j1] = self.affluences[i1,j1],self.affluences[i2,j2]\n",
    "                                    return True\n",
    "        return False"
   ]
  },
  {
   "cell_type": "code",
   "execution_count": 6,
   "id": "c8d7e6f2",
   "metadata": {},
   "outputs": [],
   "source": [
    "# kernel used for counting a cell's neighbours\n",
    "kernel = np.array([[1,1,1, 1, 1],\n",
    "                   [1,1,1, 1, 1],\n",
    "                   [1,1, 0, 1,1],\n",
    "                   [1,1,1, 1, 1],\n",
    "                   [1,1,1, 1, 1]], dtype=np.int8)"
   ]
  },
  {
   "cell_type": "code",
   "execution_count": 91,
   "id": "498184dd",
   "metadata": {},
   "outputs": [
    {
     "data": {
      "text/plain": "<matplotlib.image.AxesImage at 0x1c2f5edbd60>"
     },
     "execution_count": 91,
     "metadata": {},
     "output_type": "execute_result"
    },
    {
     "data": {
      "text/plain": "<Figure size 792x360 with 1 Axes>",
      "image/png": "[encoded data removed]"
     },
     "metadata": {},
     "output_type": "display_data"
    }
   ],
   "source": [
    "grid_agents1.draw_affluences()"
   ]
  },
  {
   "cell_type": "code",
   "execution_count": 92,
   "id": "0410bbbf",
   "metadata": {},
   "outputs": [
    {
     "data": {
      "text/plain": "<matplotlib.image.AxesImage at 0x1c2f698cca0>"
     },
     "execution_count": 92,
     "metadata": {},
     "output_type": "execute_result"
    },
    {
     "data": {
      "text/plain": "<Figure size 792x360 with 1 Axes>",
      "image/png": "[encoded data removed]"
     },
     "metadata": {},
     "output_type": "display_data"
    }
   ],
   "source": [
    "grid_houses1.draw_values()"
   ]
  },
  {
   "cell_type": "markdown",
   "id": "ccc3ce82",
   "metadata": {},
   "source": [
    "## Running the code (100,000 times)"
   ]
  },
  {
   "cell_type": "code",
   "execution_count": 119,
   "outputs": [],
   "source": [
    "grid_houses1 = grid_houses(9,.1, kernel)\n",
    "grid_agents1 = grid_agents(9, 0.1, grid_houses1)"
   ],
   "metadata": {
    "collapsed": false
   }
  },
  {
   "cell_type": "markdown",
   "source": [
    "### This is where the code isn't working. swap_people returns true if there's a swap and false if there isn't. It iterates through the array in a random order to find a swap. Even with lambda = 0.6, the updated house values are too close to the inhabitants' affluences, so that nobody will benefit from a swap so it returns false after just one update."
   ],
   "metadata": {
    "collapsed": false
   }
  },
  {
   "cell_type": "code",
   "execution_count": 120,
   "outputs": [
    {
     "name": "stdout",
     "output_type": "stream",
     "text": [
      "[[0.  0.  0.  0.  0.  0.  0.  0.  0. ]\n",
      " [0.  0.  0.  0.  0.  0.  0.  0.  0. ]\n",
      " [0.  0.  0.5 0.5 0.5 0.1 0.1 0.  0. ]\n",
      " [0.  0.  0.5 0.5 0.5 0.1 1.  0.  0. ]\n",
      " [0.  0.  0.  1.  0.5 0.1 0.5 0.  0. ]\n",
      " [0.  0.  0.5 0.1 1.  0.5 0.  0.  0. ]\n",
      " [0.  0.  0.5 0.1 1.  0.1 1.  0.  0. ]\n",
      " [0.  0.  0.  0.  0.  0.  0.  0.  0. ]\n",
      " [0.  0.  0.  0.  0.  0.  0.  0.  0. ]]\n",
      "[[0.         0.         0.         0.         0.         0.\n",
      "  0.         0.         0.        ]\n",
      " [0.         0.         0.         0.         0.         0.\n",
      "  0.         0.         0.        ]\n",
      " [0.         0.         0.14604554 0.69987822 0.77980136 0.03431266\n",
      "  0.60400843 0.         0.        ]\n",
      " [0.         0.         0.78554789 0.42820578 0.39251263 0.35247867\n",
      "  0.22847489 0.         0.        ]\n",
      " [0.         0.         0.         0.69033483 0.79046183 0.61937259\n",
      "  0.27640178 0.         0.        ]\n",
      " [0.         0.         0.2644015  0.44107335 0.13054382 0.5593393\n",
      "  0.         0.         0.        ]\n",
      " [0.         0.         0.1866564  0.03606403 0.79338345 0.30872793\n",
      "  0.15846886 0.         0.        ]\n",
      " [0.         0.         0.         0.         0.         0.\n",
      "  0.         0.         0.        ]\n",
      " [0.         0.         0.         0.         0.         0.\n",
      "  0.         0.         0.        ]]\n",
      "True\n",
      "[[0.  0.  0.  0.  0.  0.  0.  0.  0. ]\n",
      " [0.  0.  0.  0.  0.  0.  0.  0.  0. ]\n",
      " [0.  0.  0.5 1.  0.5 0.1 0.1 0.  0. ]\n",
      " [0.  0.  0.5 0.5 0.5 0.1 1.  0.  0. ]\n",
      " [0.  0.  0.  1.  0.5 0.1 0.5 0.  0. ]\n",
      " [0.  0.  0.5 0.1 1.  0.5 0.  0.  0. ]\n",
      " [0.  0.  0.5 0.1 1.  0.1 0.5 0.  0. ]\n",
      " [0.  0.  0.  0.  0.  0.  0.  0.  0. ]\n",
      " [0.  0.  0.  0.  0.  0.  0.  0.  0. ]]\n",
      "[[0.         0.         0.         0.         0.         0.\n",
      "  0.         0.         0.        ]\n",
      " [0.         0.         0.         0.         0.         0.\n",
      "  0.         0.         0.        ]\n",
      " [0.         0.         0.71728296 1.20469585 0.70287942 0.31982234\n",
      "  0.30687471 0.         0.        ]\n",
      " [0.         0.         0.70274881 0.71087023 0.71168143 0.3125913\n",
      "  1.21540956 0.         0.        ]\n",
      " [0.         0.         0.         1.20491275 0.70263713 0.30652553\n",
      "  0.71432032 0.         0.        ]\n",
      " [0.         0.         0.71459305 0.31057778 1.21763527 0.70788992\n",
      "  0.         0.         0.        ]\n",
      " [0.         0.         0.71635999 0.31978254 1.20257073 0.31358563\n",
      "  0.71700061 0.         0.        ]\n",
      " [0.         0.         0.         0.         0.         0.\n",
      "  0.         0.         0.        ]\n",
      " [0.         0.         0.         0.         0.         0.\n",
      "  0.         0.         0.        ]]\n",
      "False\n"
     ]
    }
   ],
   "source": [
    "print(grid_agents1.swap_people(grid_houses1))\n",
    "grid_houses1.update_values(grid_agents1,.5)\n",
    "print(grid_agents1.swap_people(grid_houses1))"
   ],
   "metadata": {
    "collapsed": false
   }
  },
  {
   "cell_type": "markdown",
   "source": [
    "### Running it for a 9x9 grid it's easy to see what's happening, after one update the house values are set so close to the agent affluences that there are no more swaps that will improve things. It seems like maybe it works better if affluences are uniformly distributed. As it stands, a person will never swap with one outside their affluence class, and for two people in the same affluence class the delta function will always be zero, so they don't swap either."
   ],
   "metadata": {
    "collapsed": false
   }
  },
  {
   "cell_type": "markdown",
   "source": [
    "### Important: There's an issue here - we should maybe look at changing this so update_values returns the true or false value"
   ],
   "metadata": {
    "collapsed": false
   }
  },
  {
   "cell_type": "code",
   "execution_count": 84,
   "id": "c655499a",
   "metadata": {},
   "outputs": [
    {
     "data": {
      "text/plain": "<matplotlib.image.AxesImage at 0x1c2f5e461d0>"
     },
     "execution_count": 84,
     "metadata": {},
     "output_type": "execute_result"
    },
    {
     "data": {
      "text/plain": "<Figure size 792x360 with 1 Axes>",
      "image/png": "[encoded data removed]"
     },
     "metadata": {},
     "output_type": "display_data"
    }
   ],
   "source": [
    "grid_houses1.draw_values()"
   ]
  },
  {
   "cell_type": "code",
   "execution_count": 85,
   "outputs": [
    {
     "data": {
      "text/plain": "<matplotlib.image.AxesImage at 0x1c2f5e60a60>"
     },
     "execution_count": 85,
     "metadata": {},
     "output_type": "execute_result"
    },
    {
     "data": {
      "text/plain": "<Figure size 792x360 with 1 Axes>",
      "image/png": "[encoded data removed]"
     },
     "metadata": {},
     "output_type": "display_data"
    }
   ],
   "source": [
    "grid_agents1.draw_affluences()"
   ],
   "metadata": {
    "collapsed": false
   }
  },
  {
   "cell_type": "code",
   "execution_count": 87,
   "outputs": [
    {
     "name": "stdout",
     "output_type": "stream",
     "text": [
      "[[0.  0.  0.  0.  0.  0.  0.  0.  0.  0.  0.  0. ]\n",
      " [0.  0.  0.  0.  0.  0.  0.  0.  0.  0.  0.  0. ]\n",
      " [0.  0.  1.  1.  0.5 0.1 1.  0.5 1.  1.  0.  0. ]\n",
      " [0.  0.  0.1 0.  0.1 0.5 1.  0.  0.1 1.  0.  0. ]\n",
      " [0.  0.  0.1 0.5 0.1 1.  1.  1.  0.1 0.5 0.  0. ]\n",
      " [0.  0.  1.  0.1 1.  1.  0.5 0.  1.  0.5 0.  0. ]\n",
      " [0.  0.  0.5 0.1 1.  0.  0.  0.  0.1 1.  0.  0. ]\n",
      " [0.  0.  0.5 0.5 0.1 1.  0.1 1.  1.  1.  0.  0. ]\n",
      " [0.  0.  0.1 0.5 0.1 0.1 1.  0.  0.  1.  0.  0. ]\n",
      " [0.  0.  0.1 0.5 1.  0.5 0.  1.  0.1 0.1 0.  0. ]\n",
      " [0.  0.  0.  0.  0.  0.  0.  0.  0.  0.  0.  0. ]\n",
      " [0.  0.  0.  0.  0.  0.  0.  0.  0.  0.  0.  0. ]]\n",
      "[[0.         0.         0.         0.         0.         0.\n",
      "  0.         0.         0.         0.         0.         0.        ]\n",
      " [0.         0.         0.         0.         0.         0.\n",
      "  0.         0.         0.         0.         0.         0.        ]\n",
      " [0.         0.         1.21844547 1.22852032 0.75934727 0.42276363\n",
      "  1.27026553 0.82776669 1.29526306 1.25776449 0.         0.        ]\n",
      " [0.         0.         0.36983085 0.         0.40934643 0.8352609\n",
      "  1.31216567 0.         0.42407398 1.26931569 0.         0.        ]\n",
      " [0.         0.         0.38938938 0.8002553  0.41215448 1.30581042\n",
      "  1.30551901 1.33973365 0.4477591  0.79276081 0.         0.        ]\n",
      " [0.         0.         1.23938494 0.39798103 1.25739085 1.29469541\n",
      "  0.82130531 0.         1.30275675 0.78025612 0.         0.        ]\n",
      " [0.         0.         0.75895343 0.38721434 1.24797992 0.\n",
      "  0.         0.         0.43973156 1.27775735 0.         0.        ]\n",
      " [0.         0.         0.76982694 0.77852107 0.36692122 1.28081114\n",
      "  0.43849675 1.32379831 1.29471054 1.26776336 0.         0.        ]\n",
      " [0.         0.         0.39808813 0.77852131 0.36692255 0.40289411\n",
      "  1.28360244 0.         0.         1.30026534 0.         0.        ]\n",
      " [0.         0.         0.37980679 0.75895489 1.23661998 0.79026281\n",
      "  0.         1.32776984 0.44026432 0.42526369 0.         0.        ]\n",
      " [0.         0.         0.         0.         0.         0.\n",
      "  0.         0.         0.         0.         0.         0.        ]\n",
      " [0.         0.         0.         0.         0.         0.\n",
      "  0.         0.         0.         0.         0.         0.        ]]\n",
      "False\n",
      "1\n"
     ]
    }
   ],
   "source": [
    "swap_exists = True\n",
    "while swap_exists:\n",
    "    grid_houses1.update_values(grid_agents1,lam)\n",
    "    swap_exists = grid_agents1.swap_people(grid_houses1)\n",
    "    print(swap_exists)\n",
    "    i += 1\n",
    "    print(i)"
   ],
   "metadata": {
    "collapsed": false
   }
  }
 ],
 "metadata": {
  "kernelspec": {
   "display_name": "Python 3 (ipykernel)",
   "language": "python",
   "name": "python3"
  },
  "language_info": {
   "codemirror_mode": {
    "name": "ipython",
    "version": 3
   },
   "file_extension": ".py",
   "mimetype": "text/x-python",
   "name": "python",
   "nbconvert_exporter": "python",
   "pygments_lexer": "ipython3",
   "version": "3.10.2"
  }
 },
 "nbformat": 4,
 "nbformat_minor": 5
}
