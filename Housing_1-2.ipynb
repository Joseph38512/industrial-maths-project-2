{
 "cells": [
  {
   "cell_type": "code",
   "execution_count": 27,
   "id": "b15e1907",
   "metadata": {},
   "outputs": [],
   "source": [
    "%matplotlib inline\n",
    "import matplotlib.pyplot as plt\n",
    "plt.rcParams[\"figure.figsize\"] = (11, 5)  #set default figure size\n",
    "from random import uniform, seed\n",
    "from math import sqrt\n",
    "import numpy as np\n",
    "from Cell2D import Cell2D, draw_array\n",
    "from matplotlib.colors import LinearSegmentedColormap\n",
    "from scipy import signal\n",
    "import seaborn as sns\n",
    "from matplotlib import cm\n",
    "from numpy import random\n",
    "palette = sns.color_palette()\n",
    "colors = 'white', 'red', 'blue', 'orange'\n",
    "cmap = LinearSegmentedColormap.from_list('cmap', colors)"
   ]
  },
  {
   "cell_type": "code",
   "execution_count": 28,
   "id": "bc14054a",
   "metadata": {},
   "outputs": [],
   "source": [
    "# Defining a cmap that we can use where zeros (empty houses) will stand out - setting them to black\n",
    "cmap_show_empty = cm.YlOrRd.copy()\n",
    "cmap_show_empty.set_bad(color='black')"
   ]
  },
  {
   "cell_type": "code",
   "execution_count": 29,
   "id": "5d0ea427",
   "metadata": {},
   "outputs": [],
   "source": [
    "seed(10)"
   ]
  },
  {
   "cell_type": "code",
   "execution_count": 30,
   "id": "2f5ca9fa",
   "metadata": {},
   "outputs": [],
   "source": [
    "# Defining a class for the houses\n",
    "class grid_houses(Cell2D):\n",
    "    \"\"\"Represents a grid of Schelling agents.\"\"\"\n",
    "    \n",
    "    def __init__(self, n, prob_empty,kernel):\n",
    "        \"\"\"Initializes the attributes.\n",
    "        \n",
    "        n: is the dimension of our square numpy array (n x n)\n",
    "\n",
    "        \"\"\"\n",
    "        super().__init__(n)\n",
    "        self.prob_empty = prob_empty    # probability of empty cells occurring\n",
    "        self.kernel = kernel\n",
    "\n",
    "        self.values = np.random.rand(n, n) # uniformly distribute the house values between 0 and 1\n",
    "        choices = np.array([0, 1], dtype = np.int8)\n",
    "        self.array = np.random.choice(2, (n, n), p = [self.prob_empty, 1 - self.prob_empty]) # randomly choosing which houses are empty, with probability prob_empty\n",
    "\n",
    "        self.padding = np.ones_like(self.array)\n",
    "        self.padding[0,:] = np.zeros_like(self.padding[0,:])\n",
    "        self.padding[1,:] = np.zeros_like(self.padding[1,:])\n",
    "        self.padding[-1,:] = np.zeros_like(self.padding[-1,:])\n",
    "        self.padding[-2,:] = np.zeros_like(self.padding[-2,:])\n",
    "        self.padding[:,0] = np.zeros_like(self.padding[:,0])\n",
    "        self.padding[:,1] = np.zeros_like(self.padding[:,1])\n",
    "        self.padding[:,-1] = np.zeros_like(self.padding[:,-1])\n",
    "        self.padding[:,-2] = np.zeros_like(self.padding[:,-2])\n",
    "\n",
    "        self.array = np.multiply(self.padding, self.array) # setting the house indicator to zero for the padding\n",
    "        self.values= np.multiply(self.values, self.array) # sets the house values to zero if there is no house at that spot\n",
    "\n",
    "    def average_neighbors(self):\n",
    "        '''\n",
    "        calculates the of the values of neighbors' house values, where the radius is defined by the kernel matrix. Note - boundary = fill automatically 'pads' the matrix with zeros on the boundary, which leads to lower averages there, so lower house prices near the boundary. We should look into a wrap boundary or possibly filling with a different value, eg average house price.\n",
    "        :return: array of the averages\n",
    "        '''\n",
    "        total = signal.convolve2d(self.values, self.kernel, boundary='wrap', mode='same')\n",
    "\n",
    "        # adding the number of total grid points\n",
    "        number = signal.convolve2d(self.array, self.kernel, boundary='wrap', mode='same')\n",
    "\n",
    "        # finding the average\n",
    "        average = np.divide(total,number)\n",
    "\n",
    "        # resetting the values to zero for squares that don't have a house\n",
    "        output = np.multiply(self.array,average)\n",
    "        output = np.multiply(output, self.array) # setting the house indicator to zero for the padding\n",
    "        return(output)\n",
    "\n",
    "    def draw_values(self):\n",
    "        '''\n",
    "        Just defined a function to draw the house values so we can draw both a map of houses and a map of house values\n",
    "        '''\n",
    "        # mask some 'bad' data, in your case you would have: data == 0\n",
    "        values = np.ma.masked_where(self.values == 0, self.values)\n",
    "        return draw_array(values, cmap = cmap_show_empty)\n",
    "\n",
    "    def update_values(self, grid_agents, lam):\n",
    "        '''\n",
    "        Coding for the function we use to update house prices, at a matrix level. We can use\n",
    "        :param grid_agents:\n",
    "        :param lam:\n",
    "        :return:\n",
    "        '''\n",
    "        self.values = lam*self.average_neighbors() + grid_agents.affluences\n",
    "\n",
    "    def draw_neighbors(self):\n",
    "        return draw_array(self.average_neighbors())\n"
   ]
  },
  {
   "cell_type": "code",
   "execution_count": 31,
   "id": "9710353f",
   "metadata": {},
   "outputs": [],
   "source": [
    "# Defining a class for the agents\n",
    "class grid_agents(Cell2D):\n",
    "    \"\"\"Represents a grid of Schelling agents.\"\"\"\n",
    "\n",
    "    def __init__(self, n, prob_empty,grid_houses):\n",
    "        \"\"\"Initializes the attributes.\n",
    "        \"\"\"\n",
    "        super().__init__(n)\n",
    "        self.affluences = np.random.rand(n,n)\n",
    "        self.prob_emp = prob_empty    # probability of empty cells occurring\n",
    "        # self.prob_rich = (1 - self.prob_emp)/3\n",
    "        # self.prob_middle= (1 - self.prob_emp)/3\n",
    "        # self.prob_poor = (1 - self.prob_emp)/3\n",
    "        self.size = n\n",
    "\n",
    "        # limiting this to just two, the zeros here give us empty houses, but I'm not sure this is really necessary since we just swap people's houses anyway.\n",
    "        # choices = np.array([0, 1], dtype = np.int8)\n",
    "        # probs = [self.prob_emp, 1 -self.prob_emp]\n",
    "\n",
    "        # use the numpy routine choice to select the different cells with probability\n",
    "        # self.array = np.random.choice(choices, (n, n), p = probs)\n",
    "        # self.array = np.multiply(self.array,grid_houses.array)\n",
    "        self.affluences = np.multiply(self.affluences,grid_houses.array)\n",
    "\n",
    "    def draw(self):\n",
    "        \"\"\"Draws the cells.\"\"\"\n",
    "        return draw_array(self.array, cmap=cmap, vmax=3)\n",
    "\n",
    "    def draw_affluences(self):\n",
    "        '''\n",
    "        Draws the grid of affluences.\n",
    "        '''\n",
    "        # mask some 'bad' data, in your case you would have: data == 0\n",
    "        affluences = np.ma.masked_where(self.affluences == 0, self.affluences)\n",
    "        return draw_array(affluences, cmap = cmap_show_empty)\n",
    "\n",
    "    def swap_people(self, grid_houses):\n",
    "        '''\n",
    "        Picks two random grid elements, if they aren't zero and the delta function is greater than 0, swaps them\n",
    "        :param grid_houses: we need this as an input, since we need to get house values for the two agents, for the delta function.\n",
    "        :return:\n",
    "        '''\n",
    "        i1 = random.randint(2,self.size-2)\n",
    "        j1 = random.randint(2,self.size-2)\n",
    "        i2 = random.randint(2,self.size -2)\n",
    "        j2 = random.randint(2,self.size-2)\n",
    "        #print(i1,j1,i2,j2)\n",
    "        if j1 != j2 or i1 != i2:\n",
    "            if grid_houses.array[i1][j1] != 0 and grid_houses.array[i2][j2] != 0:\n",
    "                t1 = (grid_houses.values[i1][j1]- self.affluences[i1][j1])**2 + (grid_houses.values[i2][j2]- self.affluences[i2][j2])**2\n",
    "                t2 = (grid_houses.values[i1][j1]- self.affluences[i2][j2])**2 + (grid_houses.values[i2][j2]- self.affluences[i1][j1])**2\n",
    "                if t1 > t2:\n",
    "                    # print(\"t1 = \",t1)\n",
    "                    # print(\"t2 = \",t2)\n",
    "                    # print(\"swapped agents\")\n",
    "                    # print(f\"i1: {i1}, j1: {j1} \\n i2: {i2}, j2: {j2}\")\n",
    "                    # print(\"First \",self.affluences[i1][j1])\n",
    "                    # print(\"Second \",self.affluences[i2][j2])\n",
    "                    self.affluences[i2,j2], self.affluences[i1,j1] = self.affluences[i1,j1],self.affluences[i2,j2]\n",
    "\n",
    "    def swap_exists(self, grid_houses):\n",
    "        '''\n",
    "        Picks two random grid elements, if they aren't zero and the delta function is greater than 0, swaps them\n",
    "        :param grid_houses: we need this as an input, since we need to get house values for the two agents, for the delta function.\n",
    "        :return:\n",
    "        '''\n",
    "        for i1 in range(self.array.shape[1]):\n",
    "            for j1 in range(self.array.shape[0]):\n",
    "                for i2 in range(self.array.shape[1]):\n",
    "                    for j2 in range(self.array.shape[0]):\n",
    "                        if j1 != j2 or i1 != i2:\n",
    "                            if grid_houses.array[i1][j1] != 0 and grid_houses.array[i2][j2] != 0:\n",
    "                                t1 = (grid_houses.values[i1][j1]- self.affluences[i1][j1])**2 + (grid_houses.values[i2][j2]- self.affluences[i2][j2])**2\n",
    "                                t2 = (grid_houses.values[i1][j1]- self.affluences[i2][j2])**2 + (grid_houses.values[i2][j2]- self.affluences[i1][j1])**2\n",
    "                                if t1 > t2:\n",
    "                                    return True\n",
    "        return False"
   ]
  },
  {
   "cell_type": "code",
   "execution_count": 32,
   "id": "c8d7e6f2",
   "metadata": {},
   "outputs": [],
   "source": [
    "# kernel used for counting a cell's neighbours\n",
    "kernel = np.array([[1,1,1, 1, 1],\n",
    "                   [1,1,1, 1, 1],\n",
    "                   [1,1, 0, 1,1],\n",
    "                   [1,1,1, 1, 1],\n",
    "                   [1,1,1, 1, 1]], dtype=np.int8)"
   ]
  },
  {
   "cell_type": "code",
   "execution_count": 33,
   "id": "87a809e4",
   "metadata": {},
   "outputs": [],
   "source": [
    "grid_houses1 = grid_houses(50,.1, kernel)\n",
    "grid_agents1 = grid_agents(50, 0.1, grid_houses1)"
   ]
  },
  {
   "cell_type": "code",
   "execution_count": 34,
   "id": "498184dd",
   "metadata": {},
   "outputs": [
    {
     "data": {
      "text/plain": "<matplotlib.image.AxesImage at 0x2510a4aaf80>"
     },
     "execution_count": 34,
     "metadata": {},
     "output_type": "execute_result"
    },
    {
     "data": {
      "text/plain": "<Figure size 792x360 with 1 Axes>",
      "image/png": "[encoded data removed]"
     },
     "metadata": {},
     "output_type": "display_data"
    }
   ],
   "source": [
    "grid_agents1.draw_affluences()"
   ]
  },
  {
   "cell_type": "code",
   "execution_count": 35,
   "id": "0410bbbf",
   "metadata": {},
   "outputs": [
    {
     "data": {
      "text/plain": "<matplotlib.image.AxesImage at 0x2510a4e3790>"
     },
     "execution_count": 35,
     "metadata": {},
     "output_type": "execute_result"
    },
    {
     "data": {
      "text/plain": "<Figure size 792x360 with 1 Axes>",
      "image/png": "[encoded data removed]"
     },
     "metadata": {},
     "output_type": "display_data"
    }
   ],
   "source": [
    "grid_houses1.draw_values()"
   ]
  },
  {
   "cell_type": "markdown",
   "id": "ccc3ce82",
   "metadata": {},
   "source": [
    "## Running the code (100,000 times)"
   ]
  },
  {
   "cell_type": "code",
   "execution_count": 36,
   "id": "323d0f6b",
   "metadata": {},
   "outputs": [],
   "source": [
    "for i in range(200):\n",
    "    grid_houses1.update_values(grid_agents1,.001)\n",
    "    grid_agents1.swap_people(grid_houses1)"
   ]
  },
  {
   "cell_type": "code",
   "execution_count": 37,
   "id": "c655499a",
   "metadata": {},
   "outputs": [
    {
     "data": {
      "text/plain": "<matplotlib.image.AxesImage at 0x2510a65bca0>"
     },
     "execution_count": 37,
     "metadata": {},
     "output_type": "execute_result"
    },
    {
     "data": {
      "text/plain": "<Figure size 792x360 with 1 Axes>",
      "image/png": "[encoded data removed]"
     },
     "metadata": {},
     "output_type": "display_data"
    }
   ],
   "source": [
    "grid_houses1.draw_values()"
   ]
  },
  {
   "cell_type": "code",
   "execution_count": 38,
   "outputs": [
    {
     "data": {
      "text/plain": "<matplotlib.image.AxesImage at 0x2510a68a860>"
     },
     "execution_count": 38,
     "metadata": {},
     "output_type": "execute_result"
    },
    {
     "data": {
      "text/plain": "<Figure size 792x360 with 1 Axes>",
      "image/png": "[encoded data removed]"
     },
     "metadata": {},
     "output_type": "display_data"
    }
   ],
   "source": [
    "grid_agents1.draw_affluences()"
   ],
   "metadata": {
    "collapsed": false
   }
  },
  {
   "cell_type": "markdown",
   "id": "103a642a",
   "metadata": {},
   "source": [
    "The poorer are going to the edges, due to how we defined our averaging function (boundary = 'fill'), so this probably needs to be changed."
   ]
  },
  {
   "cell_type": "code",
   "execution_count": 153,
   "outputs": [
    {
     "data": {
      "text/plain": "<matplotlib.image.AxesImage at 0x2510dceab30>"
     },
     "execution_count": 153,
     "metadata": {},
     "output_type": "execute_result"
    },
    {
     "data": {
      "text/plain": "<Figure size 792x360 with 1 Axes>",
      "image/png": "[encoded data removed]"
     },
     "metadata": {},
     "output_type": "display_data"
    }
   ],
   "source": [
    "grid_houses1 = grid_houses(20,.1, kernel)\n",
    "grid_agents1 = grid_agents(20, 0.1, grid_houses1)\n",
    "grid_houses1.draw_values()"
   ],
   "metadata": {
    "collapsed": false
   }
  },
  {
   "cell_type": "code",
   "execution_count": 154,
   "outputs": [],
   "source": [
    "swap_exists = grid_agents1.swap_exists(grid_houses1)\n",
    "lam = 0.001\n",
    "i =0"
   ],
   "metadata": {
    "collapsed": false
   }
  },
  {
   "cell_type": "code",
   "execution_count": 155,
   "outputs": [
    {
     "name": "stdout",
     "output_type": "stream",
     "text": [
      "ERROR! Session/line number was not unique in database. History logging moved to new session 413\n",
      "True\n",
      "11000\n",
      "True\n",
      "12000\n",
      "True\n",
      "13000\n",
      "True\n",
      "14000\n",
      "True\n",
      "15000\n",
      "True\n",
      "16000\n",
      "True\n",
      "17000\n",
      "True\n",
      "18000\n",
      "True\n",
      "19000\n",
      "True\n",
      "20000\n",
      "True\n",
      "21000\n",
      "True\n",
      "22000\n",
      "True\n",
      "23000\n",
      "True\n",
      "24000\n",
      "True\n",
      "25000\n",
      "True\n",
      "26000\n",
      "True\n",
      "27000\n",
      "True\n",
      "28000\n",
      "True\n",
      "29000\n",
      "True\n",
      "30000\n",
      "True\n",
      "31000\n",
      "True\n",
      "32000\n",
      "True\n",
      "33000\n",
      "True\n",
      "34000\n",
      "True\n",
      "35000\n",
      "True\n",
      "36000\n",
      "True\n",
      "37000\n",
      "True\n",
      "38000\n",
      "True\n",
      "39000\n",
      "True\n",
      "40000\n",
      "True\n",
      "41000\n",
      "True\n",
      "42000\n",
      "True\n",
      "43000\n",
      "True\n",
      "44000\n",
      "True\n",
      "45000\n",
      "True\n",
      "46000\n",
      "True\n",
      "47000\n",
      "True\n",
      "48000\n",
      "True\n",
      "49000\n",
      "False\n",
      "50000\n",
      "50001\n",
      "False\n"
     ]
    },
    {
     "data": {
      "text/plain": "<matplotlib.image.AxesImage at 0x2510efa23b0>"
     },
     "execution_count": 155,
     "metadata": {},
     "output_type": "execute_result"
    },
    {
     "data": {
      "text/plain": "<Figure size 792x360 with 1 Axes>",
      "image/png": "[encoded data removed]"
     },
     "metadata": {},
     "output_type": "display_data"
    }
   ],
   "source": [
    "while swap_exists:\n",
    "    grid_houses1.update_values(grid_agents1,lam)\n",
    "    grid_agents1.swap_people(grid_houses1)\n",
    "    if i % 1000 == 0:\n",
    "        swap_exists = grid_agents1.swap_exists(grid_houses1)\n",
    "        print(swap_exists)\n",
    "        print(i)\n",
    "    i += 1\n",
    "print(i)\n",
    "print(swap_exists)\n",
    "grid_houses1.draw_values()"
   ],
   "metadata": {
    "collapsed": false
   }
  },
  {
   "cell_type": "code",
   "execution_count": null,
   "outputs": [],
   "source": [
    "grid_houses1.draw_values()"
   ],
   "metadata": {
    "collapsed": false
   }
  }
 ],
 "metadata": {
  "kernelspec": {
   "display_name": "Python 3 (ipykernel)",
   "language": "python",
   "name": "python3"
  },
  "language_info": {
   "codemirror_mode": {
    "name": "ipython",
    "version": 3
   },
   "file_extension": ".py",
   "mimetype": "text/x-python",
   "name": "python",
   "nbconvert_exporter": "python",
   "pygments_lexer": "ipython3",
   "version": "3.10.2"
  }
 },
 "nbformat": 4,
 "nbformat_minor": 5
}
