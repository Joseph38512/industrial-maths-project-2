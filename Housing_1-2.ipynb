{
 "cells": [
  {
   "cell_type": "code",
   "execution_count": 2,
   "id": "b15e1907",
   "metadata": {},
   "outputs": [],
   "source": [
    "%matplotlib inline\n",
    "import matplotlib.pyplot as plt\n",
    "plt.rcParams[\"figure.figsize\"] = (11, 5)  #set default figure size\n",
    "from random import uniform, seed\n",
    "from math import sqrt\n",
    "import numpy as np\n",
    "from Cell2D import Cell2D, draw_array\n",
    "from matplotlib.colors import LinearSegmentedColormap\n",
    "from scipy import signal\n",
    "import seaborn as sns\n",
    "from matplotlib import cm\n",
    "from numpy import random\n",
    "palette = sns.color_palette()\n",
    "colors = 'white', 'red', 'blue', 'orange'\n",
    "cmap = LinearSegmentedColormap.from_list('cmap', colors)\n",
    "import warnings\n",
    "warnings.filterwarnings(\"ignore\")"
   ]
  },
  {
   "cell_type": "code",
   "execution_count": 3,
   "id": "bc14054a",
   "metadata": {},
   "outputs": [],
   "source": [
    "# Defining a cmap that we can use where zeros (empty houses) will stand out - setting them to black\n",
    "cmap_show_empty = cm.Greens.copy()\n",
    "cmap_aff = cm.Blues.copy()\n",
    "cmap_show_empty.set_bad(color='black')\n",
    "cmap_aff.set_bad(color='black')\n",
    "\n",
    "cmap.set_under('black')\n",
    "#cmap_show_empty.set_bad(color='red', alpha = 1)"
   ]
  },
  {
   "cell_type": "code",
   "execution_count": 4,
   "id": "2f5ca9fa",
   "metadata": {},
   "outputs": [],
   "source": [
    "# Defining a class for the houses\n",
    "class grid_houses(Cell2D):\n",
    "    \"\"\"Represents a grid of Schelling agents.\"\"\"\n",
    "    \n",
    "    def __init__(self, n, prob_empty,kernel,seed):\n",
    "        \"\"\"Initializes the attributes.\n",
    "        \n",
    "        n: is the dimension of our square numpy array (n x n)\n",
    "\n",
    "        \"\"\"\n",
    "        super().__init__(n)\n",
    "        self.prob_empty = prob_empty    # probability of empty cells occurring\n",
    "        self.kernel = kernel\n",
    "        self.size = n\n",
    "\n",
    "        choices = np.array([0,1])\n",
    "        probs1 = [1/3, 1/3, 1/3]\n",
    "        choices1 = np.array([0.1,0.5,1], dtype = np.int8)\n",
    "        self.values = np.random.rand(n,n)\n",
    "        np.random.seed(seed)\n",
    "        self.array = np.random.choice(2, (n, n), p = [prob_empty, 1-prob_empty]) # randomly choosing which houses are empty, with probability prob_empty\n",
    "        self.padding = np.ones_like(self.array)\n",
    "        self.padding[0,:] = np.zeros_like(self.padding[0,:])\n",
    "        self.padding[1,:] = np.zeros_like(self.padding[1,:])\n",
    "        self.padding[-1,:] = np.zeros_like(self.padding[-1,:])\n",
    "        self.padding[-2,:] = np.zeros_like(self.padding[-2,:])\n",
    "        self.padding[:,0] = np.zeros_like(self.padding[:,0])\n",
    "        self.padding[:,1] = np.zeros_like(self.padding[:,1])\n",
    "        self.padding[:,-1] = np.zeros_like(self.padding[:,-1])\n",
    "        self.padding[:,-2] = np.zeros_like(self.padding[:,-2])\n",
    "\n",
    "        self.array = np.multiply(self.padding, self.array) # setting the house indicator to zero for the padding\n",
    "        self.values= np.multiply(self.values, self.array) # sets the house values to zero if there is no house at that spot\n",
    "\n",
    "    def average_neighbors(self):\n",
    "        '''\n",
    "        calculates the of the values of neighbors' house values, where the radius is defined by the kernel matrix. Note - boundary = fill automatically 'pads' the matrix with zeros on the boundary, which leads to lower averages there, so lower house prices near the boundary. We should look into a wrap boundary or possibly filling with a different value, eg average house price.\n",
    "        :return: array of the averages\n",
    "        '''\n",
    "        total = signal.convolve2d(self.values, self.kernel, boundary='wrap', mode='same')\n",
    "        # adding the number of total grid points\n",
    "        number = signal.convolve2d(self.array, self.kernel, boundary='wrap', mode='same')\n",
    "\n",
    "        # finding the average\n",
    "        average = np.zeros_like(self.array, dtype = float)\n",
    "        average[2:-2,2:-2] += np.divide(total[2:-2,2:-2],number[2:-2,2:-2])\n",
    "\n",
    "\n",
    "        # resetting the values to zero for squares that don't have a house\n",
    "        output = np.multiply(self.array,average)\n",
    "        output = np.multiply(output, self.array) # setting the house indicator to zero for the padding\n",
    "        return(output)\n",
    "\n",
    "    def draw_values(self):\n",
    "        '''\n",
    "        Just defined a function to draw the house values so we can draw both a map of houses and a map of house values\n",
    "        '''\n",
    "        # mask some 'bad' data, in your case you would have: data == 0\n",
    "        values = np.ma.masked_where(self.values == 0, self.values)\n",
    "        return draw_array(values[2:-2,2:-2], cmap = cmap_show_empty)\n",
    "\n",
    "    def update_values(self, grid_agents, lam):\n",
    "        '''\n",
    "        Coding for the function we use to update house prices, at a matrix level. We can use\n",
    "        :param grid_agents:\n",
    "        :param lam:\n",
    "        :return:\n",
    "        '''\n",
    "        self.values = lam*self.average_neighbors() + grid_agents.affluences\n",
    "\n",
    "    def draw_neighbors(self):\n",
    "        return draw_array(self.average_neighbors())\n"
   ]
  },
  {
   "cell_type": "code",
   "execution_count": 5,
   "id": "9710353f",
   "metadata": {},
   "outputs": [],
   "source": [
    "# Defining a class for the agents\n",
    "class grid_agents(Cell2D):\n",
    "    \"\"\"Represents a grid of Schelling agents.\"\"\"\n",
    "\n",
    "    def __init__(self, n, prob_empty,grid_houses):\n",
    "        \"\"\"Initializes the attributes.\n",
    "        \"\"\"\n",
    "        super().__init__(n)\n",
    "        self.prob_emp = prob_empty    # probability of empty cells occurring\n",
    "        self.size = n\n",
    "        choices = np.array([0.1,.5,1])\n",
    "        probs = [1/3, 1/3, 1/3]\n",
    "        self.affluences = np.random.rand(n,n)\n",
    "        self.affluences = np.multiply(self.affluences,grid_houses.array)\n",
    "\n",
    "\n",
    "    def draw(self):\n",
    "        \"\"\"Draws the cells.\"\"\"\n",
    "        return draw_array(self.array, cmap=cmap, vmax=3)\n",
    "\n",
    "    def draw_affluences(self):\n",
    "        '''\n",
    "        Draws the grid of affluences.\n",
    "        '''\n",
    "        # mask some 'bad' data, in your case you would have: data == 0\n",
    "        affluences = np.ma.masked_where(self.affluences == 0, self.affluences)\n",
    "        return draw_array(affluences[2:-2,2:-2], cmap = cmap_aff)\n",
    "\n",
    "    def swap_people(self, grid_houses):\n",
    "        '''\n",
    "        Picks two random grid elements, if they aren't zero and the delta function is greater than 0, swaps them\n",
    "        :param grid_houses: we need this as an input, since we need to get house values for the two agents, for the delta function.\n",
    "        :return:\n",
    "        '''\n",
    "        i1 = random.randint(2,self.size-2)\n",
    "        j1 = random.randint(2,self.size-2)\n",
    "        i2 = random.randint(2,self.size -2)\n",
    "        j2 = random.randint(2,self.size-2)\n",
    "\n",
    "        if j1 != j2 or i1 != i2:\n",
    "            if grid_houses.array[i1][j1] != 0 and grid_houses.array[i2][j2] != 0:\n",
    "                t1 = (grid_houses.values[i1][j1]- self.affluences[i1][j1])**2 + (grid_houses.values[i2][j2]- self.affluences[i2][j2])**2\n",
    "                t2 = (grid_houses.values[i1][j1]- self.affluences[i2][j2])**2 + (grid_houses.values[i2][j2]- self.affluences[i1][j1])**2\n",
    "                if t1 > t2:\n",
    "                    self.affluences[i2,j2], self.affluences[i1,j1] = self.affluences[i1,j1],self.affluences[i2,j2]\n",
    "\n",
    "    def swap_exists(self, grid_houses):\n",
    "        '''\n",
    "        Picks two random grid elements, if they aren't zero and the delta function is greater than 0, swaps them\n",
    "        :param grid_houses: we need this as an input, since we need to get house values for the two agents, for the delta function.\n",
    "        :return:\n",
    "        '''\n",
    "        print(self.affluences)\n",
    "        print(grid_houses.values)\n",
    "        x1 = range(self.array.shape[1])\n",
    "        x2 = range(self.array.shape[0])\n",
    "        y1 =range(self.array.shape[1])\n",
    "        y2 =range(self.array.shape[0])\n",
    "        x1 = list(x1)\n",
    "        x2 = list(x2)\n",
    "        y1 = list(y1)\n",
    "        y2 = list(y2)\n",
    "        random.shuffle(x1)\n",
    "        random.shuffle(x2)\n",
    "        random.shuffle(y1)\n",
    "        random.shuffle(y2)\n",
    "\n",
    "        for i1 in x1:\n",
    "            for j1 in x2:\n",
    "                for i2 in y1:\n",
    "                    for j2 in y2:\n",
    "                        if j1 != j2 or i1 != i2:\n",
    "                            if grid_houses.array[i1][j1] != 0 and grid_houses.array[i2][j2] != 0:\n",
    "                                t1 = (grid_houses.values[i1][j1]- self.affluences[i1][j1])**2 + (grid_houses.values[i2][j2]- self.affluences[i2][j2])**2\n",
    "                                t2 = (grid_houses.values[i1][j1]- self.affluences[i2][j2])**2 + (grid_houses.values[i2][j2]- self.affluences[i1][j1])**2\n",
    "                                # print(\"t1 =\",t1)\n",
    "                                # print(\"t2 =\",t2)\n",
    "                                if t1 > t2:\n",
    "                                    return True\n",
    "        return False"
   ]
  },
  {
   "cell_type": "code",
   "execution_count": 6,
   "id": "c8d7e6f2",
   "metadata": {},
   "outputs": [],
   "source": [
    "# kernel used for counting a cell's neighbours\n",
    "kernel = np.array([[1,1,1, 1, 1],\n",
    "                   [1,1,1, 1, 1],\n",
    "                   [1,1, 1, 1,1],\n",
    "                   [1,1,1, 1, 1],\n",
    "                   [1,1,1, 1, 1]], dtype=np.int8)"
   ]
  },
  {
   "cell_type": "markdown",
   "metadata": {
    "collapsed": false
   },
   "source": [
    "# Calculating Inequality"
   ]
  },
  {
   "cell_type": "code",
   "execution_count": 7,
   "metadata": {
    "collapsed": false
   },
   "outputs": [],
   "source": [
    "def theil_inequality(A):\n",
    "    B = A.copy()[2:-2,2:-2]\n",
    "    avg = np.average(B)\n",
    "    print('average = ', avg)\n",
    "    L= B/avg\n",
    "    T = np.nan_to_num(L* np.log( L ) )\n",
    "    return T.mean()"
   ]
  },
  {
   "cell_type": "markdown",
   "metadata": {
    "collapsed": false
   },
   "source": [
    "# Getting convergence rates for different $\\lambda$"
   ]
  },
  {
   "cell_type": "code",
   "execution_count": 8,
   "metadata": {
    "collapsed": false
   },
   "outputs": [],
   "source": [
    "def get_convergence(lam, gridsize, p_empty, seed):\n",
    "    grid_houses1 = grid_houses(gridsize + 4,p_empty, kernel, seed)\n",
    "    grid_agents1 = grid_agents(gridsize + 4, p_empty, grid_houses1)\n",
    "    i = 0\n",
    "    j = 0\n",
    "    while i < int(gridsize**(2)/3):\n",
    "        grid_houses1.update_values(grid_agents1, lam)\n",
    "        g1 = grid_agents1.affluences.copy()\n",
    "        grid_agents1.swap_people(grid_houses1)\n",
    "        g2 = grid_agents1.affluences\n",
    "        if np.array_equal(g1,g2):\n",
    "            i += 1\n",
    "        else:\n",
    "            i = 0\n",
    "        j += 1\n",
    "    H = get_eigenvalues(grid_houses1)\n",
    "    return j, np.average(grid_houses1.values), H"
   ]
  },
  {
   "cell_type": "code",
   "execution_count": 9,
   "metadata": {
    "collapsed": false
   },
   "outputs": [],
   "source": [
    "# graphing 'convergence' for different values of lambda\n",
    "\n",
    "\n",
    "# lambdas = []\n",
    "# convergence = []\n",
    "# inflation = []\n",
    "#\n",
    "# for t in range(1,50):\n",
    "#     lam = t/50\n",
    "#     conv, inf = get_convergence(lam, 20, 0.2, 0)\n",
    "#     lambdas.append(lam)\n",
    "#     convergence.append(conv)\n",
    "#     inflation.append(inf)"
   ]
  },
  {
   "cell_type": "code",
   "execution_count": 11,
   "metadata": {
    "collapsed": false
   },
   "outputs": [],
   "source": [
    "# plt.plot(lambdas, inflation)\n",
    "# plt.title('Average House Value for different values of lambda',fontsize=20)\n",
    "# plt.xlabel('Lambda',fontsize=20)\n",
    "# plt.ylabel('Average House Value',fontsize=20)\n",
    "# plt.savefig('lambda_inflation_2.pdf',fontsize=20)"
   ]
  },
  {
   "cell_type": "code",
   "execution_count": 13,
   "metadata": {
    "collapsed": false
   },
   "outputs": [],
   "source": [
    "# plt.plot(lambdas, convergence)\n",
    "# plt.title('Convergence rate for different values of lambda',fontsize=20)\n",
    "# plt.xlabel('Lambda',fontsize=20)\n",
    "# plt.ylabel('Iterations until convergence',fontsize=20)\n",
    "# plt.savefig('lambda_convergence_2.pdf')"
   ]
  },
  {
   "cell_type": "code",
   "execution_count": null,
   "metadata": {
    "collapsed": false
   },
   "outputs": [],
   "source": [
    "# graphing 'inflation' for different values of lambda\n",
    "\n",
    "# lambdas = []\n",
    "# convergence = []\n",
    "#\n",
    "# for t in range(1,50):\n",
    "#     print(t)\n",
    "#     lam = t/50\n",
    "#     conv = get_convergence(lam, 20, 0.2)\n",
    "#     lambdas.append(lam)\n",
    "#     convergence.append(conv)"
   ]
  },
  {
   "cell_type": "markdown",
   "metadata": {
    "collapsed": false
   },
   "source": [
    "# Getting a plot for the report"
   ]
  },
  {
   "cell_type": "code",
   "execution_count": 14,
   "metadata": {
    "collapsed": false
   },
   "outputs": [],
   "source": [
    "def get_plots(lam, gridsize, p_empty, file_name):\n",
    "    plt.figure(figsize = (40,10))\n",
    "    i = 0\n",
    "    j = 0\n",
    "    maxi = 0\n",
    "    grid_houses1 = grid_houses(gridsize + 4,p_empty, kernel, seed =None)\n",
    "    grid_agents1 = grid_agents(gridsize + 4, p_empty, grid_houses1)\n",
    "    plt.subplot(1,4,1)\n",
    "    grid_houses1.draw_values()\n",
    "    plt.colorbar()\n",
    "    plt.title(f'Initial House Values', fontsize = 45)\n",
    "    plt.subplot(1,4,2)\n",
    "    grid_agents1.draw_affluences()\n",
    "    plt.colorbar()\n",
    "    plt.title(f'Initial Affluences', fontsize = 45)\n",
    "    while i < gridsize**2/3:\n",
    "        grid_houses1.update_values(grid_agents1, lam)\n",
    "        g1 = grid_agents1.affluences.copy()\n",
    "        grid_agents1.swap_people(grid_houses1)\n",
    "        g2 = grid_agents1.affluences\n",
    "        if np.array_equal(g1,g2):\n",
    "            i += 1\n",
    "        else:\n",
    "            if i >= maxi:\n",
    "                maxi = i\n",
    "                print(\"maxi = \",maxi)\n",
    "            i = 0\n",
    "        j += 1\n",
    "        if j % 25000 == 0:\n",
    "            print(j)\n",
    "\n",
    "\n",
    "    plt.subplot(1,4,3)\n",
    "    H = get_eigenvalues(grid_houses1)\n",
    "    print(f'Segregation ',H )\n",
    "    print(f'Average House Value: ',np.average(grid_houses1.values) )\n",
    "    grid_houses1.draw_values()\n",
    "    plt.title(f'Converged House Values', fontsize = 45)\n",
    "    plt.colorbar()\n",
    "\n",
    "\n",
    "    plt.subplot(1,4,4)\n",
    "    grid_agents1.draw_affluences()\n",
    "    plt.title(f'Converged Affluences', fontsize = 45)\n",
    "    plt.colorbar()\n",
    "\n",
    "\n",
    "    plt.savefig(f'{file_name}.pdf', bbox_inches = 'tight')\n",
    "    #1"
   ]
  },
  {
   "cell_type": "code",
   "execution_count": 15,
   "metadata": {
    "collapsed": false
   },
   "outputs": [],
   "source": [
    "# get_plots(0.5, 40, 0.2, 'aff_val_plot_40')"
   ]
  },
  {
   "cell_type": "code",
   "execution_count": 64,
   "metadata": {
    "collapsed": false
   },
   "outputs": [],
   "source": [
    "# Defining a class for the agents\n",
    "class grid_agents_gamma(Cell2D):\n",
    "    \"\"\"Represents a grid of Schelling agents.\"\"\"\n",
    "\n",
    "    def __init__(self, n, prob_empty,grid_houses, shape, scale, seed):\n",
    "        \"\"\"Initializes the attributes.\n",
    "        \"\"\"\n",
    "        super().__init__(n)\n",
    "        self.prob_emp = prob_empty    # probability of empty cells occurring\n",
    "        self.size = n\n",
    "        choices = np.array([0.1,.5,1])\n",
    "        probs = [1/3, 1/3, 1/3]\n",
    "        np.random.seed(seed)\n",
    "        self.affluences = np.random.gamma(shape, scale, size = (n,n))\n",
    "        self.affluences = np.multiply(self.affluences,grid_houses.array)\n",
    "\n",
    "\n",
    "    def draw(self):\n",
    "        \"\"\"Draws the cells.\"\"\"\n",
    "        return draw_array(self.array, cmap=cmap, vmax=3)\n",
    "\n",
    "    def draw_affluences(self):\n",
    "        '''\n",
    "        Draws the grid of affluences.\n",
    "        '''\n",
    "        # mask some 'bad' data, in your case you would have: data == 0\n",
    "        affluences = np.ma.masked_where(self.affluences == 0, self.affluences)\n",
    "        return draw_array(affluences, cmap = cmap_show_empty)\n",
    "\n",
    "    def swap_people(self, grid_houses):\n",
    "        '''\n",
    "        Picks two random grid elements, if they aren't zero and the delta function is greater than 0, swaps them\n",
    "        :param grid_houses: we need this as an input, since we need to get house values for the two agents, for the delta function.\n",
    "        :return:\n",
    "        '''\n",
    "        i1 = random.randint(2,self.size-2)\n",
    "        j1 = random.randint(2,self.size-2)\n",
    "        i2 = random.randint(2,self.size -2)\n",
    "        j2 = random.randint(2,self.size-2)\n",
    "\n",
    "        if j1 != j2 or i1 != i2:\n",
    "            if grid_houses.array[i1][j1] != 0 and grid_houses.array[i2][j2] != 0:\n",
    "                t1 = (grid_houses.values[i1][j1]- self.affluences[i1][j1])**2 + (grid_houses.values[i2][j2]- self.affluences[i2][j2])**2\n",
    "                t2 = (grid_houses.values[i1][j1]- self.affluences[i2][j2])**2 + (grid_houses.values[i2][j2]- self.affluences[i1][j1])**2\n",
    "                if t1 > t2:\n",
    "                    self.affluences[i2,j2], self.affluences[i1,j1] = self.affluences[i1,j1],self.affluences[i2,j2]\n",
    "\n",
    "    def swap_exists(self, grid_houses):\n",
    "        '''\n",
    "        Picks two random grid elements, if they aren't zero and the delta function is greater than 0, swaps them\n",
    "        :param grid_houses: we need this as an input, since we need to get house values for the two agents, for the delta function.\n",
    "        :return:\n",
    "        '''\n",
    "        print(self.affluences)\n",
    "        print(grid_houses.values)\n",
    "        x1 = range(self.array.shape[1])\n",
    "        x2 = range(self.array.shape[0])\n",
    "        y1 =range(self.array.shape[1])\n",
    "        y2 =range(self.array.shape[0])\n",
    "        x1 = list(x1)\n",
    "        x2 = list(x2)\n",
    "        y1 = list(y1)\n",
    "        y2 = list(y2)\n",
    "        random.shuffle(x1)\n",
    "        random.shuffle(x2)\n",
    "        random.shuffle(y1)\n",
    "        random.shuffle(y2)\n",
    "\n",
    "        for i1 in x1:\n",
    "            for j1 in x2:\n",
    "                for i2 in y1:\n",
    "                    for j2 in y2:\n",
    "                        if j1 != j2 or i1 != i2:\n",
    "                            if grid_houses.array[i1][j1] != 0 and grid_houses.array[i2][j2] != 0:\n",
    "                                t1 = (grid_houses.values[i1][j1]- self.affluences[i1][j1])**2 + (grid_houses.values[i2][j2]- self.affluences[i2][j2])**2\n",
    "                                t2 = (grid_houses.values[i1][j1]- self.affluences[i2][j2])**2 + (grid_houses.values[i2][j2]- self.affluences[i1][j1])**2\n",
    "                                # print(\"t1 =\",t1)\n",
    "                                # print(\"t2 =\",t2)\n",
    "                                if t1 > t2:\n",
    "                                    return True\n",
    "        return False"
   ]
  },
  {
   "cell_type": "code",
   "execution_count": 65,
   "metadata": {
    "collapsed": false
   },
   "outputs": [],
   "source": [
    "# getting convergence for gamma distributed affluence\n",
    "def get_gamma_convergence(lam, gridsize, p_empty,gamma_shape,gamma_scale, seed):\n",
    "    '''Returns the number of iterations required to converge, the average house value, and the theil index in that order'''\n",
    "    grid_houses1 = grid_houses(gridsize + 4,p_empty, kernel, seed)\n",
    "    grid_agents1 = grid_agents_gamma(gridsize + 4, p_empty, grid_houses1, gamma_shape, gamma_scale)\n",
    "    T = theil_inequality(grid_agents1.affluences)\n",
    "    i = 0\n",
    "    j = 0\n",
    "    while i < int(gridsize**(2)):\n",
    "        grid_houses1.update_values(grid_agents1, lam)\n",
    "        g1 = grid_agents1.affluences.copy()\n",
    "        grid_agents1.swap_people(grid_houses1)\n",
    "        g2 = grid_agents1.affluences\n",
    "        if np.array_equal(g1,g2):\n",
    "            i += 1\n",
    "        else:\n",
    "            i = 0\n",
    "        j += 1\n",
    "    H = get_eigenvalues(grid_houses1)\n",
    "    return j, np.average(grid_houses1.values), T, H"
   ]
  },
  {
   "cell_type": "code",
   "execution_count": 66,
   "metadata": {
    "collapsed": false
   },
   "outputs": [],
   "source": [
    "def number_of_it_against_theil(gridsize,steps, seed= None):\n",
    "     \n",
    "    #creates the graph for number of iterations against theil index\n",
    "    teil_values = []\n",
    "    iterations = []\n",
    "    for x in range (steps):\n",
    "            gamma_shape = 10**(-x/50)\n",
    "            gamma_scale = 1/(2*gamma_shape)\n",
    "            values = get_gamma_convergence(0.5, gridsize, 0.2,gamma_shape,gamma_scale, seed)\n",
    "            iterations.append(values[0])\n",
    "            teil_values.append(values[2])\n",
    "            \n",
    "    plt.scatter(teil_values,iterations)\n",
    "    plt.title(f'Theil Index vs iterations to convergence')\n",
    "    plt.xlabel(f'Theil Index')\n",
    "    plt.ylabel(f'Iterations to convergence')\n",
    "    plt.savefig('thiel_index_graph.pdf')"
   ]
  },
  {
   "cell_type": "code",
   "execution_count": 19,
   "id": "58ee48b9",
   "metadata": {},
   "outputs": [],
   "source": [
    "# number_of_it_against_theil(20,20,0)"
   ]
  },
  {
   "cell_type": "code",
   "execution_count": 20,
   "metadata": {
    "collapsed": false
   },
   "outputs": [],
   "source": [
    "# plt.scatter(teil_values,iterations)\n",
    "# plt.title(f'Theil Index vs iterations to convergence')\n",
    "# plt.xlabel(f'Theil Index')\n",
    "# plt.ylabel(f'Iterations to convergence')\n",
    "# plt.savefig('thiel_index_graph_1.pdf')"
   ]
  },
  {
   "cell_type": "markdown",
   "source": [
    "## Working on economic tension"
   ],
   "metadata": {
    "collapsed": false
   }
  },
  {
   "cell_type": "code",
   "execution_count": 21,
   "outputs": [],
   "source": [
    "shape = 1/1.536\n",
    "scale = 1/(2*shape)"
   ],
   "metadata": {
    "collapsed": false
   }
  },
  {
   "cell_type": "code",
   "execution_count": 22,
   "outputs": [],
   "source": [
    "def econ_tension(agents, houses):\n",
    "    A = np.nan_to_num((agents.affluences - houses.average_neighbors()))\n",
    "    return (((np.sqrt(A**2))/houses.array.sum()).sum())"
   ],
   "metadata": {
    "collapsed": false
   }
  },
  {
   "cell_type": "code",
   "execution_count": 67,
   "outputs": [],
   "source": [
    "def econ_tension_2(agents, houses):\n",
    "    A = np.nan_to_num((agents.affluences - houses.average_neighbors()))\n",
    "    return (((np.sqrt(A**2))/(houses.array.sum() - 49 - 33)).sum())"
   ],
   "metadata": {
    "collapsed": false
   }
  },
  {
   "cell_type": "code",
   "execution_count": 69,
   "outputs": [],
   "source": [
    "# plotting mean satisfaction against iterations\n",
    "def get_econ_tension(lam, gridsize, p_empty, seed1, seed2):\n",
    "    tensions = []\n",
    "    its = []\n",
    "    i = 0\n",
    "    j = 0\n",
    "    grid_houses1 = grid_houses(gridsize + 4,p_empty, kernel, seed1)\n",
    "    grid_agents1 = grid_agents_gamma(gridsize + 4, p_empty, grid_houses1, shape, scale, seed2)\n",
    "\n",
    "    while i < int(gridsize**(2)/3):\n",
    "        grid_houses1.update_values(grid_agents1, lam)\n",
    "        g1 = grid_agents1.affluences.copy()\n",
    "        grid_agents1.swap_people(grid_houses1)\n",
    "        g2 = grid_agents1.affluences\n",
    "        if np.array_equal(g1,g2):\n",
    "            i += 1\n",
    "        else:\n",
    "            i = 0\n",
    "        j += 1\n",
    "        its.append(j)\n",
    "        m= econ_tension(grid_agents1, grid_houses1)\n",
    "        tensions.append(m)\n",
    "    return j, np.average(grid_houses1.values), its, tensions"
   ],
   "metadata": {
    "collapsed": false
   }
  },
  {
   "cell_type": "code",
   "execution_count": 70,
   "outputs": [],
   "source": [
    "_,_, its, sats = get_econ_tension(0.5, 40, 0.2, 2,1)"
   ],
   "metadata": {
    "collapsed": false
   }
  },
  {
   "cell_type": "code",
   "execution_count": 26,
   "outputs": [
    {
     "data": {
      "text/plain": "<Figure size 792x360 with 1 Axes>",
      "image/png": "[encoded data removed]"
     },
     "metadata": {
      "needs_background": "light"
     },
     "output_type": "display_data"
    }
   ],
   "source": [
    "plt.plot(its[8:],sats[8:])\n",
    "plt.title('Economic Tension vs Iterations', fontsize = 25)\n",
    "plt.xlabel('Iterations', fontsize = 25)\n",
    "plt.ylabel('Economic Tension', fontsize = 25)\n",
    "plt.yticks(fontsize=20)\n",
    "plt.xticks(fontsize=20)\n",
    "plt.savefig('its_ten.pdf',bbox_inches='tight')"
   ],
   "metadata": {
    "collapsed": false
   }
  },
  {
   "cell_type": "markdown",
   "source": [
    "## Adding high value zones"
   ],
   "metadata": {
    "collapsed": false
   }
  },
  {
   "cell_type": "code",
   "execution_count": 27,
   "outputs": [],
   "source": [
    "eps = np.spacing(0.0)"
   ],
   "metadata": {
    "collapsed": false
   }
  },
  {
   "cell_type": "code",
   "execution_count": 28,
   "outputs": [],
   "source": [
    "class grid_houses_amen(Cell2D):\n",
    "    \"\"\"Represents a grid of Schelling agents.\"\"\"\n",
    "\n",
    "    def __init__(self, n, prob_empty, prob_hv,kernel,seed):\n",
    "        \"\"\"Initializes the attributes.\n",
    "\n",
    "        n: is the dimension of our square numpy array (n x n)\n",
    "\n",
    "        \"\"\"\n",
    "        super().__init__(n)\n",
    "        self.prob_empty = prob_empty    # probability of empty cells occurring\n",
    "        self.kernel = kernel\n",
    "        self.size = n\n",
    "\n",
    "        choices = np.array([0,1])\n",
    "        probs1 = [1/3, 1/3, 1/3]\n",
    "        choices1 = np.array([0.1,0.5,1], dtype = np.int8)\n",
    "        self.values = np.random.rand(n,n)\n",
    "        np.random.seed(seed)\n",
    "        self.array = np.random.choice(2, (n, n), p = [prob_empty, 1-prob_empty]) # randomly choosing which houses are empty, with probability prob_empty\n",
    "        self.padding = np.ones_like(self.array)\n",
    "        self.padding[0,:] = np.zeros_like(self.padding[0,:])\n",
    "        self.padding[1,:] = np.zeros_like(self.padding[1,:])\n",
    "        self.padding[-1,:] = np.zeros_like(self.padding[-1,:])\n",
    "        self.padding[-2,:] = np.zeros_like(self.padding[-2,:])\n",
    "        self.padding[:,0] = np.zeros_like(self.padding[:,0])\n",
    "        self.padding[:,1] = np.zeros_like(self.padding[:,1])\n",
    "        self.padding[:,-1] = np.zeros_like(self.padding[:,-1])\n",
    "        self.padding[:,-2] = np.zeros_like(self.padding[:,-2])\n",
    "\n",
    "        #self.high_value = np.random.choice(2, (n, n), p = [1-prob_hv, prob_hv])\n",
    "        self.high_value = np.zeros((n,n))\n",
    "        self.high_value[8:15,5:12] = 1\n",
    "        self.high_value[30:34,12:24] = 1\n",
    "        self.array = np.multiply(self.padding, self.array) # setting the house indicator to zero for the padding\n",
    "        self.values= np.multiply(self.values, self.array) # sets the house values to zero if there is no house at that spot\n",
    "        self.values = self.values - self.values*self.high_value + self.high_value\n",
    "\n",
    "    def average_neighbors(self):\n",
    "        '''\n",
    "        calculates the of the values of neighbors' house values, where the radius is defined by the kernel matrix. Note - boundary = fill automatically 'pads' the matrix with zeros on the boundary, which leads to lower averages there, so lower house prices near the boundary. We should look into a wrap boundary or possibly filling with a different value, eg average house price.\n",
    "        :return: array of the averages\n",
    "        '''\n",
    "        total = signal.convolve2d(self.values, self.kernel, boundary='wrap', mode='same')\n",
    "        # adding the number of total grid points\n",
    "        number = signal.convolve2d(self.array, self.kernel, boundary='wrap', mode='same')\n",
    "\n",
    "        # finding the average\n",
    "        average = np.zeros_like(self.array, dtype = float)\n",
    "        average[2:-2,2:-2] += np.divide(total[2:-2,2:-2],number[2:-2,2:-2])\n",
    "\n",
    "        # resetting the values to zero for squares that don't have a house\n",
    "        output = np.multiply(self.array,average)\n",
    "        output = np.multiply(output, self.array) # setting the house indicator to zero for the padding\n",
    "\n",
    "        return(output)\n",
    "\n",
    "    def draw_values(self):\n",
    "        '''\n",
    "        Just defined a function to draw the house values so we can draw both a map of houses and a map of house values\n",
    "        '''\n",
    "        # mask some 'bad' data, in your case you would have: data == 0\n",
    "        values = np.ma.masked_where(self.values == 1, self.values)\n",
    "        return draw_array(values[2:-2,2:-2], cmap = cmap_show_empty, vmin = eps)\n",
    "\n",
    "    def update_values(self, grid_agents, lam):\n",
    "        '''\n",
    "        Coding for the function we use to update house prices, at a matrix level. We can use\n",
    "        :param grid_agents:\n",
    "        :param lam:\n",
    "        :return:\n",
    "        '''\n",
    "        A = lam*self.average_neighbors() + grid_agents.affluences\n",
    "\n",
    "        #making sure set high value to 1\n",
    "        self.values = A - A*self.high_value + self.high_value\n",
    "\n",
    "    def draw_neighbors(self):\n",
    "        return draw_array(self.average_neighbors())"
   ],
   "metadata": {
    "collapsed": false
   }
  },
  {
   "cell_type": "code",
   "execution_count": 55,
   "outputs": [],
   "source": [
    "class grid_agents_gamma_amen(Cell2D):\n",
    "    \"\"\"Represents a grid of Schelling agents.\"\"\"\n",
    "\n",
    "    def __init__(self, n, prob_empty,grid_houses, shape, scale, seed):\n",
    "        \"\"\"Initializes the attributes.\n",
    "        \"\"\"\n",
    "        super().__init__(n)\n",
    "        self.prob_emp = prob_empty    # probability of empty cells occurring\n",
    "        self.size = n\n",
    "        choices = np.array([0.1,.5,1])\n",
    "        probs = [1/3, 1/3, 1/3]\n",
    "        np.random.seed(seed)\n",
    "        self.affluences = np.random.gamma(shape, scale, size = (n,n))\n",
    "        self.affluences  = np.multiply(self.affluences,grid_houses.array)\n",
    "        self.affluences = self.affluences - np.multiply(self.affluences, grid_houses.high_value) + grid_houses.high_value\n",
    "\n",
    "\n",
    "    def draw(self):\n",
    "        \"\"\"Draws the cells.\"\"\"\n",
    "        return draw_array(self.array, cmap=cmap, vmax=3)\n",
    "\n",
    "    def draw_affluences(self):\n",
    "        '''\n",
    "        Draws the grid of affluences.\n",
    "        '''\n",
    "        # mask some 'bad' data, in your case you would have: data == 0\n",
    "        affluences = np.ma.masked_where(self.affluences == 0, self.affluences)\n",
    "        return draw_array(affluences, cmap = cmap_show_empty)\n",
    "\n",
    "    def swap_people(self, grid_houses):\n",
    "        '''\n",
    "        Picks two random grid elements, if they aren't zero and the delta function is greater than 0, swaps them\n",
    "        :param grid_houses: we need this as an input, since we need to get house values for the two agents, for the delta function.\n",
    "        :return:\n",
    "        '''\n",
    "        i1 = random.randint(2,self.size-2)\n",
    "        j1 = random.randint(2,self.size-2)\n",
    "        i2 = random.randint(2,self.size -2)\n",
    "        j2 = random.randint(2,self.size-2)\n",
    "\n",
    "        if j1 != j2 or i1 != i2:\n",
    "            if grid_houses.array[i1][j1] != 0 and grid_houses.array[i2][j2] != 0:\n",
    "                t1 = (grid_houses.values[i1][j1]- self.affluences[i1][j1])**2 + (grid_houses.values[i2][j2]- self.affluences[i2][j2])**2\n",
    "                t2 = (grid_houses.values[i1][j1]- self.affluences[i2][j2])**2 + (grid_houses.values[i2][j2]- self.affluences[i1][j1])**2\n",
    "                if t1 > t2:\n",
    "                    self.affluences[i2,j2], self.affluences[i1,j1] = self.affluences[i1,j1],self.affluences[i2,j2]\n",
    "\n",
    "    def swap_exists(self, grid_houses):\n",
    "        '''\n",
    "        Picks two random grid elements, if they aren't zero and the delta function is greater than 0, swaps them\n",
    "        :param grid_houses: we need this as an input, since we need to get house values for the two agents, for the delta function.\n",
    "        :return:\n",
    "        '''\n",
    "        print(self.affluences)\n",
    "        print(grid_houses.values)\n",
    "        x1 = range(self.array.shape[1])\n",
    "        x2 = range(self.array.shape[0])\n",
    "        y1 =range(self.array.shape[1])\n",
    "        y2 =range(self.array.shape[0])\n",
    "        x1 = list(x1)\n",
    "        x2 = list(x2)\n",
    "        y1 = list(y1)\n",
    "        y2 = list(y2)\n",
    "        random.shuffle(x1)\n",
    "        random.shuffle(x2)\n",
    "        random.shuffle(y1)\n",
    "        random.shuffle(y2)\n",
    "\n",
    "        for i1 in x1:\n",
    "            for j1 in x2:\n",
    "                for i2 in y1:\n",
    "                    for j2 in y2:\n",
    "                        if j1 != j2 or i1 != i2:\n",
    "                            if grid_houses.array[i1][j1] != 0 and grid_houses.array[i2][j2] != 0:\n",
    "                                t1 = (grid_houses.values[i1][j1]- self.affluences[i1][j1])**2 + (grid_houses.values[i2][j2]- self.affluences[i2][j2])**2\n",
    "                                t2 = (grid_houses.values[i1][j1]- self.affluences[i2][j2])**2 + (grid_houses.values[i2][j2]- self.affluences[i1][j1])**2\n",
    "                                # print(\"t1 =\",t1)\n",
    "                                # print(\"t2 =\",t2)\n",
    "                                if t1 > t2:\n",
    "                                    return True\n",
    "        return False"
   ],
   "metadata": {
    "collapsed": false
   }
  },
  {
   "cell_type": "code",
   "execution_count": 30,
   "outputs": [],
   "source": [
    "def get_plots(lam, gridsize, p_empty, p_hv,file_name):\n",
    "    i = 0\n",
    "    j = 0\n",
    "    maxi = 0\n",
    "    grid_houses1 = grid_houses_amen(gridsize + 4,p_empty, p_hv, kernel, seed =None)\n",
    "    grid_agents1 = grid_agents(gridsize + 4, p_empty, grid_houses1)\n",
    "    cbar.ax.tick_params(labelsize=10)\n",
    "    plt.subplot(1,2,1)\n",
    "    grid_houses1.draw_values()\n",
    "    plt.colorbar()\n",
    "    plt.title(f'Initial', fontsize = 25)\n",
    "    while i < gridsize**2/300:\n",
    "        grid_houses1.update_values(grid_agents1, lam)\n",
    "        g1 = grid_agents1.affluences.copy()\n",
    "        grid_agents1.swap_people(grid_houses1)\n",
    "        g2 = grid_agents1.affluences\n",
    "        if np.array_equal(g1,g2):\n",
    "            i += 1\n",
    "        else:\n",
    "            if i >= maxi:\n",
    "                maxi = i\n",
    "                print(\"maxi = \",maxi)\n",
    "            i = 0\n",
    "        j += 1\n",
    "        if j % 25000 == 0:\n",
    "            print(j)\n",
    "    plt.subplot(1,2,2)\n",
    "    H = get_eigenvalues(grid_houses1)\n",
    "    print(f'Segregation ',H )\n",
    "    print(f'Average House Value: ',np.average(grid_houses1.values) )\n",
    "    grid_houses1.draw_values()\n",
    "    plt.title(f'Converged', fontsize = 25)\n",
    "    plt.colorbar()\n",
    "    plt.savefig(f'{file_name}.pdf')\n",
    "    #1"
   ],
   "metadata": {
    "collapsed": false
   }
  },
  {
   "cell_type": "code",
   "execution_count": 31,
   "outputs": [
    {
     "ename": "NameError",
     "evalue": "name 'cbar' is not defined",
     "output_type": "error",
     "traceback": [
      "\u001B[1;31m---------------------------------------------------------------------------\u001B[0m",
      "\u001B[1;31mNameError\u001B[0m                                 Traceback (most recent call last)",
      "Input \u001B[1;32mIn [31]\u001B[0m, in \u001B[0;36m<module>\u001B[1;34m\u001B[0m\n\u001B[1;32m----> 1\u001B[0m \u001B[43mget_plots\u001B[49m\u001B[43m(\u001B[49m\u001B[38;5;241;43m0.4\u001B[39;49m\u001B[43m,\u001B[49m\u001B[43m \u001B[49m\u001B[38;5;241;43m40\u001B[39;49m\u001B[43m,\u001B[49m\u001B[43m \u001B[49m\u001B[38;5;241;43m0.2\u001B[39;49m\u001B[43m,\u001B[49m\u001B[43m \u001B[49m\u001B[38;5;241;43m0.1\u001B[39;49m\u001B[43m,\u001B[49m\u001B[38;5;124;43m'\u001B[39;49m\u001B[38;5;124;43mhigh_value\u001B[39;49m\u001B[38;5;124;43m'\u001B[39;49m\u001B[43m)\u001B[49m\n",
      "Input \u001B[1;32mIn [30]\u001B[0m, in \u001B[0;36mget_plots\u001B[1;34m(lam, gridsize, p_empty, p_hv, file_name)\u001B[0m\n\u001B[0;32m      5\u001B[0m grid_houses1 \u001B[38;5;241m=\u001B[39m grid_houses_amen(gridsize \u001B[38;5;241m+\u001B[39m \u001B[38;5;241m4\u001B[39m,p_empty, p_hv, kernel, seed \u001B[38;5;241m=\u001B[39m\u001B[38;5;28;01mNone\u001B[39;00m)\n\u001B[0;32m      6\u001B[0m grid_agents1 \u001B[38;5;241m=\u001B[39m grid_agents(gridsize \u001B[38;5;241m+\u001B[39m \u001B[38;5;241m4\u001B[39m, p_empty, grid_houses1)\n\u001B[1;32m----> 7\u001B[0m \u001B[43mcbar\u001B[49m\u001B[38;5;241m.\u001B[39max\u001B[38;5;241m.\u001B[39mtick_params(labelsize\u001B[38;5;241m=\u001B[39m\u001B[38;5;241m10\u001B[39m)\n\u001B[0;32m      8\u001B[0m plt\u001B[38;5;241m.\u001B[39msubplot(\u001B[38;5;241m1\u001B[39m,\u001B[38;5;241m2\u001B[39m,\u001B[38;5;241m1\u001B[39m)\n\u001B[0;32m      9\u001B[0m grid_houses1\u001B[38;5;241m.\u001B[39mdraw_values()\n",
      "\u001B[1;31mNameError\u001B[0m: name 'cbar' is not defined"
     ]
    }
   ],
   "source": [
    "#get_plots(0.4, 40, 0.2, 0.1,'high_value')"
   ],
   "metadata": {
    "collapsed": false
   }
  },
  {
   "cell_type": "code",
   "execution_count": 32,
   "outputs": [],
   "source": [
    "gridsize = 40\n",
    "p_empty = 0.2"
   ],
   "metadata": {
    "collapsed": false
   }
  },
  {
   "cell_type": "code",
   "execution_count": 35,
   "outputs": [],
   "source": [
    "grid_houses1 = grid_houses_amen(gridsize + 4,p_empty, 0, kernel, 0)\n",
    "grid_agents1 = grid_agents_gamma_amen(gridsize + 4, p_empty, grid_houses1, shape, scale)"
   ],
   "metadata": {
    "collapsed": false
   }
  },
  {
   "cell_type": "code",
   "execution_count": 61,
   "outputs": [],
   "source": [
    "def get_econ_tension_amen(lam, gridsize, p_empty, seed1, seed2):\n",
    "    tensions = []\n",
    "    its = []\n",
    "    i = 0\n",
    "    j = 0\n",
    "    grid_houses1 = grid_houses_amen(gridsize + 4,p_empty, 0, kernel, seed1)\n",
    "    grid_agents1 = grid_agents_gamma_amen(gridsize + 4, p_empty, grid_houses1, shape, scale, seed2)\n",
    "\n",
    "    while i < int(gridsize**(2)/3):\n",
    "        grid_houses1.update_values(grid_agents1, lam)\n",
    "        g1 = grid_agents1.affluences.copy()\n",
    "        grid_agents1.swap_people(grid_houses1)\n",
    "        g2 = grid_agents1.affluences\n",
    "        if np.array_equal(g1,g2):\n",
    "            i += 1\n",
    "        else:\n",
    "            i = 0\n",
    "        j += 1\n",
    "        its.append(j)\n",
    "        m= econ_tension_2(grid_agents1, grid_houses1)\n",
    "        tensions.append(m)\n",
    "    return j, np.average(grid_houses1.values), its, tensions"
   ],
   "metadata": {
    "collapsed": false
   }
  },
  {
   "cell_type": "code",
   "execution_count": 62,
   "outputs": [
    {
     "ename": "KeyboardInterrupt",
     "evalue": "",
     "output_type": "error",
     "traceback": [
      "\u001B[1;31m---------------------------------------------------------------------------\u001B[0m",
      "\u001B[1;31mKeyboardInterrupt\u001B[0m                         Traceback (most recent call last)",
      "Input \u001B[1;32mIn [62]\u001B[0m, in \u001B[0;36m<module>\u001B[1;34m\u001B[0m\n\u001B[1;32m----> 1\u001B[0m _,_, its2, sats2 \u001B[38;5;241m=\u001B[39m \u001B[43mget_econ_tension_amen\u001B[49m\u001B[43m(\u001B[49m\u001B[38;5;241;43m0.5\u001B[39;49m\u001B[43m,\u001B[49m\u001B[43m \u001B[49m\u001B[38;5;241;43m40\u001B[39;49m\u001B[43m,\u001B[49m\u001B[43m \u001B[49m\u001B[38;5;241;43m0.2\u001B[39;49m\u001B[43m,\u001B[49m\u001B[43m \u001B[49m\u001B[38;5;241;43m2\u001B[39;49m\u001B[43m,\u001B[49m\u001B[38;5;241;43m1\u001B[39;49m\u001B[43m)\u001B[49m\n",
      "Input \u001B[1;32mIn [61]\u001B[0m, in \u001B[0;36mget_econ_tension_amen\u001B[1;34m(lam, gridsize, p_empty, seed1, seed2)\u001B[0m\n\u001B[0;32m     18\u001B[0m     j \u001B[38;5;241m+\u001B[39m\u001B[38;5;241m=\u001B[39m \u001B[38;5;241m1\u001B[39m\n\u001B[0;32m     19\u001B[0m     its\u001B[38;5;241m.\u001B[39mappend(j)\n\u001B[1;32m---> 20\u001B[0m     m\u001B[38;5;241m=\u001B[39m \u001B[43mecon_tension_2\u001B[49m\u001B[43m(\u001B[49m\u001B[43mgrid_agents1\u001B[49m\u001B[43m,\u001B[49m\u001B[43m \u001B[49m\u001B[43mgrid_houses1\u001B[49m\u001B[43m)\u001B[49m\n\u001B[0;32m     21\u001B[0m     tensions\u001B[38;5;241m.\u001B[39mappend(m)\n\u001B[0;32m     22\u001B[0m \u001B[38;5;28;01mreturn\u001B[39;00m j, np\u001B[38;5;241m.\u001B[39maverage(grid_houses1\u001B[38;5;241m.\u001B[39mvalues), its, tensions\n",
      "Input \u001B[1;32mIn [47]\u001B[0m, in \u001B[0;36mecon_tension_2\u001B[1;34m(agents, houses)\u001B[0m\n\u001B[0;32m      1\u001B[0m \u001B[38;5;28;01mdef\u001B[39;00m \u001B[38;5;21mecon_tension_2\u001B[39m(agents, houses):\n\u001B[1;32m----> 2\u001B[0m     A \u001B[38;5;241m=\u001B[39m \u001B[43mnp\u001B[49m\u001B[38;5;241;43m.\u001B[39;49m\u001B[43mnan_to_num\u001B[49m\u001B[43m(\u001B[49m\u001B[43m(\u001B[49m\u001B[43magents\u001B[49m\u001B[38;5;241;43m.\u001B[39;49m\u001B[43maffluences\u001B[49m\u001B[43m \u001B[49m\u001B[38;5;241;43m-\u001B[39;49m\u001B[43m \u001B[49m\u001B[43mhouses\u001B[49m\u001B[38;5;241;43m.\u001B[39;49m\u001B[43maverage_neighbors\u001B[49m\u001B[43m(\u001B[49m\u001B[43m)\u001B[49m\u001B[43m)\u001B[49m\u001B[43m)\u001B[49m\n\u001B[0;32m      3\u001B[0m     \u001B[38;5;28;01mreturn\u001B[39;00m (((np\u001B[38;5;241m.\u001B[39msqrt(A\u001B[38;5;241m*\u001B[39m\u001B[38;5;241m*\u001B[39m\u001B[38;5;241m2\u001B[39m))\u001B[38;5;241m/\u001B[39m(houses\u001B[38;5;241m.\u001B[39marray\u001B[38;5;241m.\u001B[39msum() \u001B[38;5;241m-\u001B[39m \u001B[38;5;241m49\u001B[39m \u001B[38;5;241m-\u001B[39m \u001B[38;5;241m33\u001B[39m))\u001B[38;5;241m.\u001B[39msum())\n",
      "File \u001B[1;32m<__array_function__ internals>:180\u001B[0m, in \u001B[0;36mnan_to_num\u001B[1;34m(*args, **kwargs)\u001B[0m\n",
      "File \u001B[1;32m~\\AppData\\Local\\Programs\\Python\\Python310\\lib\\site-packages\\numpy\\lib\\type_check.py:516\u001B[0m, in \u001B[0;36mnan_to_num\u001B[1;34m(x, copy, nan, posinf, neginf)\u001B[0m\n\u001B[0;32m    514\u001B[0m \u001B[38;5;28;01mfor\u001B[39;00m d \u001B[38;5;129;01min\u001B[39;00m dest:\n\u001B[0;32m    515\u001B[0m     idx_nan \u001B[38;5;241m=\u001B[39m isnan(d)\n\u001B[1;32m--> 516\u001B[0m     idx_posinf \u001B[38;5;241m=\u001B[39m \u001B[43misposinf\u001B[49m\u001B[43m(\u001B[49m\u001B[43md\u001B[49m\u001B[43m)\u001B[49m\n\u001B[0;32m    517\u001B[0m     idx_neginf \u001B[38;5;241m=\u001B[39m isneginf(d)\n\u001B[0;32m    518\u001B[0m     _nx\u001B[38;5;241m.\u001B[39mcopyto(d, nan, where\u001B[38;5;241m=\u001B[39midx_nan)\n",
      "File \u001B[1;32m<__array_function__ internals>:180\u001B[0m, in \u001B[0;36misposinf\u001B[1;34m(*args, **kwargs)\u001B[0m\n",
      "File \u001B[1;32m~\\AppData\\Local\\Programs\\Python\\Python310\\lib\\site-packages\\numpy\\lib\\ufunclike.py:53\u001B[0m, in \u001B[0;36m_fix_out_named_y.<locals>.func\u001B[1;34m(x, out, **kwargs)\u001B[0m\n\u001B[0;32m     50\u001B[0m \u001B[38;5;28;01mif\u001B[39;00m \u001B[38;5;124m'\u001B[39m\u001B[38;5;124my\u001B[39m\u001B[38;5;124m'\u001B[39m \u001B[38;5;129;01min\u001B[39;00m kwargs:\n\u001B[0;32m     51\u001B[0m     \u001B[38;5;66;03m# we already did error checking in _deprecate_out_named_y\u001B[39;00m\n\u001B[0;32m     52\u001B[0m     out \u001B[38;5;241m=\u001B[39m kwargs\u001B[38;5;241m.\u001B[39mpop(\u001B[38;5;124m'\u001B[39m\u001B[38;5;124my\u001B[39m\u001B[38;5;124m'\u001B[39m)\n\u001B[1;32m---> 53\u001B[0m \u001B[38;5;28;01mreturn\u001B[39;00m f(x, out\u001B[38;5;241m=\u001B[39mout, \u001B[38;5;241m*\u001B[39m\u001B[38;5;241m*\u001B[39mkwargs)\n",
      "File \u001B[1;32m~\\AppData\\Local\\Programs\\Python\\Python310\\lib\\site-packages\\numpy\\lib\\ufunclike.py:190\u001B[0m, in \u001B[0;36misposinf\u001B[1;34m(x, out)\u001B[0m\n\u001B[0;32m    188\u001B[0m is_inf \u001B[38;5;241m=\u001B[39m nx\u001B[38;5;241m.\u001B[39misinf(x)\n\u001B[0;32m    189\u001B[0m \u001B[38;5;28;01mtry\u001B[39;00m:\n\u001B[1;32m--> 190\u001B[0m     signbit \u001B[38;5;241m=\u001B[39m \u001B[38;5;241m~\u001B[39m\u001B[43mnx\u001B[49m\u001B[38;5;241;43m.\u001B[39;49m\u001B[43msignbit\u001B[49m\u001B[43m(\u001B[49m\u001B[43mx\u001B[49m\u001B[43m)\u001B[49m\n\u001B[0;32m    191\u001B[0m \u001B[38;5;28;01mexcept\u001B[39;00m \u001B[38;5;167;01mTypeError\u001B[39;00m \u001B[38;5;28;01mas\u001B[39;00m e:\n\u001B[0;32m    192\u001B[0m     dtype \u001B[38;5;241m=\u001B[39m nx\u001B[38;5;241m.\u001B[39masanyarray(x)\u001B[38;5;241m.\u001B[39mdtype\n",
      "\u001B[1;31mKeyboardInterrupt\u001B[0m: "
     ]
    }
   ],
   "source": [
    "_,_, its2, sats2 = get_econ_tension_amen(0.5, 40, 0.2, 2,1)"
   ],
   "metadata": {
    "collapsed": false
   }
  },
  {
   "cell_type": "code",
   "execution_count": null,
   "outputs": [],
   "source": [
    "print(sats2)"
   ],
   "metadata": {
    "collapsed": false
   }
  },
  {
   "cell_type": "code",
   "execution_count": 72,
   "outputs": [
    {
     "data": {
      "text/plain": "<Figure size 792x360 with 1 Axes>",
      "image/png": "[encoded data removed]"
     },
     "metadata": {
      "needs_background": "light"
     },
     "output_type": "display_data"
    }
   ],
   "source": [
    "plt.plot(its[8:],np.array(sats[8:]), label = 'Economic Tension: Without amenities')\n",
    "plt.plot(its2[8:], sats2[8:], label = 'Economic Tension: With amenities')\n",
    "plt.title('Economic Tension vs Iterations', fontsize = 25)\n",
    "plt.xlabel('Iterations', fontsize = 25)\n",
    "plt.ylabel('Economic Tension', fontsize = 25)\n",
    "plt.yticks(fontsize=20)\n",
    "plt.xticks(fontsize=20)\n",
    "plt.legend()\n",
    "plt.savefig('tension_graph.pdf',bbox_inches='tight')"
   ],
   "metadata": {
    "collapsed": false
   }
  },
  {
   "cell_type": "code",
   "execution_count": null,
   "outputs": [],
   "source": [],
   "metadata": {
    "collapsed": false
   }
  },
  {
   "cell_type": "code",
   "execution_count": null,
   "outputs": [],
   "source": [],
   "metadata": {
    "collapsed": false
   }
  }
 ],
 "metadata": {
  "kernelspec": {
   "display_name": "Python 3.9.13 ('base')",
   "language": "python",
   "name": "python3"
  },
  "language_info": {
   "codemirror_mode": {
    "name": "ipython",
    "version": 3
   },
   "file_extension": ".py",
   "mimetype": "text/x-python",
   "name": "python",
   "nbconvert_exporter": "python",
   "pygments_lexer": "ipython3",
   "version": "3.9.13"
  },
  "vscode": {
   "interpreter": {
    "hash": "263f43d4fc116f0e83ae0dbd5a33e4be457aee84a24e85cc45877ca1cd056e79"
   }
  }
 },
 "nbformat": 4,
 "nbformat_minor": 5
}
