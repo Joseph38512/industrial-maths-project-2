{
 "cells": [
  {
   "cell_type": "code",
   "execution_count": 230,
   "id": "b15e1907",
   "metadata": {},
   "outputs": [],
   "source": [
    "%matplotlib inline\n",
    "import matplotlib.pyplot as plt\n",
    "plt.rcParams[\"figure.figsize\"] = (11, 5)  #set default figure size\n",
    "from random import uniform, seed\n",
    "from math import sqrt\n",
    "import numpy as np\n",
    "from Cell2D import Cell2D, draw_array\n",
    "from matplotlib.colors import LinearSegmentedColormap\n",
    "from scipy import signal\n",
    "import seaborn as sns\n",
    "from numpy import random\n",
    "palette = sns.color_palette()\n",
    "colors = 'white', 'red', 'blue', 'orange'\n",
    "cmap = LinearSegmentedColormap.from_list('cmap', colors)"
   ]
  },
  {
   "cell_type": "code",
   "execution_count": 479,
   "id": "2f5ca9fa",
   "metadata": {},
   "outputs": [],
   "source": [
    "seed(10)\n",
    "class grid_houses(Cell2D):\n",
    "    \"\"\"Represents a grid of Schelling agents.\"\"\"\n",
    "    \n",
    "    def __init__(self, n, prob_empty,kernel):\n",
    "        \"\"\"Initializes the attributes.\n",
    "        \n",
    "        n: number of rows\n",
    "        p: happiness threshold on the fraction of similar neighbors\n",
    "        \"\"\"\n",
    "        super().__init__(n)\n",
    "        self.prob_empty = prob_empty    # probability of empty cells occurring\n",
    "        self.kernel = kernel\n",
    "        # 0 is empty, 1 is red, 2 is blue\n",
    "        choices = np.array([0, 1], dtype = np.int8)\n",
    "        # use the numpy routine choice to select the different cells with probability\n",
    "\n",
    "        self.values = np.random.rand(n, n) # uniformly distribute the values\n",
    "        self.array = np.random.choice(2, (n, n), p = [self.prob_empty, 1 - self.prob_empty])\n",
    "        self.values= np.multiply(self.values, self.array)\n",
    "\n",
    "    def average_neighbors(self):\n",
    "        out = signal.convolve2d(self.values, self.kernel, boundary='fill', mode='same')/kernel.sum()\n",
    "        return(out)\n",
    "\n",
    "    def draw_values(self):\n",
    "        return draw_array(self.values)\n",
    "\n",
    "    def update_values(self, grid_agents, lam):\n",
    "        self.values = lam*self.average_neighbors() + grid_agents.affluences\n",
    "\n",
    "    def draw_neighbors(self):\n",
    "        return draw_array(self.average_neighbors())\n",
    "\n",
    "class grid_agents(Cell2D):\n",
    "    \"\"\"Represents a grid of Schelling agents.\"\"\"\n",
    "\n",
    "    def __init__(self, n, prob_empty,grid_houses):\n",
    "        \"\"\"Initializes the attributes.\n",
    "        \n",
    "        n: number of rows\n",
    "        p: happiness threshold on the fraction of similar neighbors\n",
    "        \"\"\"\n",
    "        super().__init__(n)\n",
    "        self.affluences = np.random.rand(n,n)\n",
    "        self.prob_emp = prob_empty    # probability of empty cells occurring\n",
    "        self.prob_rich = (1 - self.prob_emp)/3\n",
    "        self.prob_middle= (1 - self.prob_emp)/3\n",
    "        self.prob_poor = (1 - self.prob_emp)/3\n",
    "        self.size = n\n",
    "        # 0 is empty, 1 is red, 2 is blue\n",
    "        choices = np.array([0, 1], dtype = np.int8)\n",
    "        \n",
    "        probs = [self.prob_emp, 1 -self.prob_emp]\n",
    "\n",
    "        # use the numpy routine choice to select the different cells with probability\n",
    "        self.array = np.random.choice(choices, (n, n), p = probs)\n",
    "        self.array = np.multiply(self.array,grid_houses.array)\n",
    "        self.affluences = np.multiply(self.affluences,grid_houses.array)\n",
    "\n",
    "    def draw(self):\n",
    "        \"\"\"Draws the cells.\"\"\"\n",
    "        return draw_array(self.array, cmap=cmap, vmax=3)\n",
    "    def draw_affluences(self):\n",
    "        return draw_array(self.affluences)\n",
    "\n",
    "    def swap_people(self, grid_houses):\n",
    "        i1 = random.randint(0,self.size)\n",
    "        j1 = random.randint(0,self.size)\n",
    "        i2 = random.randint(0,self.size)\n",
    "        j2 = random.randint(0,self.size)\n",
    "        #print(i1,j1,i2,j2)\n",
    "        if self.array[i1][j1] != 0 and self.array[i2][j2] != 0:\n",
    "            if (grid_houses.values[i1][j1]- self.affluences[i1][j1])**2 + (grid_houses.values[i2][j2]- self.affluences[i2][j2]) **2> (grid_houses.values[i1][j1]- self.affluences[i2][j2])**2 + (grid_houses.values[i2][j2]- self.affluences[i1][j1])**2:\n",
    "                a1 = self.array[i1][j1]\n",
    "                b1 = self.affluences[i1][j1]\n",
    "                self.array[i1][j1] = self.array[i2][j2]\n",
    "                self.affluences[i1][j1] = self.affluences[i2][j2]\n",
    "                self.array[i2][j2] = a1\n",
    "                self.affluences[i2][j2] = b1\n",
    "\n"
   ]
  },
  {
   "cell_type": "code",
   "execution_count": 480,
   "outputs": [],
   "source": [
    "# kernel used for counting a cell's neighbours\n",
    "kernel = np.array([[1,1,1, 1, 1],\n",
    "                   [1,1,1, 1, 1],\n",
    "                   [1,1, 0, 1,1],\n",
    "                   [1,1,1, 1, 1],\n",
    "                   [1,1,1, 1, 1]], dtype=np.int8)"
   ],
   "metadata": {
    "collapsed": false
   }
  },
  {
   "cell_type": "code",
   "execution_count": null,
   "outputs": [],
   "source": [],
   "metadata": {
    "collapsed": false
   }
  },
  {
   "cell_type": "code",
   "execution_count": 505,
   "outputs": [],
   "source": [
    "grid_houses1 = grid_houses(50,.1, kernel)\n",
    "grid_agents1 = grid_agents(50, 0.1, grid_houses1)"
   ],
   "metadata": {
    "collapsed": false
   }
  },
  {
   "cell_type": "code",
   "execution_count": 506,
   "outputs": [
    {
     "name": "stdout",
     "output_type": "stream",
     "text": [
      "[[0 1 1 ... 1 1 1]\n",
      " [1 1 1 ... 1 1 1]\n",
      " [1 1 1 ... 1 1 1]\n",
      " ...\n",
      " [1 1 1 ... 1 0 0]\n",
      " [1 1 1 ... 1 1 1]\n",
      " [1 1 1 ... 1 1 1]]\n"
     ]
    }
   ],
   "source": [
    "print(grid_houses1.array)"
   ],
   "metadata": {
    "collapsed": false
   }
  },
  {
   "cell_type": "code",
   "execution_count": 507,
   "outputs": [
    {
     "data": {
      "text/plain": "<matplotlib.image.AxesImage at 0x232c5f70ca0>"
     },
     "execution_count": 507,
     "metadata": {},
     "output_type": "execute_result"
    },
    {
     "data": {
      "text/plain": "<Figure size 792x360 with 1 Axes>",
      "image/png": "[encoded data removed]"
     },
     "metadata": {},
     "output_type": "display_data"
    }
   ],
   "source": [
    "grid_houses1.draw_values()"
   ],
   "metadata": {
    "collapsed": false
   }
  },
  {
   "cell_type": "code",
   "execution_count": 514,
   "outputs": [],
   "source": [
    "for i in range(150000):\n",
    "    grid_houses1.update_values(grid_agents1, 1/3)\n",
    "    grid_agents1.swap_people(grid_houses1)"
   ],
   "metadata": {
    "collapsed": false
   }
  },
  {
   "cell_type": "code",
   "execution_count": 515,
   "id": "c655499a",
   "metadata": {},
   "outputs": [
    {
     "data": {
      "text/plain": "<matplotlib.image.AxesImage at 0x232c604df60>"
     },
     "execution_count": 515,
     "metadata": {},
     "output_type": "execute_result"
    },
    {
     "data": {
      "text/plain": "<Figure size 792x360 with 1 Axes>",
      "image/png": "[encoded data removed]"
     },
     "metadata": {},
     "output_type": "display_data"
    }
   ],
   "source": [
    "grid_houses1.draw_values()"
   ]
  }
 ],
 "metadata": {
  "kernelspec": {
   "display_name": "Python 3 (ipykernel)",
   "language": "python",
   "name": "python3"
  },
  "language_info": {
   "codemirror_mode": {
    "name": "ipython",
    "version": 3
   },
   "file_extension": ".py",
   "mimetype": "text/x-python",
   "name": "python",
   "nbconvert_exporter": "python",
   "pygments_lexer": "ipython3",
   "version": "3.10.2"
  }
 },
 "nbformat": 4,
 "nbformat_minor": 5
}
