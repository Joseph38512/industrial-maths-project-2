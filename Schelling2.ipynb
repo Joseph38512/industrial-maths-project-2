{
 "cells": [
  {
   "cell_type": "markdown",
   "metadata": {},
   "source": [
    "## Agent Based Models\n",
    "\n",
    "Slightly modified and annotated code examples from Think Complexity, 2nd edition.\n",
    "https://github.com/AllenDowney/ThinkComplexity2/blob/master/notebooks/chap09.ipynb\n",
    "Copyright 2016 Allen Downey, MIT License http://opensource.org/licenses/MIT"
   ]
  },
  {
   "cell_type": "code",
   "execution_count": 1,
   "metadata": {},
   "outputs": [],
   "source": [
    "import matplotlib.pyplot as plt\n",
    "import numpy as np\n",
    "from utils import decorate, savefig\n",
    "import seaborn as sns\n",
    "from matplotlib.colors import LinearSegmentedColormap\n",
    "\n",
    "\n",
    "def locs_where(condition):\n",
    "    \"\"\"Find cells where a logical array is True.\n",
    "    \n",
    "    condition: logical array\n",
    "    \n",
    "    returns: list of location tuples that are nonzero and fulfil the condition \n",
    "    \"\"\"\n",
    "    return list(zip(*np.nonzero(condition)))\n",
    "\n",
    "\n",
    "\n",
    "# make a custom color map\n",
    "palette = sns.color_palette('muted')\n",
    "colors = 'white', palette[1], palette[0]\n",
    "cmap = LinearSegmentedColormap.from_list('cmap', colors)\n",
    "#import correlate2d from scipy signal so that neighbours can be counted\n",
    "from scipy.signal import correlate2d\n",
    "#use Cell2D class from Cell2D.py and also draw_array function\n",
    "from Cell2D import Cell2D, draw_array\n",
    "\n",
    "class Schelling(Cell2D):\n",
    "    \"\"\"Represents a grid of Schelling agents.\"\"\"\n",
    "    # options for correlate2d so that the boundaries wrap around when counting neighbours\n",
    "    options = dict(mode='same', boundary='wrap')\n",
    "    # kernel used for counting a cell's neighbours\n",
    "    kernel = np.array([[1, 1, 1],\n",
    "                       [1, 0, 1],\n",
    "                       [1, 1, 1]], dtype=np.int8)\n",
    "    \n",
    "    def __init__(self, n, p, prob_empty):\n",
    "        \"\"\"Initializes the attributes.\n",
    "        \n",
    "        n: number of rows\n",
    "        p: happiness threshold on the fraction of similar neighbors\n",
    "        \"\"\"\n",
    "        super().__init__(n)\n",
    "        self.p = p  # happiness threshold\n",
    "        self.prob_emp = prob_empty    # probability of empty cells occurring\n",
    "        self.prob_red = (1 - self.prob_emp)/2.0   # probability of red cells occurring\n",
    "        self.prob_blue = self.prob_red  # probability of blue cells occuring\n",
    "        # 0 is empty, 1 is red, 2 is blue\n",
    "        choices = np.array([0, 1, 2], dtype = np.int8)\n",
    "        probs = [self.prob_emp, self.prob_red , self.prob_blue]\n",
    "        # use the numpy routine choice to select the different cells with probability\n",
    "        self.array = np.random.choice(choices, (n, n), probs)\n",
    "\n",
    "    def count_neighbors(self):\n",
    "        \"\"\"Surveys neighboring cells.\n",
    "        \n",
    "        returns: tuple of\n",
    "            empty: True where cells are empty\n",
    "            frac_red: fraction of red neighbors around each cell\n",
    "            frac_blue: fraction of blue neighbors around each cell\n",
    "            frac_same: fraction of neighbors with the same color\n",
    "        \"\"\"\n",
    "        a = self.array \n",
    "        num_neighbors = np.zeros((self.n,self.n)) \n",
    "        empty = (a==0) # array with true and false for where a=0, that is empty\n",
    "        red =   (a==1)\n",
    "        blue =  (a==2)\n",
    "        #print(\"empty \", empty, \"red\", red, \"blue\", blue)\n",
    "        # count red neighbors, blue neighbors, and total\n",
    "        num_red  = correlate2d(red, self.kernel, **self.options)\n",
    "        num_blue = correlate2d(blue, self.kernel, **self.options)\n",
    "        \n",
    "        num_neighbors = num_red + num_blue\n",
    "        #print(\"num_neigbours\",num_neighbors)\n",
    "        \n",
    "        # compute fraction of similar neighbors\n",
    "        \n",
    "        # the next two lines replaces some code in ThinkComplexity2\n",
    "        frac_red = np.where(num_neighbors>0, num_red / num_neighbors,0 )\n",
    "        frac_blue = np.where(num_neighbors>0, num_blue/ num_neighbors,0 )\n",
    "        #print(\"where num_neighbours is zero \", a[num_neighbors ==0])\n",
    "       \n",
    "        # for each cell, compute the fraction of neighbors with the same color\n",
    "        frac_same = np.where(red, frac_red, frac_blue)\n",
    "        #print(\"frac_red \", frac_red, \"frac_blue \", frac_blue, \"num_neighbors\",num_neighbors )\n",
    "\n",
    "        # compute fraction of similar neighbors\n",
    "        # for empty cells, frac_same is NaN\n",
    "        \n",
    "        frac_same[empty] = np.nan\n",
    "\n",
    "        return empty, frac_red, frac_blue, frac_same\n",
    "        \n",
    "    \n",
    "    def segregation(self):\n",
    "        \"\"\"Computes the average fraction of similar neighbors.\n",
    "        \n",
    "        returns: fraction of similar neighbors, averaged over cells\n",
    "        \"\"\"\n",
    "        _, _, _, frac_same = self.count_neighbors()\n",
    "        return np.nanmean(frac_same)\n",
    "    \n",
    "    def step(self):\n",
    "        \"\"\"Executes one time step.\n",
    "                \n",
    "        returns: fraction of similar neighbors, averaged over cells\n",
    "        \"\"\"\n",
    "        a = self.array\n",
    "        empty, _, _, frac_same = self.count_neighbors()\n",
    "        \n",
    "        # find the unhappy cells (ignore NaN in frac_same)\n",
    "        with np.errstate(invalid='ignore'):\n",
    "            unhappy = frac_same < self.p\n",
    "        \n",
    "        unhappy_locs = locs_where(unhappy)\n",
    "        #print(\"unhappy locs\", unhappy_locs)\n",
    "        \n",
    "        # find the empty cells\n",
    "        empty_locs = locs_where(empty)\n",
    "       \n",
    "        #print(\"empty locs \", empty_locs)\n",
    "\n",
    "        # shuffle the unhappy cells\n",
    "        if len(unhappy_locs):\n",
    "            np.random.shuffle(unhappy_locs)\n",
    "        \n",
    "        # for each unhappy cell, choose a random destination\n",
    "        num_empty = np.sum(empty) # find out how many empty cells there are\n",
    "        \n",
    "        for source in unhappy_locs:\n",
    "            i = np.random.randint(num_empty) # random number chosen from empty cell list\n",
    "            # here a random empty cell is chosen as a destination without considering if  happiness will be improved\n",
    "            dest = empty_locs[i]\n",
    "            \n",
    "            # move\n",
    "            a[dest] = a[source] # destination cell will be red if source red and blue if source is blue\n",
    "            a[source] = 0       # source cell set to empty\n",
    "            empty_locs[i] = source  # source cell added to list of empty cells\n",
    "        \n",
    "            # check that the number of empty cells is unchanged\n",
    "            num_empty2 = np.sum(a==0)\n",
    "            assert num_empty == num_empty2\n",
    "        \n",
    "        # return the average fraction of similar neighbors\n",
    "        return np.nanmean(frac_same)  \n",
    "        \n",
    "    def draw(self):\n",
    "        \"\"\"Draws the cells.\"\"\"\n",
    "        return draw_array(self.array, cmap=cmap, vmax=2)\n",
    "    \n",
    "\n"
   ]
  },
  {
   "cell_type": "code",
   "execution_count": 2,
   "metadata": {},
   "outputs": [
    {
     "data": {
      "text/plain": [
       "0.4238095238095238"
      ]
     },
     "execution_count": 2,
     "metadata": {},
     "output_type": "execute_result"
    },
    {
     "data": {
      "image/png": "[encoded data removed]",
      "text/plain": [
       "<Figure size 432x288 with 1 Axes>"
      ]
     },
     "metadata": {},
     "output_type": "display_data"
    }
   ],
   "source": [
    "grid = Schelling(5, 0.3, 0.4)\n",
    "grid.draw()\n",
    "grid.segregation()"
   ]
  },
  {
   "cell_type": "code",
   "execution_count": 3,
   "metadata": {},
   "outputs": [
    {
     "data": {
      "image/png": "[encoded data removed]",
      "text/plain": [
       "<Figure size 432x288 with 1 Axes>"
      ]
     },
     "metadata": {},
     "output_type": "display_data"
    }
   ],
   "source": [
    "grid = Schelling(5, 0.5, 0.4)\n",
    "grid.animate(frames=30, interval=0.1)"
   ]
  },
  {
   "cell_type": "code",
   "execution_count": 4,
   "metadata": {},
   "outputs": [
    {
     "name": "stderr",
     "output_type": "stream",
     "text": [
      "C:\\Users\\heath\\Anaconda3\\lib\\site-packages\\ipykernel_launcher.py:79: RuntimeWarning: invalid value encountered in true_divide\n",
      "C:\\Users\\heath\\Anaconda3\\lib\\site-packages\\ipykernel_launcher.py:80: RuntimeWarning: invalid value encountered in true_divide\n"
     ]
    },
    {
     "name": "stdout",
     "output_type": "stream",
     "text": [
      "Saving figure to file schelling\n"
     ]
    },
    {
     "data": {
      "image/png": "[encoded data removed]",
      "text/plain": [
       "<Figure size 720x288 with 3 Axes>"
      ]
     },
     "metadata": {},
     "output_type": "display_data"
    }
   ],
   "source": [
    "from utils import three_frame\n",
    "\n",
    "grid = Schelling(100, 0.3,0.4)\n",
    "three_frame(grid, [0, 2, 8])\n",
    "\n",
    "savefig('schelling')"
   ]
  },
  {
   "cell_type": "code",
   "execution_count": 5,
   "metadata": {},
   "outputs": [
    {
     "name": "stderr",
     "output_type": "stream",
     "text": [
      "C:\\Users\\heath\\Anaconda3\\lib\\site-packages\\ipykernel_launcher.py:79: RuntimeWarning: invalid value encountered in true_divide\n",
      "C:\\Users\\heath\\Anaconda3\\lib\\site-packages\\ipykernel_launcher.py:80: RuntimeWarning: invalid value encountered in true_divide\n"
     ]
    },
    {
     "name": "stdout",
     "output_type": "stream",
     "text": [
      "0.5 0.8827515991471216 0.38275159914712165\n",
      "0.4 0.8295283191702248 0.4295283191702248\n",
      "0.3 0.7445305260435748 0.44453052604357485\n",
      "0.2 0.6023078005205036 0.4023078005205036\n",
      "Saving figure to file schelling_p\n"
     ]
    },
    {
     "data": {
      "image/png": "[encoded data removed]",
      "text/plain": [
       "<Figure size 432x288 with 1 Axes>"
      ]
     },
     "metadata": {
      "needs_background": "light"
     },
     "output_type": "display_data"
    }
   ],
   "source": [
    "from utils import set_palette\n",
    "set_palette('Blues', 5, reverse=True)\n",
    "colours = ['r','g','b','purple','yellow'] \n",
    "colour_pos = 0;\n",
    "np.random.seed(16) # a seed number for the pseudo-random number generator. \n",
    "# Useful to product the same random sequence when testing\n",
    "\n",
    "for p in [0.5, 0.4, 0.3, 0.2]:\n",
    "    grid = Schelling(100, p, 0.4)\n",
    "    segs = [grid.step() for i in range(12)]\n",
    "    plt.plot(segs, label='p = %.1f' % p,color = colours[colour_pos] )\n",
    "    print(p, segs[-1], segs[-1] - p)\n",
    "    colour_pos = colour_pos + 1\n",
    "    \n",
    "decorate(xlabel='Time steps', ylabel='Segregation',\n",
    "                loc='lower right', ylim=[0, 1])\n",
    "\n",
    "savefig('schelling_p')"
   ]
  },
  {
   "cell_type": "code",
   "execution_count": null,
   "metadata": {},
   "outputs": [],
   "source": []
  },
  {
   "cell_type": "code",
   "execution_count": null,
   "metadata": {},
   "outputs": [],
   "source": []
  }
 ],
 "metadata": {
  "interpreter": {
   "hash": "14754f879a1452497696354ff10339b2b4801b0b17dbcc64cfd414691ba93d34"
  },
  "kernelspec": {
   "display_name": "Python 3 (ipykernel)",
   "language": "python",
   "name": "python3"
  },
  "language_info": {
   "codemirror_mode": {
    "name": "ipython",
    "version": 3
   },
   "file_extension": ".py",
   "mimetype": "text/x-python",
   "name": "python",
   "nbconvert_exporter": "python",
   "pygments_lexer": "ipython3",
   "version": "3.7.1"
  }
 },
 "nbformat": 4,
 "nbformat_minor": 2
}
